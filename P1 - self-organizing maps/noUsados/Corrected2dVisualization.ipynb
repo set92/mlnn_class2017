{
 "cells": [
  {
   "cell_type": "code",
   "execution_count": 36,
   "metadata": {},
   "outputs": [
    {
     "name": "stdout",
     "output_type": "stream",
     "text": [
      "# of tweets: 77111\n"
     ]
    },
    {
     "data": {
      "text/html": [
       "<div>\n",
       "<style>\n",
       "    .dataframe thead tr:only-child th {\n",
       "        text-align: right;\n",
       "    }\n",
       "\n",
       "    .dataframe thead th {\n",
       "        text-align: left;\n",
       "    }\n",
       "\n",
       "    .dataframe tbody tr th {\n",
       "        vertical-align: top;\n",
       "    }\n",
       "</style>\n",
       "<table border=\"1\" class=\"dataframe\">\n",
       "  <thead>\n",
       "    <tr style=\"text-align: right;\">\n",
       "      <th></th>\n",
       "      <th>text</th>\n",
       "    </tr>\n",
       "  </thead>\n",
       "  <tbody>\n",
       "    <tr>\n",
       "      <th>0</th>\n",
       "      <td>@sarahtavel What #MustHave #tech gadget can yo...</td>\n",
       "    </tr>\n",
       "    <tr>\n",
       "      <th>1</th>\n",
       "      <td>Start-ups from every continent heading to #web...</td>\n",
       "    </tr>\n",
       "    <tr>\n",
       "      <th>2</th>\n",
       "      <td>I'm at the #WebSummit2015 this week. On ali(at...</td>\n",
       "    </tr>\n",
       "    <tr>\n",
       "      <th>3</th>\n",
       "      <td>@jalak What #MustHave #tech gadget can you not...</td>\n",
       "    </tr>\n",
       "    <tr>\n",
       "      <th>4</th>\n",
       "      <td>#websummit is about to kickoff in #dublin! Wha...</td>\n",
       "    </tr>\n",
       "  </tbody>\n",
       "</table>\n",
       "</div>"
      ],
      "text/plain": [
       "                                                text\n",
       "0  @sarahtavel What #MustHave #tech gadget can yo...\n",
       "1  Start-ups from every continent heading to #web...\n",
       "2  I'm at the #WebSummit2015 this week. On ali(at...\n",
       "3  @jalak What #MustHave #tech gadget can you not...\n",
       "4  #websummit is about to kickoff in #dublin! Wha..."
      ]
     },
     "execution_count": 36,
     "metadata": {},
     "output_type": "execute_result"
    }
   ],
   "source": [
    "import json\n",
    "import pandas as pd\n",
    "\n",
    "tweets_file = 'websummit_dump_20151106155110'\n",
    "with open(tweets_file) as f:\n",
    "    tweets = json.load(f)\n",
    "    \n",
    "print('# of tweets:', len(tweets))\n",
    "\n",
    "tweet_text = [tweet['text'] for tweet in tweets]\n",
    "df = pd.DataFrame({'text': tweet_text})\n",
    "df.head()"
   ]
  },
  {
   "cell_type": "code",
   "execution_count": 27,
   "metadata": {},
   "outputs": [],
   "source": [
    "import re\n",
    "\n",
    "class TweetPreprocessor(object):\n",
    "\n",
    "    def __init__(self):\n",
    "        self.FLAGS = re.MULTILINE | re.DOTALL\n",
    "        self.ALLCAPS = '<allcaps>'\n",
    "        self.HASHTAG = '<hashtag>'\n",
    "        self.URL = '<url>'\n",
    "        self.USER = '<user>'\n",
    "        self.SMILE = '<smile>'\n",
    "        self.LOLFACE = '<lolface>'\n",
    "        self.SADFACE = '<sadface>'\n",
    "        self.NEUTRALFACE = '<neutralface>'\n",
    "        self.HEART = '<heart>'\n",
    "        self.NUMBER = '<number>'\n",
    "        self.REPEAT = '<repeat>'\n",
    "        self.ELONG = '<elong>'\n",
    "\n",
    "    def _hashtag(self, text):\n",
    "        text = text.group()\n",
    "        hashtag_body = text[1:]\n",
    "        if hashtag_body.isupper():\n",
    "            result = (self.HASHTAG + \" {} \" + self.ALLCAPS).format(hashtag_body)\n",
    "        else:\n",
    "            result = \" \".join([self.HASHTAG] + re.findall(r\"(?=[A-Z])\", hashtag_body, flags=self.FLAGS))\n",
    "        return result\n",
    "\n",
    "    def _allcaps(self, text):\n",
    "        text = text.group()\n",
    "        return text.lower() + ' ' + self.ALLCAPS\n",
    "\n",
    "    def preprocess(self, text):\n",
    "        eyes, nose = r\"[8:=;]\", r\"['`\\-]?\"\n",
    "\n",
    "        re_sub = lambda pattern, repl: re.sub(pattern, repl, text, flags=self.FLAGS)\n",
    "\n",
    "        text = re_sub(r\"https?:\\/\\/\\S+\\b|www\\.(\\w+\\.)+\\S*\", self.URL)\n",
    "        text = re_sub(r\"/\",\" / \")\n",
    "        text = re_sub(r\"@\\w+\", self.USER)\n",
    "        text = re_sub(r\"{}{}[)dD]+|[)dD]+{}{}\".format(eyes, nose, nose, eyes), self.SMILE)\n",
    "        text = re_sub(r\"{}{}p+\".format(eyes, nose), self.LOLFACE)\n",
    "        text = re_sub(r\"{}{}\\(+|\\)+{}{}\".format(eyes, nose, nose, eyes), self.SADFACE)\n",
    "        text = re_sub(r\"{}{}[\\/|l*]\".format(eyes, nose), self.NEUTRALFACE)\n",
    "        text = re_sub(r\"<3\", self.HEART)\n",
    "        text = re_sub(r\"[-+]?[.\\d]*[\\d]+[:,.\\d]*\", self.NUMBER)\n",
    "        text = re_sub(r\"#\\S+\", self._hashtag)\n",
    "        text = re_sub(r\"([!?.]){2,}\", r\"\\1 \" + self.REPEAT)\n",
    "        text = re_sub(r\"\\b(\\S*?)(.)\\2{2,}\\b\", r\"\\1\\2 \" + self.ELONG)\n",
    "\n",
    "        text = re_sub(r\"([A-Z]){2,}\", self._allcaps)\n",
    "\n",
    "        return text.lower()"
   ]
  },
  {
   "cell_type": "code",
   "execution_count": 28,
   "metadata": {},
   "outputs": [
    {
     "name": "stdout",
     "output_type": "stream",
     "text": [
      "Before: @sarahtavel What #MustHave #tech gadget can you not travel without? Stop by stand D131 on Wed at #WebSummit #Dublin https://t.co/2wFLAVpGiV\n",
      "\n",
      "After: <user> what <hashtag>   <hashtag> gadget can you not travel without? stop by stand d<number> on wed at <hashtag>   <hashtag>  <url>\n"
     ]
    }
   ],
   "source": [
    "tweet_processor = TweetPreprocessor()\n",
    "\n",
    "# an example:\n",
    "tweet = \"@sarahtavel What #MustHave #tech gadget can you not travel without? Stop by stand D131 on Wed at #WebSummit #Dublin https://t.co/2wFLAVpGiV\"\n",
    "print(\"Before: \" + tweet + \"\\n\")\n",
    "print(\"After: \" + tweet_processor.preprocess(tweet))"
   ]
  },
  {
   "cell_type": "code",
   "execution_count": 38,
   "metadata": {},
   "outputs": [
    {
     "name": "stdout",
     "output_type": "stream",
     "text": [
      "[nltk_data] Downloading package stopwords to /home/gpa/nltk_data...\n",
      "[nltk_data]   Package stopwords is already up-to-date!\n"
     ]
    }
   ],
   "source": [
    "import nltk\n",
    "from nltk.corpus import stopwords\n",
    "from nltk.tokenize import TweetTokenizer\n",
    "\n",
    "tknzr = TweetTokenizer()\n",
    "nltk.download('stopwords')\n",
    "stop = stopwords.words('english')\n",
    "stop += ['<hashtag>', '<url>', '<allcaps>', '<number>', '<user>', '<repeat>', '<elong>', 'websummit']\n",
    "\n",
    "df['text_processed'] = \"\"\n",
    "index = 0\n",
    "\n",
    "for tweet in df['text']:\n",
    "    parts = tknzr.tokenize(tweet_processor.preprocess(tweet))\n",
    "    clean = [i for i in parts if i not in stop]\n",
    "    df['text_processed'][index] = clean\n",
    "    index += 1"
   ]
  },
  {
   "cell_type": "code",
   "execution_count": 52,
   "metadata": {},
   "outputs": [
    {
     "data": {
      "text/plain": [
       "77111"
      ]
     },
     "execution_count": 52,
     "metadata": {},
     "output_type": "execute_result"
    }
   ],
   "source": [
    "df['text_processed'].size"
   ]
  },
  {
   "cell_type": "code",
   "execution_count": 49,
   "metadata": {},
   "outputs": [],
   "source": [
    "from sklearn.feature_extraction.text import TfidfVectorizer\n",
    "\n",
    "tweet_texts_processed = [str.join(\" \", tweet_preprocessed ) for tweet_preprocessed in df['text_processed']]\n",
    "\n",
    "vectorizer = TfidfVectorizer(min_df=4, max_features = 10000)\n",
    "vz = vectorizer.fit_transform(tweet_texts_processed)"
   ]
  },
  {
   "cell_type": "code",
   "execution_count": null,
   "metadata": {},
   "outputs": [],
   "source": [
    "from sklearn.decomposition import TruncatedSVD\n",
    "\n",
    "svd = TruncatedSVD(n_components=50, random_state=0)\n",
    "svd_tfidf = svd.fit_transform(vz)\n",
    "\n",
    "from sklearn.manifold import TSNE\n",
    "\n",
    "tsne_model = TSNE(n_components=2, verbose=1, random_state=0)\n",
    "tsne_tfidf = tsne_model.fit_transform(svd_tfidf)"
   ]
  },
  {
   "cell_type": "markdown",
   "metadata": {},
   "source": [
    "## MiniBatchKMeans"
   ]
  },
  {
   "cell_type": "code",
   "execution_count": null,
   "metadata": {},
   "outputs": [],
   "source": [
    "from sklearn.cluster import MiniBatchKMeans\n",
    "\n",
    "num_clusters = 10\n",
    "kmeans_model = MiniBatchKMeans(n_clusters=num_clusters, init='k-means++', n_init=1, \n",
    "                         init_size=1000, batch_size=1000, verbose=False, max_iter=1000)\n",
    "kmeans = kmeans_model.fit(vz)\n",
    "kmeans_clusters = kmeans.predict(vz)\n",
    "kmeans_distances = kmeans.transform(vz)\n",
    "\n",
    "tsne_kmeans = tsne_model.fit_transform(kmeans_distances)"
   ]
  },
  {
   "cell_type": "code",
   "execution_count": null,
   "metadata": {},
   "outputs": [],
   "source": [
    "import numpy as np\n",
    "\n",
    "colormap = np.array([\n",
    "    \"#1f77b4\", \"#aec7e8\", \"#ff7f0e\", \"#ffbb78\", \"#2ca02c\", \n",
    "    \"#98df8a\", \"#d62728\", \"#ff9896\", \"#9467bd\", \"#c5b0d5\", \n",
    "    \"#8c564b\", \"#c49c94\", \"#e377c2\", \"#f7b6d2\", \"#7f7f7f\", \n",
    "    \"#c7c7c7\", \"#bcbd22\", \"#dbdb8d\", \"#17becf\", \"#9edae5\"\n",
    "])\n",
    "\n",
    "plot_kmeans = bp.figure(plot_width=900, plot_height=700, title=\"Web Summit 2015 tweets (k-means)\",\n",
    "    tools=\"pan,wheel_zoom,box_zoom,reset,hover,previewsave\",\n",
    "    x_axis_type=None, y_axis_type=None, min_border=1)\n",
    "\n",
    "plot_kmeans.scatter(x=tsne_kmeans[:,0], y=tsne_kmeans[:,1], \n",
    "                    color=colormap[kmeans_clusters][:10000])\n",
    "\n",
    "hover = plot_kmeans.select(dict(type=HoverTool))\n",
    "hover.tooltips={\"tweet\": \"@tweet (processed: \\\"@processed\\\" - cluster: @cluster)\"}\n",
    "show(plot_kmeans)"
   ]
  },
  {
   "cell_type": "markdown",
   "metadata": {},
   "source": [
    "## KMeans"
   ]
  },
  {
   "cell_type": "code",
   "execution_count": null,
   "metadata": {},
   "outputs": [],
   "source": [
    "from sklearn.cluster import KMeans\n",
    "\n",
    "num_clusters = 10\n",
    "kmeans_model = KMeans(n_clusters=num_clusters, init='k-means++', n_init=1, \n",
    "                         init_size=1000, batch_size=1000, verbose=False, max_iter=1000)\n",
    "\n",
    "kmeans = kmeans_model.fit(vz)\n",
    "kmeans_clusters = kmeans.predict(vz)\n",
    "kmeans_distances = kmeans.transform(vz)\n",
    "\n",
    "tsne_kmeans = tsne_model.fit_transform(kmeans_distances)"
   ]
  },
  {
   "cell_type": "code",
   "execution_count": null,
   "metadata": {},
   "outputs": [],
   "source": [
    "import numpy as np\n",
    "\n",
    "colormap = np.array([\n",
    "    \"#1f77b4\", \"#aec7e8\", \"#ff7f0e\", \"#ffbb78\", \"#2ca02c\", \n",
    "    \"#98df8a\", \"#d62728\", \"#ff9896\", \"#9467bd\", \"#c5b0d5\", \n",
    "    \"#8c564b\", \"#c49c94\", \"#e377c2\", \"#f7b6d2\", \"#7f7f7f\", \n",
    "    \"#c7c7c7\", \"#bcbd22\", \"#dbdb8d\", \"#17becf\", \"#9edae5\"\n",
    "])\n",
    "\n",
    "plot_kmeans = bp.figure(plot_width=900, plot_height=700, title=\"Web Summit 2015 tweets (k-means)\",\n",
    "    tools=\"pan,wheel_zoom,box_zoom,reset,hover,previewsave\",\n",
    "    x_axis_type=None, y_axis_type=None, min_border=1)\n",
    "\n",
    "plot_kmeans.scatter(x=tsne_kmeans[:,0], y=tsne_kmeans[:,1], \n",
    "                    color=colormap[kmeans_clusters][:10000])\n",
    "\n",
    "hover = plot_kmeans.select(dict(type=HoverTool))\n",
    "hover.tooltips={\"tweet\": \"@tweet (processed: \\\"@processed\\\" - cluster: @cluster)\"}\n",
    "show(plot_kmeans)"
   ]
  },
  {
   "cell_type": "markdown",
   "metadata": {},
   "source": [
    "## LDA"
   ]
  },
  {
   "cell_type": "code",
   "execution_count": null,
   "metadata": {},
   "outputs": [],
   "source": [
    "n_topics = 15\n",
    "n_iter = 2000\n",
    "lda_model = lda.LDA(n_topics=n_topics, n_iter=n_iter)\n",
    "X_topics = lda_model.fit_transform(vz)\n",
    "\n",
    "tsne_lda = tsne_model.fit_transform(X_topics)"
   ]
  },
  {
   "cell_type": "code",
   "execution_count": null,
   "metadata": {},
   "outputs": [],
   "source": [
    "plot_lda = bp.figure(plot_width=900, plot_height=700, title=\"Web Summit 2015 tweets (LDA)\",\n",
    "    tools=\"pan,wheel_zoom,box_zoom,reset,hover,previewsave\",\n",
    "    x_axis_type=None, y_axis_type=None, min_border=1)\n",
    "\n",
    "plot_lda.scatter(x=tsne_lda[:,0], y=tsne_lda[:,1], \n",
    "                 color=colormap[lda_keys][:10000])\n",
    "\n",
    "hover = plot_lda.select(dict(type=HoverTool))\n",
    "hover.tooltips={\"tweet\": \"@tweet (processed: \\\"@processed\\\" - topic: @topic_key)\"}\n",
    "show(plot_lda)"
   ]
  }
 ],
 "metadata": {
  "kernelspec": {
   "display_name": "Python 3",
   "language": "python",
   "name": "python3"
  },
  "language_info": {
   "codemirror_mode": {
    "name": "ipython",
    "version": 3
   },
   "file_extension": ".py",
   "mimetype": "text/x-python",
   "name": "python",
   "nbconvert_exporter": "python",
   "pygments_lexer": "ipython3",
   "version": "3.5.2"
  }
 },
 "nbformat": 4,
 "nbformat_minor": 2
}
