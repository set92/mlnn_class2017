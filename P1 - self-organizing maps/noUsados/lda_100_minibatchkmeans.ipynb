{
 "cells": [
  {
   "cell_type": "code",
   "execution_count": 1,
   "metadata": {
    "collapsed": true
   },
   "outputs": [],
   "source": [
    "import pandas as pd\n",
    "import numpy as np\n",
    "from sklearn.cluster import MiniBatchKMeans, KMeans\n",
    "from sklearn.manifold import TSNE\n",
    "import matplotlib.pyplot as plt\n",
    "from sklearn.feature_extraction.text import TfidfVectorizer\n",
    "from sklearn import metrics\n",
    "from sklearn.cluster import MiniBatchKMeans, KMeans\n",
    "import matplotlib.cm as cm\n",
    "import lda"
   ]
  },
  {
   "cell_type": "code",
   "execution_count": 2,
   "metadata": {
    "collapsed": true
   },
   "outputs": [],
   "source": [
    "df = pd.read_pickle('my_df.pickle')"
   ]
  },
  {
   "cell_type": "code",
   "execution_count": 3,
   "metadata": {
    "collapsed": true
   },
   "outputs": [],
   "source": [
    "tweet_texts_processed = [str.join(\" \", x) for x in df['p1']] # list of pre-processed tweet texts\n",
    "\n",
    "vectorizer = TfidfVectorizer(min_df=4, max_features = 10000)\n",
    "vz = vectorizer.fit_transform(tweet_texts_processed)"
   ]
  },
  {
   "cell_type": "code",
   "execution_count": 4,
   "metadata": {},
   "outputs": [],
   "source": [
    "from sklearn.feature_extraction.text import CountVectorizer\n",
    "\n",
    "cvectorizer = CountVectorizer(min_df=4, max_features=10000, stop_words='english')\n",
    "cvz = cvectorizer.fit_transform(tweet_texts_processed)"
   ]
  },
  {
   "cell_type": "code",
   "execution_count": 5,
   "metadata": {},
   "outputs": [
    {
     "name": "stderr",
     "output_type": "stream",
     "text": [
      "INFO:lda:n_documents: 99\n",
      "INFO:lda:vocab_size: 19\n",
      "INFO:lda:n_words: 275\n",
      "INFO:lda:n_topics: 15\n",
      "INFO:lda:n_iter: 2000\n",
      "INFO:lda:<0> log likelihood: -1816\n",
      "INFO:lda:<10> log likelihood: -1097\n",
      "INFO:lda:<20> log likelihood: -1049\n",
      "INFO:lda:<30> log likelihood: -1047\n",
      "INFO:lda:<40> log likelihood: -1053\n",
      "INFO:lda:<50> log likelihood: -1027\n",
      "INFO:lda:<60> log likelihood: -1020\n",
      "INFO:lda:<70> log likelihood: -1034\n",
      "INFO:lda:<80> log likelihood: -1049\n",
      "INFO:lda:<90> log likelihood: -1047\n",
      "INFO:lda:<100> log likelihood: -1039\n",
      "INFO:lda:<110> log likelihood: -1042\n",
      "INFO:lda:<120> log likelihood: -1029\n",
      "INFO:lda:<130> log likelihood: -1038\n",
      "INFO:lda:<140> log likelihood: -1057\n",
      "INFO:lda:<150> log likelihood: -1025\n",
      "INFO:lda:<160> log likelihood: -1051\n",
      "INFO:lda:<170> log likelihood: -1038\n",
      "INFO:lda:<180> log likelihood: -1047\n",
      "INFO:lda:<190> log likelihood: -1034\n",
      "INFO:lda:<200> log likelihood: -1028\n",
      "INFO:lda:<210> log likelihood: -1073\n",
      "INFO:lda:<220> log likelihood: -1062\n",
      "INFO:lda:<230> log likelihood: -1041\n",
      "INFO:lda:<240> log likelihood: -1040\n",
      "INFO:lda:<250> log likelihood: -1042\n",
      "INFO:lda:<260> log likelihood: -1069\n",
      "INFO:lda:<270> log likelihood: -1048\n",
      "INFO:lda:<280> log likelihood: -1080\n",
      "INFO:lda:<290> log likelihood: -1080\n",
      "INFO:lda:<300> log likelihood: -1044\n",
      "INFO:lda:<310> log likelihood: -1058\n",
      "INFO:lda:<320> log likelihood: -1070\n",
      "INFO:lda:<330> log likelihood: -1027\n",
      "INFO:lda:<340> log likelihood: -1034\n",
      "INFO:lda:<350> log likelihood: -1043\n",
      "INFO:lda:<360> log likelihood: -1045\n",
      "INFO:lda:<370> log likelihood: -1050\n",
      "INFO:lda:<380> log likelihood: -1084\n",
      "INFO:lda:<390> log likelihood: -1028\n",
      "INFO:lda:<400> log likelihood: -1041\n",
      "INFO:lda:<410> log likelihood: -1059\n",
      "INFO:lda:<420> log likelihood: -1038\n",
      "INFO:lda:<430> log likelihood: -1036\n",
      "INFO:lda:<440> log likelihood: -1083\n",
      "INFO:lda:<450> log likelihood: -1043\n",
      "INFO:lda:<460> log likelihood: -1035\n",
      "INFO:lda:<470> log likelihood: -1065\n",
      "INFO:lda:<480> log likelihood: -1054\n",
      "INFO:lda:<490> log likelihood: -1014\n",
      "INFO:lda:<500> log likelihood: -1055\n",
      "INFO:lda:<510> log likelihood: -1066\n",
      "INFO:lda:<520> log likelihood: -1028\n",
      "INFO:lda:<530> log likelihood: -1057\n",
      "INFO:lda:<540> log likelihood: -1015\n",
      "INFO:lda:<550> log likelihood: -1038\n",
      "INFO:lda:<560> log likelihood: -1038\n",
      "INFO:lda:<570> log likelihood: -1050\n",
      "INFO:lda:<580> log likelihood: -1062\n",
      "INFO:lda:<590> log likelihood: -1042\n",
      "INFO:lda:<600> log likelihood: -1072\n",
      "INFO:lda:<610> log likelihood: -1062\n",
      "INFO:lda:<620> log likelihood: -1083\n",
      "INFO:lda:<630> log likelihood: -1012\n",
      "INFO:lda:<640> log likelihood: -1053\n",
      "INFO:lda:<650> log likelihood: -1038\n",
      "INFO:lda:<660> log likelihood: -1047\n",
      "INFO:lda:<670> log likelihood: -1031\n",
      "INFO:lda:<680> log likelihood: -1077\n",
      "INFO:lda:<690> log likelihood: -1072\n",
      "INFO:lda:<700> log likelihood: -1035\n",
      "INFO:lda:<710> log likelihood: -1039\n",
      "INFO:lda:<720> log likelihood: -1069\n",
      "INFO:lda:<730> log likelihood: -1048\n",
      "INFO:lda:<740> log likelihood: -1058\n",
      "INFO:lda:<750> log likelihood: -1043\n",
      "INFO:lda:<760> log likelihood: -1042\n",
      "INFO:lda:<770> log likelihood: -1027\n",
      "INFO:lda:<780> log likelihood: -1031\n",
      "INFO:lda:<790> log likelihood: -1053\n",
      "INFO:lda:<800> log likelihood: -1044\n",
      "INFO:lda:<810> log likelihood: -1033\n",
      "INFO:lda:<820> log likelihood: -1049\n",
      "INFO:lda:<830> log likelihood: -1028\n",
      "INFO:lda:<840> log likelihood: -1067\n",
      "INFO:lda:<850> log likelihood: -1068\n",
      "INFO:lda:<860> log likelihood: -1080\n",
      "INFO:lda:<870> log likelihood: -1060\n",
      "INFO:lda:<880> log likelihood: -1015\n",
      "INFO:lda:<890> log likelihood: -1041\n",
      "INFO:lda:<900> log likelihood: -1045\n",
      "INFO:lda:<910> log likelihood: -1047\n",
      "INFO:lda:<920> log likelihood: -1028\n",
      "INFO:lda:<930> log likelihood: -1033\n",
      "INFO:lda:<940> log likelihood: -1001\n",
      "INFO:lda:<950> log likelihood: -1030\n",
      "INFO:lda:<960> log likelihood: -1056\n",
      "INFO:lda:<970> log likelihood: -1026\n",
      "INFO:lda:<980> log likelihood: -1077\n",
      "INFO:lda:<990> log likelihood: -1048\n",
      "INFO:lda:<1000> log likelihood: -1061\n",
      "INFO:lda:<1010> log likelihood: -1045\n",
      "INFO:lda:<1020> log likelihood: -1083\n",
      "INFO:lda:<1030> log likelihood: -1069\n",
      "INFO:lda:<1040> log likelihood: -1058\n",
      "INFO:lda:<1050> log likelihood: -1022\n",
      "INFO:lda:<1060> log likelihood: -1043\n",
      "INFO:lda:<1070> log likelihood: -1060\n",
      "INFO:lda:<1080> log likelihood: -1046\n",
      "INFO:lda:<1090> log likelihood: -1032\n",
      "INFO:lda:<1100> log likelihood: -1025\n",
      "INFO:lda:<1110> log likelihood: -1052\n",
      "INFO:lda:<1120> log likelihood: -1076\n",
      "INFO:lda:<1130> log likelihood: -1060\n",
      "INFO:lda:<1140> log likelihood: -1059\n",
      "INFO:lda:<1150> log likelihood: -1076\n",
      "INFO:lda:<1160> log likelihood: -1071\n",
      "INFO:lda:<1170> log likelihood: -1068\n",
      "INFO:lda:<1180> log likelihood: -1067\n",
      "INFO:lda:<1190> log likelihood: -1056\n",
      "INFO:lda:<1200> log likelihood: -1044\n",
      "INFO:lda:<1210> log likelihood: -1050\n",
      "INFO:lda:<1220> log likelihood: -1072\n",
      "INFO:lda:<1230> log likelihood: -1077\n",
      "INFO:lda:<1240> log likelihood: -1056\n",
      "INFO:lda:<1250> log likelihood: -1102\n",
      "INFO:lda:<1260> log likelihood: -1054\n",
      "INFO:lda:<1270> log likelihood: -1056\n",
      "INFO:lda:<1280> log likelihood: -1070\n",
      "INFO:lda:<1290> log likelihood: -1047\n",
      "INFO:lda:<1300> log likelihood: -1078\n",
      "INFO:lda:<1310> log likelihood: -1089\n",
      "INFO:lda:<1320> log likelihood: -1073\n",
      "INFO:lda:<1330> log likelihood: -1040\n",
      "INFO:lda:<1340> log likelihood: -1062\n",
      "INFO:lda:<1350> log likelihood: -1059\n",
      "INFO:lda:<1360> log likelihood: -1069\n",
      "INFO:lda:<1370> log likelihood: -1087\n",
      "INFO:lda:<1380> log likelihood: -1067\n",
      "INFO:lda:<1390> log likelihood: -1034\n",
      "INFO:lda:<1400> log likelihood: -1062\n",
      "INFO:lda:<1410> log likelihood: -1051\n",
      "INFO:lda:<1420> log likelihood: -1034\n",
      "INFO:lda:<1430> log likelihood: -1044\n",
      "INFO:lda:<1440> log likelihood: -1049\n",
      "INFO:lda:<1450> log likelihood: -1038\n",
      "INFO:lda:<1460> log likelihood: -1050\n",
      "INFO:lda:<1470> log likelihood: -1030\n",
      "INFO:lda:<1480> log likelihood: -1018\n",
      "INFO:lda:<1490> log likelihood: -1046\n",
      "INFO:lda:<1500> log likelihood: -1054\n",
      "INFO:lda:<1510> log likelihood: -1070\n",
      "INFO:lda:<1520> log likelihood: -1068\n",
      "INFO:lda:<1530> log likelihood: -1073\n",
      "INFO:lda:<1540> log likelihood: -1023\n",
      "INFO:lda:<1550> log likelihood: -1038\n",
      "INFO:lda:<1560> log likelihood: -1009\n",
      "INFO:lda:<1570> log likelihood: -1051\n",
      "INFO:lda:<1580> log likelihood: -1041\n",
      "INFO:lda:<1590> log likelihood: -1076\n",
      "INFO:lda:<1600> log likelihood: -1015\n",
      "INFO:lda:<1610> log likelihood: -1033\n",
      "INFO:lda:<1620> log likelihood: -1044\n",
      "INFO:lda:<1630> log likelihood: -1046\n",
      "INFO:lda:<1640> log likelihood: -1049\n",
      "INFO:lda:<1650> log likelihood: -1036\n",
      "INFO:lda:<1660> log likelihood: -1043\n",
      "INFO:lda:<1670> log likelihood: -1054\n",
      "INFO:lda:<1680> log likelihood: -1014\n",
      "INFO:lda:<1690> log likelihood: -1059\n",
      "INFO:lda:<1700> log likelihood: -1072\n",
      "INFO:lda:<1710> log likelihood: -1092\n",
      "INFO:lda:<1720> log likelihood: -1064\n",
      "INFO:lda:<1730> log likelihood: -1090\n",
      "INFO:lda:<1740> log likelihood: -1068\n",
      "INFO:lda:<1750> log likelihood: -1066\n",
      "INFO:lda:<1760> log likelihood: -1052\n",
      "INFO:lda:<1770> log likelihood: -1057\n",
      "INFO:lda:<1780> log likelihood: -1048\n",
      "INFO:lda:<1790> log likelihood: -1062\n",
      "INFO:lda:<1800> log likelihood: -1060\n",
      "INFO:lda:<1810> log likelihood: -1056\n",
      "INFO:lda:<1820> log likelihood: -1076\n",
      "INFO:lda:<1830> log likelihood: -1048\n",
      "INFO:lda:<1840> log likelihood: -1062\n",
      "INFO:lda:<1850> log likelihood: -1016\n",
      "INFO:lda:<1860> log likelihood: -1037\n",
      "INFO:lda:<1870> log likelihood: -1026\n",
      "INFO:lda:<1880> log likelihood: -1017\n",
      "INFO:lda:<1890> log likelihood: -1022\n",
      "INFO:lda:<1900> log likelihood: -1031\n",
      "INFO:lda:<1910> log likelihood: -1023\n",
      "INFO:lda:<1920> log likelihood: -1026\n",
      "INFO:lda:<1930> log likelihood: -1039\n",
      "INFO:lda:<1940> log likelihood: -1047\n",
      "INFO:lda:<1950> log likelihood: -1043\n",
      "INFO:lda:<1960> log likelihood: -1041\n",
      "INFO:lda:<1970> log likelihood: -1046\n",
      "INFO:lda:<1980> log likelihood: -1035\n",
      "INFO:lda:<1990> log likelihood: -1014\n",
      "INFO:lda:<1999> log likelihood: -1063\n"
     ]
    }
   ],
   "source": [
    "n_topics = 15\n",
    "n_iter = 2000\n",
    "lda_model = lda.LDA(n_topics=n_topics, n_iter=n_iter)\n",
    "X_topics = lda_model.fit_transform(cvz)\n",
    "\n",
    "tsne_lda = TSNE(n_components=2, random_state=0).fit_transform(X_topics[:10000])"
   ]
  },
  {
   "cell_type": "code",
   "execution_count": 6,
   "metadata": {
    "collapsed": true
   },
   "outputs": [],
   "source": [
    "doc_topic = lda_model.doc_topic_\n",
    "lda_keys = []\n",
    "for i, tweet in enumerate(tweet_texts_processed):\n",
    "    lda_keys += [doc_topic[i].argmax()]"
   ]
  },
  {
   "cell_type": "code",
   "execution_count": 7,
   "metadata": {},
   "outputs": [
    {
     "data": {
      "text/plain": [
       "<matplotlib.collections.PathCollection at 0x7fd0b42df6a0>"
      ]
     },
     "execution_count": 7,
     "metadata": {},
     "output_type": "execute_result"
    }
   ],
   "source": [
    "import matplotlib.pyplot as plt\n",
    "\n",
    "plt.scatter(x=tsne_lda[:,0], y=tsne_lda[:,1], c=lda_keys)\n"
   ]
  },
  {
   "cell_type": "code",
   "execution_count": 8,
   "metadata": {},
   "outputs": [
    {
     "data": {
      "image/png": "[encoded data removed]",
      "text/plain": [
       "<matplotlib.figure.Figure at 0x7fd0b84aa550>"
      ]
     },
     "metadata": {},
     "output_type": "display_data"
    }
   ],
   "source": [
    "plt.show()"
   ]
  },
  {
   "cell_type": "code",
   "execution_count": null,
   "metadata": {
    "collapsed": true
   },
   "outputs": [],
   "source": []
  }
 ],
 "metadata": {
  "kernelspec": {
   "display_name": "Python 3",
   "language": "python",
   "name": "python3"
  },
  "language_info": {
   "codemirror_mode": {
    "name": "ipython",
    "version": 3
   },
   "file_extension": ".py",
   "mimetype": "text/x-python",
   "name": "python",
   "nbconvert_exporter": "python",
   "pygments_lexer": "ipython3",
   "version": "3.6.2"
  }
 },
 "nbformat": 4,
 "nbformat_minor": 2
}
