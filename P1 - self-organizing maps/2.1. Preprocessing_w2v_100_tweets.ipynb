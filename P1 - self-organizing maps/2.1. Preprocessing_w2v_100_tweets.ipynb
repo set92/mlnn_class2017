{
 "cells": [
  {
   "cell_type": "code",
   "execution_count": 2,
   "metadata": {
    "collapsed": true,
    "scrolled": true
   },
   "outputs": [],
   "source": [
    "import pandas as pd\n",
    "import numpy as np\n",
    "\n",
    "import timeit\n",
    "import nltk\n",
    "\n",
    "import scipy.spatial.distance as distance"
   ]
  },
  {
   "cell_type": "code",
   "execution_count": 5,
   "metadata": {
    "collapsed": true
   },
   "outputs": [],
   "source": [
    "df = pd.read_csv('datasetG.txt', sep=\"\\n\", names=['p1'])"
   ]
  },
  {
   "cell_type": "code",
   "execution_count": 6,
   "metadata": {
    "collapsed": true
   },
   "outputs": [],
   "source": [
    "# Words are separated, creating a list of words instead of a string and then calculating the vector\n",
    "df['p1'] = pd.Series([nltk.word_tokenize(x[0]) for x in df.itertuples(index=False)], index=df.index)"
   ]
  },
  {
   "cell_type": "code",
   "execution_count": 7,
   "metadata": {
    "collapsed": true
   },
   "outputs": [],
   "source": [
    "#I did it in a start to remove : , ... but then I remembered that they are punctuation, no stopwords, \n",
    "#so it doesn't work remove he, to... print stopwords if you want to see them all.\n",
    "from nltk.corpus import stopwords\n",
    "stopwords = nltk.corpus.stopwords.words('english')\n",
    "df['p1'] = df['p1'].apply(lambda x: [item for item in x if item not in stopwords])"
   ]
  },
  {
   "cell_type": "code",
   "execution_count": 3,
   "metadata": {},
   "outputs": [
    {
     "name": "stdout",
     "output_type": "stream",
     "text": [
      "33.81267497999988\n"
     ]
    }
   ],
   "source": [
    "#Word2Vec load in memory\n",
    "import gensim\n",
    "start_time = timeit.default_timer()\n",
    "\n",
    "model = gensim.models.KeyedVectors.load('../../quora/data/GoogleNews-vectors-negative300.bin.gz', mmap=None)\n",
    "\n",
    "print(timeit.default_timer() - start_time)"
   ]
  },
  {
   "cell_type": "code",
   "execution_count": 5,
   "metadata": {
    "collapsed": true
   },
   "outputs": [],
   "source": [
    "def feature_vector(tweet, num_features, model):\n",
    "    #print(tweet)\n",
    "    words_not_founded = set()\n",
    "    featureVec = np.zeros((num_features,), dtype=\"float32\")\n",
    "    vecTweet = {}\n",
    "    \n",
    "    for word in tweet:\n",
    "        if word in model:\n",
    "            featureVec = np.add(featureVec, model[word])\n",
    "            vecTweet.update({word : featureVec})\n",
    "            \n",
    "        else:\n",
    "            words_not_founded.add(word)\n",
    "    #print(words_not_founded)\n",
    "    return vecTweet\n",
    "\n",
    "#feature_vector(df['p1'][0], 300, model)"
   ]
  },
  {
   "cell_type": "code",
   "execution_count": 6,
   "metadata": {
    "collapsed": true
   },
   "outputs": [],
   "source": [
    "df['vector'] = [feature_vector(row[1], 300, model) for row in df.itertuples()]"
   ]
  },
  {
   "cell_type": "code",
   "execution_count": 8,
   "metadata": {
    "collapsed": true
   },
   "outputs": [],
   "source": [
    "df.to_pickle('my_df.pickle')"
   ]
  },
  {
   "cell_type": "code",
   "execution_count": null,
   "metadata": {
    "collapsed": true
   },
   "outputs": [],
   "source": []
  },
  {
   "cell_type": "code",
   "execution_count": null,
   "metadata": {
    "collapsed": true
   },
   "outputs": [],
   "source": []
  },
  {
   "cell_type": "markdown",
   "metadata": {},
   "source": [
    " "
   ]
  }
 ],
 "metadata": {
  "kernelspec": {
   "display_name": "Python 3",
   "language": "python",
   "name": "python3"
  },
  "language_info": {
   "codemirror_mode": {
    "name": "ipython",
    "version": 3
   },
   "file_extension": ".py",
   "mimetype": "text/x-python",
   "name": "python",
   "nbconvert_exporter": "python",
   "pygments_lexer": "ipython3",
   "version": "3.6.2"
  }
 },
 "nbformat": 4,
 "nbformat_minor": 2
}
