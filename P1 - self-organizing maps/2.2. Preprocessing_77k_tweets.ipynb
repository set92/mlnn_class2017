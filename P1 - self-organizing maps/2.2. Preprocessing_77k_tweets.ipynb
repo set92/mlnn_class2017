{
 "cells": [
  {
   "cell_type": "markdown",
   "metadata": {},
   "source": [
    "## Load the data\n",
    "\n",
    "In this step we read the data in a json format from the file and we store the tweet text info in a pandas DataFrame"
   ]
  },
  {
   "cell_type": "code",
   "execution_count": null,
   "metadata": {
    "collapsed": true
   },
   "outputs": [],
   "source": [
    "import json\n",
    "import pandas as pd\n",
    "\n",
    "tweets_file = 'websummit_dump_20151106155110'\n",
    "with open(tweets_file) as f:\n",
    "    tweets = json.load(f)\n",
    "    \n",
    "print('# of tweets:', len(tweets))\n",
    "\n",
    "tweet_text = [tweet['text'] for tweet in tweets]\n",
    "df = pd.DataFrame({'text': tweet_text})\n",
    "df.head()"
   ]
  },
  {
   "cell_type": "markdown",
   "metadata": {},
   "source": [
    "## Define the tweet preprocessor\n",
    "\n",
    "We define a preprocessor withch finds the diferent elements of the tweet ussing regular expresions and it \n",
    "identifies them."
   ]
  },
  {
   "cell_type": "code",
   "execution_count": 2,
   "metadata": {
    "collapsed": true
   },
   "outputs": [],
   "source": [
    "import re\n",
    "\n",
    "class TweetPreprocessor(object):\n",
    "\n",
    "    def __init__(self):\n",
    "        self.FLAGS = re.MULTILINE | re.DOTALL\n",
    "        self.ALLCAPS = '<allcaps>'\n",
    "        self.HASHTAG = '<hashtag>'\n",
    "        self.URL = '<url>'\n",
    "        self.USER = '<user>'\n",
    "        self.SMILE = '<smile>'\n",
    "        self.LOLFACE = '<lolface>'\n",
    "        self.SADFACE = '<sadface>'\n",
    "        self.NEUTRALFACE = '<neutralface>'\n",
    "        self.HEART = '<heart>'\n",
    "        self.NUMBER = '<number>'\n",
    "        self.REPEAT = '<repeat>'\n",
    "        self.ELONG = '<elong>'\n",
    "\n",
    "    def _hashtag(self, text):\n",
    "        text = text.group()\n",
    "        hashtag_body = text[1:]\n",
    "        if hashtag_body.isupper():\n",
    "            result = (self.HASHTAG + \" {} \" + self.ALLCAPS).format(hashtag_body)\n",
    "        else:\n",
    "            result = \" \".join([self.HASHTAG] + re.findall(r\"(?=[A-Z])\", hashtag_body, flags=self.FLAGS))\n",
    "        return result\n",
    "\n",
    "    def _allcaps(self, text):\n",
    "        text = text.group()\n",
    "        return text.lower() + ' ' + self.ALLCAPS\n",
    "\n",
    "    def preprocess(self, text):\n",
    "        eyes, nose = r\"[8:=;]\", r\"['`\\-]?\"\n",
    "\n",
    "        re_sub = lambda pattern, repl: re.sub(pattern, repl, text, flags=self.FLAGS)\n",
    "\n",
    "        text = re_sub(r\"https?:\\/\\/\\S+\\b|www\\.(\\w+\\.)+\\S*\", self.URL)\n",
    "        text = re_sub(r\"/\",\" / \")\n",
    "        text = re_sub(r\"@\\w+\", self.USER)\n",
    "        text = re_sub(r\"{}{}[)dD]+|[)dD]+{}{}\".format(eyes, nose, nose, eyes), self.SMILE)\n",
    "        text = re_sub(r\"{}{}p+\".format(eyes, nose), self.LOLFACE)\n",
    "        text = re_sub(r\"{}{}\\(+|\\)+{}{}\".format(eyes, nose, nose, eyes), self.SADFACE)\n",
    "        text = re_sub(r\"{}{}[\\/|l*]\".format(eyes, nose), self.NEUTRALFACE)\n",
    "        text = re_sub(r\"<3\", self.HEART)\n",
    "        text = re_sub(r\"[-+]?[.\\d]*[\\d]+[:,.\\d]*\", self.NUMBER)\n",
    "        text = re_sub(r\"#\\S+\", self._hashtag)\n",
    "        text = re_sub(r\"([!?.]){2,}\", r\"\\1 \" + self.REPEAT)\n",
    "        text = re_sub(r\"\\b(\\S*?)(.)\\2{2,}\\b\", r\"\\1\\2 \" + self.ELONG)\n",
    "\n",
    "        text = re_sub(r\"([A-Z]){2,}\", self._allcaps)\n",
    "\n",
    "        return text.lower()"
   ]
  },
  {
   "cell_type": "code",
   "execution_count": 3,
   "metadata": {},
   "outputs": [
    {
     "name": "stdout",
     "output_type": "stream",
     "text": [
      "Before: @sarahtavel What #MustHave #tech gadget can you not travel without? Stop by stand D131 on Wed at #WebSummit #Dublin https://t.co/2wFLAVpGiV\n",
      "\n",
      "After: <user> what <hashtag>   <hashtag> gadget can you not travel without? stop by stand d<number> on wed at <hashtag>   <hashtag>  <url>\n"
     ]
    }
   ],
   "source": [
    "tweet_processor = TweetPreprocessor()\n",
    "\n",
    "# an example:\n",
    "tweet = \"@sarahtavel What #MustHave #tech gadget can you not travel without? Stop by stand D131 on Wed at #WebSummit #Dublin https://t.co/2wFLAVpGiV\"\n",
    "print(\"Before: \" + tweet + \"\\n\")\n",
    "print(\"After: \" + tweet_processor.preprocess(tweet))"
   ]
  },
  {
   "cell_type": "code",
   "execution_count": 4,
   "metadata": {},
   "outputs": [
    {
     "name": "stdout",
     "output_type": "stream",
     "text": [
      "[nltk_data] Downloading package stopwords to /home/set92/nltk_data...\n",
      "[nltk_data]   Package stopwords is already up-to-date!\n"
     ]
    }
   ],
   "source": [
    "import nltk\n",
    "from nltk.corpus import stopwords\n",
    "from nltk.tokenize import TweetTokenizer\n",
    "\n",
    "# We define a tweet tokenizer withc split the text in words\n",
    "tknzr = TweetTokenizer()\n",
    "\n",
    "# We define the stopwords that are words like 'and', 'or', 'not' that do not give relevant information\n",
    "stop = stopwords.words('english')\n",
    "\n",
    "# Add the tags defined in the preprocessing to the stepwords\n",
    "stop += ['<hashtag>', '<url>', '<allcaps>', '<number>', '<user>', '<repeat>', '<elong>', 'websummit']\n",
    "\n",
    "df['text_processed'] = \"\"\n",
    "index = 0\n",
    "\n",
    "for tweet in df['text']:\n",
    "    # Remove the no relevant information from the tweets\n",
    "    parts = tknzr.tokenize(tweet_processor.preprocess(tweet))\n",
    "    clean = [i for i in parts if i not in stop]\n",
    "    df['text_processed'][index] = clean\n",
    "    index += 1"
   ]
  },
  {
   "cell_type": "code",
   "execution_count": 5,
   "metadata": {},
   "outputs": [
    {
     "data": {
      "text/plain": [
       "77111"
      ]
     },
     "execution_count": 5,
     "metadata": {},
     "output_type": "execute_result"
    }
   ],
   "source": [
    "df['text_processed'].size"
   ]
  },
  {
   "cell_type": "code",
   "execution_count": 6,
   "metadata": {
    "collapsed": true
   },
   "outputs": [],
   "source": [
    "df.to_pickle('77k_df.pickle')"
   ]
  }
 ],
 "metadata": {
  "kernelspec": {
   "display_name": "Python 3",
   "language": "python",
   "name": "python3"
  },
  "language_info": {
   "codemirror_mode": {
    "name": "ipython",
    "version": 3
   },
   "file_extension": ".py",
   "mimetype": "text/x-python",
   "name": "python",
   "nbconvert_exporter": "python",
   "pygments_lexer": "ipython3",
   "version": "3.6.2"
  }
 },
 "nbformat": 4,
 "nbformat_minor": 2
}
