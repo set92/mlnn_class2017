{
 "cells": [
  {
   "cell_type": "markdown",
   "metadata": {},
   "source": [
    "## D1 - Gather as much medical text as possible and learn embeddings from those texts."
   ]
  },
  {
   "cell_type": "markdown",
   "metadata": {},
   "source": [
    "## Get/Scrape the documents"
   ]
  },
  {
   "cell_type": "markdown",
   "metadata": {},
   "source": [
    "There are a lot of ways of scrapping a web to recollect *.pdf files, one which most of webs can't block is a Web Browser Automation like Selenium, you can create a script to automate some tasks, but since Pubmed have an API is easier using it."
   ]
  },
  {
   "cell_type": "markdown",
   "metadata": {},
   "source": [
    "For scrape and recolect documents we use Entrez, which helps us to get the IDs from our search, which will be free papers in english, and when we have the PMIDs, we will use a library to automatize the search and download of that papers.\n",
    "If we don't want to use this library, we need to automatize the download of the pdf files for the different domains."
   ]
  },
  {
   "cell_type": "code",
   "execution_count": 21,
   "metadata": {
    "collapsed": true
   },
   "outputs": [],
   "source": [
    "from Bio import Entrez"
   ]
  },
  {
   "cell_type": "code",
   "execution_count": 31,
   "metadata": {
    "collapsed": true
   },
   "outputs": [],
   "source": [
    "def search(query):\n",
    "    Entrez.email = 'set.tobur@gmail.com' #Entrez needs an email for avoid bots\n",
    "    handle = Entrez.esearch(db='pubmed', \n",
    "                            sort='relevance', \n",
    "                            retmax='20000',\n",
    "                            retmode='xml', \n",
    "                            term=query)\n",
    "    results = Entrez.read(handle)\n",
    "    return results"
   ]
  },
  {
   "cell_type": "code",
   "execution_count": 32,
   "metadata": {
    "collapsed": true
   },
   "outputs": [],
   "source": [
    "def fetch_details(id_list):\n",
    "    ids = ','.join(id_list)\n",
    "    Entrez.email = 'set.tobur@gmail.com'\n",
    "    handle = Entrez.efetch(db='pubmed',\n",
    "                           retmode='xml',\n",
    "                           id=ids)\n",
    "    results = Entrez.read(handle)\n",
    "    return results"
   ]
  },
  {
   "cell_type": "code",
   "execution_count": 33,
   "metadata": {},
   "outputs": [
    {
     "name": "stdout",
     "output_type": "stream",
     "text": [
      "1) Update: Plant Cortical Microtubule Arrays.\n",
      "2) Arabidopsis VPS38 is required for vacuolar trafficking but dispensable for autophagy.\n",
      "3) Precision genome editing using synthesis-dependent repair of Cas9-induced DNA breaks.\n",
      "4) Robust zero resistance in a superconducting high-entropy alloy at pressures up to 190 GPa.\n",
      "5) Vasopressin excites interneurons to suppress hippocampal network activity across a broad span of brain maturity at birth.\n",
      "6) Osmosensing by the bacterial PhoQ/PhoP two-component system.\n",
      "7) On the role of the corpus callosum in interhemispheric functional connectivity in humans.\n",
      "8) Inequality in nature and society.\n",
      "9) Using deep learning and Google Street View to estimate the demographic makeup of neighborhoods across the United States.\n",
      "10) Oral anticoagulants for prevention of stroke in atrial fibrillation: systematic review, network meta-analysis, and cost effectiveness analysis.\n",
      "11) Marriage and risk of dementia: systematic review and meta-analysis of observational studies.\n",
      "12) Total workload and recovery in relation to worktime reduction: a randomised controlled intervention study with time-use data.\n",
      "13) Anisotropic shear stress patterns predict the orientation of convergent tissue movements in the embryonic heart.\n",
      "14) Managing alcohol-related attendances in emergency care: can diversion to bespoke services lessen the burden?\n",
      "15) Implementation science at the crossroads.\n",
      "16) MiR-146a Aggravates LPS-Induced Inflammatory Injury by Targeting CXCR4 in the Articular Chondrocytes.\n",
      "17) Efficacy of a New Post-Mouthwash Intervention (Wiping Plus Oral Nutritional Supplements) for Preventing Aspiration Pneumonia in Elderly People: A Multicenter, Randomized, Comparative Trial.\n",
      "18) Identification of Subpathway Signatures For Ovarian Cancer Prognosis by Integrated Analyses of High-Throughput miRNA and mRNA Expression.\n",
      "19) Uremic Pruritus: An Itch with Ominous Consequences.\n",
      "20) Transoral Robotic Surgery with Sialendoscopy for a Plunging Ranula.\n",
      "21) Hypoxia-Induced Mesenchymal Stromal Cells Exhibit an Enhanced Therapeutic Effect on Radiation-Induced Lung Injury in Mice due to an Increased Proliferation Potential and Enhanced Antioxidant Ability.\n",
      "22) MiR-193a-3p is an Important Tumour Suppressor in Lung Cancer and Directly Targets KRAS.\n",
      "23) Microarray Expression Profile of Circular RNAs in Plasma from Primary Biliary Cholangitis Patients.\n",
      "24) Effect of polymyxin B-containing regimens on renal function for the treatment of carbapenem-resistant Enterobacteriacea mediastinitis.\n",
      "25) Epidermolysis Bullosa Acquisita in an Adult Patient with Previously Unrecognized Mild Dystrophic EB and Biallelic COL7A1 Mutations.\n",
      "26) Atypical Hand, Foot, and Mouth Disease Caused by Coxsackievirus A6 in Denmark: A Diagnostic Mimicker.\n",
      "27) Substance P Antagonist Aprepitant Shows no Additive Effect Compared with Standardized Topical Treatment Alone in Patients with Atopic Dermatitis.\n",
      "28) Incidence of Actinic Keratosis and Risk of Skin Cancer in Subjects with Actinic Keratosis: A Population-based Cohort Study.\n",
      "29) Semi-automatic tracking, smoothing and segmentation of hyoid bone motion from videofluoroscopic swallowing study.\n",
      "30) miR205 inhibits stem cell renewal in SUM159PT breast cancer cells.\n",
      "31) Principal component and discriminant analyses as powerful tools to support taxonomic identification and their use for functional and phylogenetic signal detection of isolated fossil shark teeth.\n",
      "32) Using 13C in cattle hair to trace back the maize level in the feeding regime-A field test.\n",
      "33) The extracellular matrix protein Edil3 stimulates osteoblast differentiation through the integrin α5β1/ERK/Runx2 pathway.\n",
      "34) Arabidopsis ubiquitin ligase PUB12 interacts with and negatively regulates Chitin Elicitor Receptor Kinase 1 (CERK1).\n",
      "35) An analytical approach to sparse telemetry data.\n",
      "36) Ensemble machine learning and forecasting can achieve 99% uptime for rural handpumps.\n",
      "37) Clustering of samples and variables with mixed-type data.\n",
      "38) NKT cells contribute to basal IL-4 production but are not required to induce experimental asthma.\n",
      "39) Heat shock proteins HSPB8 and DNAJC5B have HCV antiviral activity.\n",
      "40) The role of protease inhibitors on the remineralization of demineralized dentin using the PILP method.\n",
      "41) Inattention in primary school is not good for your future school achievement-A pattern classification study.\n",
      "42) Classical and next generation sequencing approaches unravel Bymovirus diversity in barley crops in France.\n",
      "43) Fractal analyses reveal independent complexity and predictability of gait.\n",
      "44) Accuracy and reproducibility of CT right-to-left ventricular diameter measurement in patients with acute pulmonary embolism.\n",
      "45) A mechanistic model for spread of livestock-associated methicillin-resistant Staphylococcus aureus (LA-MRSA) within a pig herd.\n",
      "46) Recovery from trauma induced amnesia correlates with normalization of thrombin activity in the mouse hippocampus.\n",
      "47) Evidence of increased toxic Alexandrium tamarense dinoflagellate blooms in the eastern Bering Sea in the summers of 2004 and 2005.\n",
      "48) Men's perspectives of prostate cancer screening: A systematic review of qualitative studies.\n",
      "49) Influence of different feeding regimes on the survival, growth, and biochemical composition of Acropora coral recruits.\n",
      "50) HLA and non-HLA genes and familial predisposition to autoimmune diseases in families with a child affected by type 1 diabetes.\n",
      "51) How do adults and teens with self-declared Autism Spectrum Disorder experience eye contact? A qualitative analysis of first-hand accounts.\n",
      "52) Treatment eligibility and retention in clinical HIV care: A regression discontinuity study in South Africa.\n",
      "53) Mycophenolate mofetil prevents the delayed T cell response after pilocarpine-induced status epilepticus in mice.\n",
      "54) Local ecological knowledge and its relationship with biodiversity conservation among two Quilombola groups living in the Atlantic Rainforest, Brazil.\n",
      "55) The evolution and adaptation of A-to-I RNA editing.\n",
      "56) Extensive virologic and immunologic characterization in an HIV-infected individual following allogeneic stem cell transplant and analytic cessation of antiretroviral therapy: A case study.\n",
      "57) The expanding epidemic of HIV-1 in the Russian Federation.\n",
      "58) Effects of peroxisome proliferator activated receptors (PPAR)-γ and -α agonists on cochlear protection from oxidative stress.\n",
      "59) Human papillomavirus DNA detection in plasma and cervical samples of women with a recent history of low grade or precancerous cervical dysplasia.\n",
      "60) Regional brain morphometry in patients with traumatic brain injury based on acute- and chronic-phase magnetic resonance imaging.\n",
      "61) Immunotherapeutic efficacy of liposome-encapsulated refined allergen vaccines against Dermatophagoides pteronyssinus allergy.\n",
      "62) Exploring the reproducibility of functional connectivity alterations in Parkinson's disease.\n",
      "63) Response of imported malaria patients to antimalarial medicines in Sri Lanka following malaria elimination.\n",
      "64) Analytical Methods of Phytochemicals from the Genus Gentiana.\n",
      "65) ECG Signal De-noising and Baseline Wander Correction Based on CEEMDAN and Wavelet Threshold.\n",
      "66) Radio-Frequency-Controlled Urea Dosing for NH₃-SCR Catalysts: NH₃ Storage Influence to Catalyst Performance under Transient Conditions.\n",
      "67) Recent Advances in Momordica charantia: Functional Components and Biological Activities.\n",
      "68) Optimization and Characterization of Paper-Made Surface Enhanced Raman Scattering (SERS) Substrates with Au and Ag NPs for Quantitative Analysis.\n",
      "69) trans-Double Bond-Containing Liposomes as Potential Carriers for Drug Delivery.\n",
      "70) Harvesting a 3D N-Doped Carbon Network from Waste Bean Dregs by Ionothermal Carbonization as an Electrocatalyst for an Oxygen Reduction Reaction.\n",
      "71) Antarctic Krill Oil Diet Protects against Lipopolysaccharide-Induced Oxidative Stress, Neuroinflammation and Cognitive Impairment.\n",
      "72) Estrogen Metabolism-Associated CYP2D6 and IL6-174G/C Polymorphisms in Schistosoma haematobium Infection.\n",
      "73) Modification of Bacterial Cellulose Biofilms with Xylan Polyelectrolytes.\n",
      "74) Room-Temperature H₂ Gas Sensing Characterization of Graphene-Doped Porous Silicon via a Facile Solution Dropping Method.\n",
      "75) Graphene Oxide-Silver Nanoparticles Nanocomposite Stimulates Differentiation in Human Neuroblastoma Cancer Cells (SH-SY5Y).\n",
      "76) Knee Impedance Modulation to Control an Active Orthosis Using Insole Sensors.\n",
      "77) Mathematical Model for Localised and Surface Heat Flux of the Human Body Obtained from Measurements Performed with a Calorimetry Minisensor.\n",
      "78) PPARγ Modulates Long Chain Fatty Acid Processing in the Intestinal Epithelium.\n",
      "79) Development of a High Precision Displacement Measurement System by Fusing a Low Cost RTK-GPS Sensor and a Force Feedback Accelerometer for Infrastructure Monitoring.\n",
      "80) Analysis of MicroRNA Expression in Newborns with Differential Birth Weight Using Newborn Screening Cards.\n",
      "81) Study of Perfluorophosphonic Acid Surface Modifications on Zinc Oxide Nanoparticles.\n",
      "82) Effect of Dietary Acidolysis-Oxidized Konjac Glucomannan Supplementation on Serum Immune Parameters and Intestinal Immune-Related Gene Expression of Schizothorax prenanti.\n",
      "83) Characterization and Computation of Yb/TiO₂ and Its Photocatalytic Degradation with Benzohydroxamic Acid.\n",
      "84) Coumarin Derivatives Solvent-Free Synthesis under Microwave Irradiation over Heterogeneous Solid Catalysts.\n",
      "85) Transparent and Flexible Capacitors with an Ultrathin Structure by Using Graphene as Bottom Electrodes.\n",
      "86) Effects of Group Counseling Programs, Cognitive Behavioral Therapy, and Sports Intervention on Internet Addiction in East Asia: A Systematic Review and Meta-Analysis.\n",
      "87) Gene Silencing of Argonaute5 Negatively Affects the Establishment of the Legume-Rhizobia Symbiosis.\n",
      "88) Detection of Abrin Holotoxin Using Novel Monoclonal Antibodies.\n",
      "89) Home Hemodialysis (HHD) Treatment as Effective yet Underutilized Treatment Modality in the United States.\n",
      "90) Ceramic-Based 4D Components: Additive Manufacturing (AM) of Ceramic-Based Functionally Graded Materials (FGM) by Thermoplastic 3D Printing (T3DP).\n",
      "91) Effect of Composition and Thickness on the Perpendicular Magnetic Anisotropy of (Co/Pd) Multilayers.\n",
      "92) Dynamics of Pathological and Virological Findings During Experimental Calpox Virus Infection of Common Marmosets (Callithrix jacchus).\n",
      "93) Contextual Exploration of a New Family Caregiver Support Concept for Geriatric Settings Using a Participatory Health Research Strategy.\n",
      "94) Early Gabapentin Treatment during the Latency Period Increases Convulsive Threshold, Reduces Microglial Activation and Macrophage Infiltration in the Lithium-Pilocarpine Model of Epilepsy.\n",
      "95) Different Facets of Body Image Disturbance in Binge Eating Disorder: A Review.\n",
      "96) Placing Salt/Soy Sauce at Dining Tables and Out-Of-Home Behavior Are Related to Urinary Sodium Excretion in Japanese Secondary School Students.\n",
      "97) All-Fiber Laser Curvature Sensor Using an In-Fiber Modal Interferometer Based on a Double Clad Fiber and a Multimode Fiber Structure.\n",
      "98) Climatic Factors and Influenza Transmission, Spain, 2010-2015.\n",
      "99) Validation of a claims-based algorithm to characterize episodes of care.\n",
      "100) Changes in cardiovascular care provision after the Affordable Care Act.\n"
     ]
    }
   ],
   "source": [
    "results = search('\"english\"[Language] AND free full text[sb]')\n",
    "id_list = results['IdList']\n",
    "papers = fetch_details(id_list)\n",
    "for i, paper in enumerate(papers['PubmedArticle']):\n",
    "    print(\"%d) %s\" % (i+1, paper['MedlineCitation']['Article']['ArticleTitle']))\n",
    "# Pretty print the first paper in full to observe its structure\n",
    "#import json\n",
    "#print(json.dumps(papers[0], indent=2, separators=(',', ':')))"
   ]
  },
  {
   "cell_type": "code",
   "execution_count": 34,
   "metadata": {
    "collapsed": true
   },
   "outputs": [],
   "source": [
    "# Now we can use the PMID to use some library and downdload papers\n",
    "lista_PMIDS = \"\"\n",
    "for i, paper in enumerate(papers['PubmedArticle']):\n",
    "    lista_PMIDS += str(paper['MedlineCitation']['PMID']+',')"
   ]
  },
  {
   "cell_type": "code",
   "execution_count": 35,
   "metadata": {
    "scrolled": true
   },
   "outputs": [
    {
     "data": {
      "text/plain": [
       "900"
      ]
     },
     "execution_count": 35,
     "metadata": {},
     "output_type": "execute_result"
    }
   ],
   "source": [
    "len(lista_PMIDS)"
   ]
  },
  {
   "cell_type": "markdown",
   "metadata": {},
   "source": [
    "#### When we get all the PMIDS we can call the script and try to get all the papers\n",
    "\n",
    "You can get the install instructions from https://github.com/billgreenwald/Pubmed-Batch-Download, but for me worked better a manual installation.\n",
    "\n",
    " Install ruby & ruby-dev from apt-get or pacman and then write in a terminal:\n",
    " - gem install mechanize camping socksify\n"
   ]
  },
  {
   "cell_type": "code",
   "execution_count": 57,
   "metadata": {
    "collapsed": true
   },
   "outputs": [],
   "source": [
    "import subprocess\n",
    "import os\n",
    "\n",
    "cmd = 'ruby Pubmed-Batch-Download/pubmedid2pdf.rb %s' % (lista_PMIDS)\n",
    "run = subprocess.Popen(cmd, shell=True, stdout=subprocess.PIPE, stderr=subprocess.PIPE)\n",
    "out, err = run.communicate()"
   ]
  },
  {
   "cell_type": "markdown",
   "metadata": {},
   "source": [
    "## Parse"
   ]
  },
  {
   "cell_type": "markdown",
   "metadata": {},
   "source": [
    "Once we have all the documents, we need to parse all the pdf files to text file for training the Word2Vec model"
   ]
  },
  {
   "cell_type": "code",
   "execution_count": 38,
   "metadata": {
    "collapsed": true
   },
   "outputs": [],
   "source": [
    "import pdfparser.poppler as pdf\n",
    "import sys\n",
    "import os\n",
    "from tqdm import tqdm"
   ]
  },
  {
   "cell_type": "code",
   "execution_count": 39,
   "metadata": {
    "collapsed": true
   },
   "outputs": [],
   "source": [
    "import re\n",
    "import unicodedata\n",
    "def remove_accents(text, method='unicode'):\n",
    "    \"\"\"\n",
    "    http://textacy.readthedocs.io/en/latest/_modules/textacy/preprocess.html\n",
    "        if 'unicode', remove accented char for any unicode symbol with a \n",
    "        direct ASCII equivalent; \n",
    "        if 'ascii', remove accented char for any unicode symbol\n",
    "\n",
    "        NB: the 'ascii' method is notably faster than 'unicode', but less good\n",
    "\n",
    "    \"\"\"\n",
    "\n",
    "    if method == 'unicode':\n",
    "        return ''.join(c for c in unicodedata.normalize('NFKD', text)\n",
    "                       if not unicodedata.combining(c))\n",
    "    elif method == 'ascii':\n",
    "        return unicodedata.normalize('NFKD', text).encode('ascii', errors='ignore').decode('ascii')\n",
    "    else:\n",
    "        msg = '`method` must be either \"unicode\" and \"ascii\", not {}'.format(method)\n",
    "        raise ValueError(msg)\n",
    "    "
   ]
  },
  {
   "cell_type": "code",
   "execution_count": 40,
   "metadata": {
    "collapsed": true
   },
   "outputs": [],
   "source": [
    "def remove_superscript(text):\n",
    "    m = re.search('[a-z][a-z][0-9] ', text)\n",
    "    if m:        \n",
    "        text = text[:m.start()+2] + text[m.start() + 3:]\n",
    "    return text"
   ]
  },
  {
   "cell_type": "code",
   "execution_count": 41,
   "metadata": {
    "collapsed": true
   },
   "outputs": [],
   "source": [
    "def load_file(file):\n",
    "    doc = pdf.Document(str.encode(file))\n",
    "    \n",
    "    phrases = []\n",
    "    #print('No of pages', doc.no_of_pages)\n",
    "    for page in doc:\n",
    "        for flow in page:\n",
    "            for box in flow:\n",
    "                box.bbox.as_tuple()                \n",
    "                for line in box:\n",
    "                    text_cleaned = remove_accents(line.text)\n",
    "                    text_cleaned = remove_superscript(text_cleaned)\n",
    "                    phrases.append(text_cleaned)\n",
    "                    #phrases.append(line.text.encode('UTF-8'))\n",
    "    return phrases\n",
    "#load_file('../data/external/medicalPapersBatch1_011017/es_1678-4464-csp-33-s3-e00104917.pdf')"
   ]
  },
  {
   "cell_type": "code",
   "execution_count": 44,
   "metadata": {
    "collapsed": true
   },
   "outputs": [],
   "source": [
    "import queue\n",
    "#save pdf files\n",
    "def save_documents(pathInput, pathOutput='', where=0):\n",
    "    if where == 0: # save to a data structure\n",
    "        all_docs = []\n",
    "        for file in os.listdir(pathInput):\n",
    "            all_docs.append(load_file(os.path.join(pathInput, file)))\n",
    "        return all_docs\n",
    "    else: #save to file in disk\n",
    "        q = queue.Queue()\n",
    "        s = \"\"\n",
    "        for file in tqdm(os.listdir(pathInput)):\n",
    "            fileToSave = open(os.path.join(pathOutput, file), \"w\")\n",
    "            values = load_file(os.path.join(pathInput, file))\n",
    "            with fileToSave as myfile:\n",
    "                for line in values:\n",
    "                    if re.match('(.)*-$',line):                        \n",
    "                        #we create a FIFO queue for join lines with dashes\n",
    "                        q.put(line[:-1])\n",
    "                    else:\n",
    "                        #while there are not dashes we join the lines\n",
    "                        while not q.empty():\n",
    "                            s += q.get()                                                        \n",
    "                        #print('{}{}\\n'.format(s,line))\n",
    "                        myfile.write('{}{}\\n'.format(s,line))\n",
    "                        s = \"\" # If script gets here we empty the "
   ]
  },
  {
   "cell_type": "code",
   "execution_count": 46,
   "metadata": {},
   "outputs": [
    {
     "name": "stderr",
     "output_type": "stream",
     "text": [
      "100%|██████████| 53/53 [00:19<00:00,  2.69it/s]\n"
     ]
    }
   ],
   "source": [
    "all_docs = save_documents('data/pdf/','data/processed/', 1)"
   ]
  },
  {
   "cell_type": "markdown",
   "metadata": {},
   "source": [
    "Of course, all of this is only a Proof of Concept, because in real life you will need to recollect a lot more of documents and parse much better, to create a clean corpus, because for example right now it has a lot of numbers combined with letters"
   ]
  },
  {
   "cell_type": "markdown",
   "metadata": {},
   "source": [
    "## Training the model"
   ]
  },
  {
   "cell_type": "code",
   "execution_count": 2,
   "metadata": {
    "collapsed": true
   },
   "outputs": [],
   "source": [
    "import gensim\n",
    "from nltk.corpus import stopwords\n",
    "import nltk\n",
    "import string\n",
    "from tqdm import tqdm\n",
    "from gensim.models.keyedvectors import KeyedVectors"
   ]
  },
  {
   "cell_type": "code",
   "execution_count": 51,
   "metadata": {
    "collapsed": true
   },
   "outputs": [],
   "source": [
    "class MySentences(object):\n",
    "    \n",
    "    def __init__(self, dirname):\n",
    "        self.dirname = dirname\n",
    " \n",
    "    def __iter__(self):\n",
    "        punctuations = list(string.punctuation)\n",
    "        stop = stopwords.words('spanish') + stopwords.words('english') + punctuations\n",
    "        stop += ['et', '1', '2', 'j', '3']        \n",
    "        for fname in tqdm(os.listdir(self.dirname)):\n",
    "            for line in open(os.path.join(self.dirname, fname), \"rb\"):\n",
    "                sentence = line.decode('utf-8').lower()\n",
    "                parts = nltk.word_tokenize(sentence)\n",
    "                important_words = [item for item in parts if item not in stop]\n",
    "                yield important_words            "
   ]
  },
  {
   "cell_type": "code",
   "execution_count": 52,
   "metadata": {
    "collapsed": true
   },
   "outputs": [],
   "source": [
    "sentences = MySentences('data/processed/')"
   ]
  },
  {
   "cell_type": "code",
   "execution_count": 53,
   "metadata": {},
   "outputs": [
    {
     "name": "stderr",
     "output_type": "stream",
     "text": [
      "100%|██████████| 53/53 [00:21<00:00,  2.46it/s]\n",
      "100%|██████████| 53/53 [00:22<00:00,  2.38it/s]\n",
      "100%|██████████| 53/53 [00:22<00:00,  2.39it/s]\n",
      "100%|██████████| 53/53 [00:23<00:00,  2.24it/s]\n",
      "100%|██████████| 53/53 [00:26<00:00,  2.03it/s]\n",
      "100%|██████████| 53/53 [00:23<00:00,  2.26it/s]\n"
     ]
    }
   ],
   "source": [
    "model = gensim.models.Word2Vec(sentences, sg = 1, min_count=4, size = 300)"
   ]
  },
  {
   "cell_type": "markdown",
   "metadata": {},
   "source": [
    "With model.save('models/w2v_v2.bin') we can save the model for retraining or use it in production."
   ]
  },
  {
   "cell_type": "markdown",
   "metadata": {},
   "source": [
    "Since is very hard to get a clean corpus and train models, I decide to use a pretrained model, trained from PubMed and PMC from http://bio.nlplab.org/."
   ]
  },
  {
   "cell_type": "code",
   "execution_count": 54,
   "metadata": {
    "collapsed": true
   },
   "outputs": [],
   "source": [
    "# When we use the method load_word2vec_format() we can't retrain the model\n",
    "model = KeyedVectors.load_word2vec_format('models/PubMed-and-PMC-w2v.bin', binary=True)"
   ]
  },
  {
   "cell_type": "markdown",
   "metadata": {},
   "source": [
    "## Evaluate"
   ]
  },
  {
   "cell_type": "markdown",
   "metadata": {
    "collapsed": true
   },
   "source": [
    "For this we will use a paper called \"How to evaluate word embeddings? On importance of data efficiency and simple supervised tasks\" and their code, which can find in https://github.com/kudkudak/word-embeddings-benchmarks"
   ]
  },
  {
   "cell_type": "markdown",
   "metadata": {},
   "source": [
    "UMNSRS\n",
    ":  The  University  of  Minnesota  Semantic  Relatedness  Set  (UMNSRS)  was  developed by Pakhomov et al. (2010), and consists of 725 clinical term pairs whose semantic similarity and relatedness was determined independently by four medical residents from the University of Minnesota Medical School.  The similarity and relatedness of each term pair was annotated based on a continuous scale by having the resident touch a baron a touch sensitive computer screen to indicate the degree of similarity or relatedness.  The Intraclass Correlation Coefficient (ICC) for the reference standard tagged for similarity was 0.47, and 0.50 for relatedness.   Therefore,  as suggested by Pakhomov and colleagues,we use a subset of the ratings  consisting  of  401  pairs  for  the  similarity set and 430 pairs for the relatedness set which each have an ICC of 0.73."
   ]
  },
  {
   "cell_type": "code",
   "execution_count": null,
   "metadata": {
    "collapsed": true
   },
   "outputs": [],
   "source": [
    "import subprocess\n",
    "import os\n",
    "\n",
    "cmd = 'scripts/word-embeddings-benchmarks/scripts/evaluate_on_all.py --file ~/jupyterNotebooks/mlnn2017/P3\\ -\\ Exploring\\ specific\\ domains\\ with\\ embeddings/models/PubMed-and-PMC-w2v.bin --format word2vec_bin'\n",
    "run = subprocess.Popen(cmd, shell=True, stdout=subprocess.PIPE, stderr=subprocess.PIPE)\n",
    "out, err = run.communicate()"
   ]
  },
  {
   "cell_type": "code",
   "execution_count": null,
   "metadata": {
    "collapsed": true
   },
   "outputs": [],
   "source": [
    "https://kokes.github.io/nbviewer.js/viewer.html"
   ]
  },
  {
   "cell_type": "markdown",
   "metadata": {
    "collapsed": true
   },
   "source": [
    "|                                | AP    | Battig | ESSLI_2b | ESSLI_2c | MEN   | MTurk | SimLex999 | WS353 | WS353S | UMNSRS_similarity | UMNSRS_relatedness |\n",
    "|--------------------------------|-------|--------|----------|----------|-------|-------|-----------|-------|--------|-------------------|--------------------|\n",
    "| PubMed-and-PMC-w2v             | 0.554 | 0.308  | 0.725    | 0.488    | 0.545 | 0.446 | 0.261     | 0.416 | 0.475  | 0.541             | 0.4864             |\n",
    "| SBW-vector-300-min5+medics     | 0.281 | 0.246  | 0.55     | 0.4      | 0.314 | 0.232 | 0.145     | 0.232 | 0.303  | 0.059             | 0.033              |\n",
    "| SBW-vectors-300-min5           | 0.325 | 0.239  | 0.425    | 0.377    | 0.32  | 0.262 | 0.128     | 0.280 | 0.332  | 0.053             | 0.027              |\n",
    "| LexVec which=\"commoncrawl-W+C\" | 0.639 | 0.431  | 0.725    | 0.644    | 0.809 | 0.712 | 0.419     | 0.647 | 0.756  |                   |                    |\n",
    "| GloVe dim=300 corpus=wiki-6B   | 0.622 | 0.451  | 0.750    | 0.578    | 0.737 | 0.633 | 0.371     | 0.522 | 0.653  | 0.261             | 0.243              |"
   ]
  },
  {
   "cell_type": "code",
   "execution_count": null,
   "metadata": {
    "collapsed": true
   },
   "outputs": [],
   "source": []
  },
  {
   "cell_type": "code",
   "execution_count": null,
   "metadata": {
    "collapsed": true
   },
   "outputs": [],
   "source": []
  },
  {
   "cell_type": "markdown",
   "metadata": {},
   "source": [
    "## D2 - Explore whether a combination with general domain corpora improves the results."
   ]
  },
  {
   "cell_type": "markdown",
   "metadata": {},
   "source": [
    "For this we could scrape wikipedia with BeautifulSoup4 or Selenium. This will be easier than with the pdf files, since HTML is a text format, and it gives us all the information we need about the text, but since the BioNLP group had already the previous model with a dump of the Wikipedia, we are going to use that."
   ]
  },
  {
   "cell_type": "markdown",
   "metadata": {},
   "source": [
    "If we had a model, and we wanted to retrain it with a bigger corpus, or like in this case in other domain, we can do it like this:"
   ]
  },
  {
   "cell_type": "code",
   "execution_count": null,
   "metadata": {
    "collapsed": true
   },
   "outputs": [],
   "source": [
    "# We load the simple model\n",
    "simple_model = KeyedVectors.load_word2vec_format('models/PubMed-and-PMC-w2v.bin', binary=True)"
   ]
  },
  {
   "cell_type": "code",
   "execution_count": null,
   "metadata": {
    "collapsed": true
   },
   "outputs": [],
   "source": [
    "# We set the directory of the new files for the retraining\n",
    "dirpath='data/processed/'\n",
    "corpusReader = nltk.corpus.PlaintextCorpusReader(dirpath, '.*\\.txt')\n",
    "frases = len(corpusReader.sents())\n",
    "print(\"The number of sentences =\", frases)"
   ]
  },
  {
   "cell_type": "code",
   "execution_count": null,
   "metadata": {
    "collapsed": true
   },
   "outputs": [],
   "source": [
    "sentences = MySentences(dirpath)\n",
    "model.train(sentences, total_examples=frases, epochs=model.iter)"
   ]
  },
  {
   "cell_type": "code",
   "execution_count": null,
   "metadata": {
    "collapsed": true
   },
   "outputs": [],
   "source": [
    "# If we want we can save our new model retrained with the new corpora\n",
    "#model.wv.save_word2vec_format('../models/model_w2v_sbw_withMedical.bin', binary=True)"
   ]
  },
  {
   "cell_type": "code",
   "execution_count": null,
   "metadata": {
    "collapsed": true
   },
   "outputs": [],
   "source": [
    "#And now we can load the combined model and checks his accuracy\n",
    "combined_model = KeyedVectors.load_word2vec_format('models/wikipedia-pubmed-and-PMC-w2v.bin', binary=True)"
   ]
  },
  {
   "cell_type": "markdown",
   "metadata": {
    "collapsed": true
   },
   "source": [
    "|                                | AP    | Battig | ESSLI_2b | ESSLI_2c | MEN   | MTurk | SimLex999 | WS353 | WS353S | UMNSRS_similarity | UMNSRS_relatedness |\n",
    "|--------------------------------|-------|--------|----------|----------|-------|-------|-----------|-------|--------|-------------------|--------------------|\n",
    "| PubMed-and-PMC-w2v             | 0.554 | 0.308  | 0.725    | 0.488    | 0.545 | 0.446 | 0.261     | 0.416 | 0.475  | 0.541             | 0.4864             |\n",
    "| Wikipedia+PubMed-and-PMC-w2v   | 0.567 | 0.396  | 0.725    | 0.511    | 0.517 | 0.572 | 0.278     | 0.484 | 0.526  | 0.543             | 0.4860             |\n",
    "| SBW-vector-300-min5+medics     | 0.281 | 0.246  | 0.55     | 0.4      | 0.314 | 0.232 | 0.145     | 0.232 | 0.303  | 0.059             | 0.033              |\n",
    "| SBW-vectors-300-min5           | 0.325 | 0.239  | 0.425    | 0.377    | 0.32  | 0.262 | 0.128     | 0.280 | 0.332  | 0.053             | 0.027              |\n",
    "| LexVec which=\"commoncrawl-W+C\" | 0.639 | 0.431  | 0.725    | 0.644    | 0.809 | 0.712 | 0.419     | 0.647 | 0.756  |                   |                    |\n",
    "| GloVe dim=300 corpus=wiki-6B   | 0.622 | 0.451  | 0.750    | 0.578    | 0.737 | 0.633 | 0.371     | 0.522 | 0.653  | 0.261             | 0.243              |"
   ]
  },
  {
   "cell_type": "markdown",
   "metadata": {
    "collapsed": true
   },
   "source": [
    "As we can see the result in all tests, medical and non-medical are better than with the previous model, so is safe to say is better to train models with a mix of the corpora we are going to have in our application"
   ]
  },
  {
   "cell_type": "code",
   "execution_count": null,
   "metadata": {
    "collapsed": true
   },
   "outputs": [],
   "source": []
  },
  {
   "cell_type": "markdown",
   "metadata": {},
   "source": [
    "## D3: Explore whether the combination with random-walks over knowledge-bases improves the results."
   ]
  },
  {
   "cell_type": "code",
   "execution_count": null,
   "metadata": {
    "collapsed": true
   },
   "outputs": [],
   "source": []
  },
  {
   "cell_type": "code",
   "execution_count": null,
   "metadata": {
    "collapsed": true
   },
   "outputs": [],
   "source": []
  },
  {
   "cell_type": "code",
   "execution_count": null,
   "metadata": {
    "collapsed": true
   },
   "outputs": [],
   "source": []
  },
  {
   "cell_type": "code",
   "execution_count": null,
   "metadata": {
    "collapsed": true
   },
   "outputs": [],
   "source": []
  },
  {
   "cell_type": "markdown",
   "metadata": {
    "collapsed": true
   },
   "source": [
    "## Extra - Visualization of Embeddings using a dimensionality reduction algorithm."
   ]
  },
  {
   "cell_type": "code",
   "execution_count": 1,
   "metadata": {
    "collapsed": true
   },
   "outputs": [],
   "source": [
    "from gensim.models.keyedvectors import KeyedVectors"
   ]
  },
  {
   "cell_type": "code",
   "execution_count": 1,
   "metadata": {
    "scrolled": false
   },
   "outputs": [],
   "source": [
    "combined_model = KeyedVectors.load_word2vec_format('models/wikipedia-pubmed-and-PMC-w2v.bin', binary=True)"
   ]
  },
  {
   "cell_type": "code",
   "execution_count": 2,
   "metadata": {
    "collapsed": true
   },
   "outputs": [],
   "source": [
    "#We cut the embeddings for tSNE and we load the small model\n",
    "combined_model.wv.save_word2vec_format('models/smaller_combined_model.w2v', total_vec=2500)"
   ]
  },
  {
   "cell_type": "code",
   "execution_count": 2,
   "metadata": {
    "collapsed": true
   },
   "outputs": [],
   "source": [
    "combined_model = KeyedVectors.load_word2vec_format('models/smaller_combined_model.w2v')"
   ]
  },
  {
   "cell_type": "code",
   "execution_count": 3,
   "metadata": {},
   "outputs": [
    {
     "data": {
      "text/html": [
       "\n",
       "    <div class=\"bk-root\">\n",
       "        <a href=\"https://bokeh.pydata.org\" target=\"_blank\" class=\"bk-logo bk-logo-small bk-logo-notebook\"></a>\n",
       "        <span id=\"81b75a86-cdee-477b-b37b-1092f1039633\">Loading BokehJS ...</span>\n",
       "    </div>"
      ]
     },
     "metadata": {},
     "output_type": "display_data"
    },
    {
     "data": {
      "application/javascript": [
       "\n",
       "(function(root) {\n",
       "  function now() {\n",
       "    return new Date();\n",
       "  }\n",
       "\n",
       "  var force = true;\n",
       "\n",
       "  if (typeof (root._bokeh_onload_callbacks) === \"undefined\" || force === true) {\n",
       "    root._bokeh_onload_callbacks = [];\n",
       "    root._bokeh_is_loading = undefined;\n",
       "  }\n",
       "\n",
       "  var JS_MIME_TYPE = 'application/javascript';\n",
       "  var HTML_MIME_TYPE = 'text/html';\n",
       "  var EXEC_MIME_TYPE = 'application/vnd.bokehjs_exec.v0+json';\n",
       "  var CLASS_NAME = 'output_bokeh rendered_html';\n",
       "\n",
       "  /**\n",
       "   * Render data to the DOM node\n",
       "   */\n",
       "  function render(props, node) {\n",
       "    var script = document.createElement(\"script\");\n",
       "    node.appendChild(script);\n",
       "  }\n",
       "\n",
       "  /**\n",
       "   * Handle when an output is cleared or removed\n",
       "   */\n",
       "  function handleClearOutput(event, handle) {\n",
       "    var cell = handle.cell;\n",
       "\n",
       "    var id = cell.output_area._bokeh_element_id;\n",
       "    var server_id = cell.output_area._bokeh_server_id;\n",
       "    // Clean up Bokeh references\n",
       "    if (id !== undefined) {\n",
       "      Bokeh.index[id].model.document.clear();\n",
       "      delete Bokeh.index[id];\n",
       "    }\n",
       "\n",
       "    if (server_id !== undefined) {\n",
       "      // Clean up Bokeh references\n",
       "      var cmd = \"from bokeh.io.state import curstate; print(curstate().uuid_to_server['\" + server_id + \"'].get_sessions()[0].document.roots[0]._id)\";\n",
       "      cell.notebook.kernel.execute(cmd, {\n",
       "        iopub: {\n",
       "          output: function(msg) {\n",
       "            var element_id = msg.content.text.trim();\n",
       "            Bokeh.index[element_id].model.document.clear();\n",
       "            delete Bokeh.index[element_id];\n",
       "          }\n",
       "        }\n",
       "      });\n",
       "      // Destroy server and session\n",
       "      var cmd = \"import bokeh.io.notebook as ion; ion.destroy_server('\" + server_id + \"')\";\n",
       "      cell.notebook.kernel.execute(cmd);\n",
       "    }\n",
       "  }\n",
       "\n",
       "  /**\n",
       "   * Handle when a new output is added\n",
       "   */\n",
       "  function handleAddOutput(event, handle) {\n",
       "    var output_area = handle.output_area;\n",
       "    var output = handle.output;\n",
       "\n",
       "    // limit handleAddOutput to display_data with EXEC_MIME_TYPE content only\n",
       "    if ((output.output_type != \"display_data\") || (!output.data.hasOwnProperty(EXEC_MIME_TYPE))) {\n",
       "      return\n",
       "    }\n",
       "\n",
       "    var toinsert = output_area.element.find(`.${CLASS_NAME.split(' ')[0]}`);\n",
       "\n",
       "    if (output.metadata[EXEC_MIME_TYPE][\"id\"] !== undefined) {\n",
       "      toinsert[0].firstChild.textContent = output.data[JS_MIME_TYPE];\n",
       "      // store reference to embed id on output_area\n",
       "      output_area._bokeh_element_id = output.metadata[EXEC_MIME_TYPE][\"id\"];\n",
       "    }\n",
       "    if (output.metadata[EXEC_MIME_TYPE][\"server_id\"] !== undefined) {\n",
       "      var bk_div = document.createElement(\"div\");\n",
       "      bk_div.innerHTML = output.data[HTML_MIME_TYPE];\n",
       "      var script_attrs = bk_div.children[0].attributes;\n",
       "      for (var i = 0; i < script_attrs.length; i++) {\n",
       "        toinsert[0].firstChild.setAttribute(script_attrs[i].name, script_attrs[i].value);\n",
       "      }\n",
       "      // store reference to server id on output_area\n",
       "      output_area._bokeh_server_id = output.metadata[EXEC_MIME_TYPE][\"server_id\"];\n",
       "    }\n",
       "  }\n",
       "\n",
       "  function register_renderer(events, OutputArea) {\n",
       "\n",
       "    function append_mime(data, metadata, element) {\n",
       "      // create a DOM node to render to\n",
       "      var toinsert = this.create_output_subarea(\n",
       "        metadata,\n",
       "        CLASS_NAME,\n",
       "        EXEC_MIME_TYPE\n",
       "      );\n",
       "      this.keyboard_manager.register_events(toinsert);\n",
       "      // Render to node\n",
       "      var props = {data: data, metadata: metadata[EXEC_MIME_TYPE]};\n",
       "      render(props, toinsert[0]);\n",
       "      element.append(toinsert);\n",
       "      return toinsert\n",
       "    }\n",
       "\n",
       "    /* Handle when an output is cleared or removed */\n",
       "    events.on('clear_output.CodeCell', handleClearOutput);\n",
       "    events.on('delete.Cell', handleClearOutput);\n",
       "\n",
       "    /* Handle when a new output is added */\n",
       "    events.on('output_added.OutputArea', handleAddOutput);\n",
       "\n",
       "    /**\n",
       "     * Register the mime type and append_mime function with output_area\n",
       "     */\n",
       "    OutputArea.prototype.register_mime_type(EXEC_MIME_TYPE, append_mime, {\n",
       "      /* Is output safe? */\n",
       "      safe: true,\n",
       "      /* Index of renderer in `output_area.display_order` */\n",
       "      index: 0\n",
       "    });\n",
       "  }\n",
       "\n",
       "  // register the mime type if in Jupyter Notebook environment and previously unregistered\n",
       "  if (root.Jupyter !== undefined) {\n",
       "    var events = require('base/js/events');\n",
       "    var OutputArea = require('notebook/js/outputarea').OutputArea;\n",
       "\n",
       "    if (OutputArea.prototype.mime_types().indexOf(EXEC_MIME_TYPE) == -1) {\n",
       "      register_renderer(events, OutputArea);\n",
       "    }\n",
       "  }\n",
       "\n",
       "  \n",
       "  if (typeof (root._bokeh_timeout) === \"undefined\" || force === true) {\n",
       "    root._bokeh_timeout = Date.now() + 5000;\n",
       "    root._bokeh_failed_load = false;\n",
       "  }\n",
       "\n",
       "  var NB_LOAD_WARNING = {'data': {'text/html':\n",
       "     \"<div style='background-color: #fdd'>\\n\"+\n",
       "     \"<p>\\n\"+\n",
       "     \"BokehJS does not appear to have successfully loaded. If loading BokehJS from CDN, this \\n\"+\n",
       "     \"may be due to a slow or bad network connection. Possible fixes:\\n\"+\n",
       "     \"</p>\\n\"+\n",
       "     \"<ul>\\n\"+\n",
       "     \"<li>re-rerun `output_notebook()` to attempt to load from CDN again, or</li>\\n\"+\n",
       "     \"<li>use INLINE resources instead, as so:</li>\\n\"+\n",
       "     \"</ul>\\n\"+\n",
       "     \"<code>\\n\"+\n",
       "     \"from bokeh.resources import INLINE\\n\"+\n",
       "     \"output_notebook(resources=INLINE)\\n\"+\n",
       "     \"</code>\\n\"+\n",
       "     \"</div>\"}};\n",
       "\n",
       "  function display_loaded() {\n",
       "    var el = document.getElementById(\"81b75a86-cdee-477b-b37b-1092f1039633\");\n",
       "    if (el != null) {\n",
       "      el.textContent = \"BokehJS is loading...\";\n",
       "    }\n",
       "    if (root.Bokeh !== undefined) {\n",
       "      if (el != null) {\n",
       "        el.textContent = \"BokehJS \" + root.Bokeh.version + \" successfully loaded.\";\n",
       "      }\n",
       "    } else if (Date.now() < root._bokeh_timeout) {\n",
       "      setTimeout(display_loaded, 100)\n",
       "    }\n",
       "  }\n",
       "\n",
       "\n",
       "  function run_callbacks() {\n",
       "    try {\n",
       "      root._bokeh_onload_callbacks.forEach(function(callback) { callback() });\n",
       "    }\n",
       "    finally {\n",
       "      delete root._bokeh_onload_callbacks\n",
       "    }\n",
       "    console.info(\"Bokeh: all callbacks have finished\");\n",
       "  }\n",
       "\n",
       "  function load_libs(js_urls, callback) {\n",
       "    root._bokeh_onload_callbacks.push(callback);\n",
       "    if (root._bokeh_is_loading > 0) {\n",
       "      console.log(\"Bokeh: BokehJS is being loaded, scheduling callback at\", now());\n",
       "      return null;\n",
       "    }\n",
       "    if (js_urls == null || js_urls.length === 0) {\n",
       "      run_callbacks();\n",
       "      return null;\n",
       "    }\n",
       "    console.log(\"Bokeh: BokehJS not loaded, scheduling load and callback at\", now());\n",
       "    root._bokeh_is_loading = js_urls.length;\n",
       "    for (var i = 0; i < js_urls.length; i++) {\n",
       "      var url = js_urls[i];\n",
       "      var s = document.createElement('script');\n",
       "      s.src = url;\n",
       "      s.async = false;\n",
       "      s.onreadystatechange = s.onload = function() {\n",
       "        root._bokeh_is_loading--;\n",
       "        if (root._bokeh_is_loading === 0) {\n",
       "          console.log(\"Bokeh: all BokehJS libraries loaded\");\n",
       "          run_callbacks()\n",
       "        }\n",
       "      };\n",
       "      s.onerror = function() {\n",
       "        console.warn(\"failed to load library \" + url);\n",
       "      };\n",
       "      console.log(\"Bokeh: injecting script tag for BokehJS library: \", url);\n",
       "      document.getElementsByTagName(\"head\")[0].appendChild(s);\n",
       "    }\n",
       "  };var element = document.getElementById(\"81b75a86-cdee-477b-b37b-1092f1039633\");\n",
       "  if (element == null) {\n",
       "    console.log(\"Bokeh: ERROR: autoload.js configured with elementid '81b75a86-cdee-477b-b37b-1092f1039633' but no matching script tag was found. \")\n",
       "    return false;\n",
       "  }\n",
       "\n",
       "  var js_urls = [\"https://cdn.pydata.org/bokeh/release/bokeh-0.12.10.min.js\", \"https://cdn.pydata.org/bokeh/release/bokeh-widgets-0.12.10.min.js\", \"https://cdn.pydata.org/bokeh/release/bokeh-tables-0.12.10.min.js\", \"https://cdn.pydata.org/bokeh/release/bokeh-gl-0.12.10.min.js\"];\n",
       "\n",
       "  var inline_js = [\n",
       "    function(Bokeh) {\n",
       "      Bokeh.set_log_level(\"info\");\n",
       "    },\n",
       "    \n",
       "    function(Bokeh) {\n",
       "      \n",
       "    },\n",
       "    function(Bokeh) {\n",
       "      console.log(\"Bokeh: injecting CSS: https://cdn.pydata.org/bokeh/release/bokeh-0.12.10.min.css\");\n",
       "      Bokeh.embed.inject_css(\"https://cdn.pydata.org/bokeh/release/bokeh-0.12.10.min.css\");\n",
       "      console.log(\"Bokeh: injecting CSS: https://cdn.pydata.org/bokeh/release/bokeh-widgets-0.12.10.min.css\");\n",
       "      Bokeh.embed.inject_css(\"https://cdn.pydata.org/bokeh/release/bokeh-widgets-0.12.10.min.css\");\n",
       "      console.log(\"Bokeh: injecting CSS: https://cdn.pydata.org/bokeh/release/bokeh-tables-0.12.10.min.css\");\n",
       "      Bokeh.embed.inject_css(\"https://cdn.pydata.org/bokeh/release/bokeh-tables-0.12.10.min.css\");\n",
       "    }\n",
       "  ];\n",
       "\n",
       "  function run_inline_js() {\n",
       "    \n",
       "    if ((root.Bokeh !== undefined) || (force === true)) {\n",
       "      for (var i = 0; i < inline_js.length; i++) {\n",
       "        inline_js[i].call(root, root.Bokeh);\n",
       "      }if (force === true) {\n",
       "        display_loaded();\n",
       "      }} else if (Date.now() < root._bokeh_timeout) {\n",
       "      setTimeout(run_inline_js, 100);\n",
       "    } else if (!root._bokeh_failed_load) {\n",
       "      console.log(\"Bokeh: BokehJS failed to load within specified timeout.\");\n",
       "      root._bokeh_failed_load = true;\n",
       "    } else if (force !== true) {\n",
       "      var cell = $(document.getElementById(\"81b75a86-cdee-477b-b37b-1092f1039633\")).parents('.cell').data().cell;\n",
       "      cell.output_area.append_execute_result(NB_LOAD_WARNING)\n",
       "    }\n",
       "\n",
       "  }\n",
       "\n",
       "  if (root._bokeh_is_loading === 0) {\n",
       "    console.log(\"Bokeh: BokehJS loaded, going straight to plotting\");\n",
       "    run_inline_js();\n",
       "  } else {\n",
       "    load_libs(js_urls, function() {\n",
       "      console.log(\"Bokeh: BokehJS plotting callback run at\", now());\n",
       "      run_inline_js();\n",
       "    });\n",
       "  }\n",
       "}(window));"
      ],
      "application/vnd.bokehjs_load.v0+json": "\n(function(root) {\n  function now() {\n    return new Date();\n  }\n\n  var force = true;\n\n  if (typeof (root._bokeh_onload_callbacks) === \"undefined\" || force === true) {\n    root._bokeh_onload_callbacks = [];\n    root._bokeh_is_loading = undefined;\n  }\n\n  \n\n  \n  if (typeof (root._bokeh_timeout) === \"undefined\" || force === true) {\n    root._bokeh_timeout = Date.now() + 5000;\n    root._bokeh_failed_load = false;\n  }\n\n  var NB_LOAD_WARNING = {'data': {'text/html':\n     \"<div style='background-color: #fdd'>\\n\"+\n     \"<p>\\n\"+\n     \"BokehJS does not appear to have successfully loaded. If loading BokehJS from CDN, this \\n\"+\n     \"may be due to a slow or bad network connection. Possible fixes:\\n\"+\n     \"</p>\\n\"+\n     \"<ul>\\n\"+\n     \"<li>re-rerun `output_notebook()` to attempt to load from CDN again, or</li>\\n\"+\n     \"<li>use INLINE resources instead, as so:</li>\\n\"+\n     \"</ul>\\n\"+\n     \"<code>\\n\"+\n     \"from bokeh.resources import INLINE\\n\"+\n     \"output_notebook(resources=INLINE)\\n\"+\n     \"</code>\\n\"+\n     \"</div>\"}};\n\n  function display_loaded() {\n    var el = document.getElementById(\"81b75a86-cdee-477b-b37b-1092f1039633\");\n    if (el != null) {\n      el.textContent = \"BokehJS is loading...\";\n    }\n    if (root.Bokeh !== undefined) {\n      if (el != null) {\n        el.textContent = \"BokehJS \" + root.Bokeh.version + \" successfully loaded.\";\n      }\n    } else if (Date.now() < root._bokeh_timeout) {\n      setTimeout(display_loaded, 100)\n    }\n  }\n\n\n  function run_callbacks() {\n    try {\n      root._bokeh_onload_callbacks.forEach(function(callback) { callback() });\n    }\n    finally {\n      delete root._bokeh_onload_callbacks\n    }\n    console.info(\"Bokeh: all callbacks have finished\");\n  }\n\n  function load_libs(js_urls, callback) {\n    root._bokeh_onload_callbacks.push(callback);\n    if (root._bokeh_is_loading > 0) {\n      console.log(\"Bokeh: BokehJS is being loaded, scheduling callback at\", now());\n      return null;\n    }\n    if (js_urls == null || js_urls.length === 0) {\n      run_callbacks();\n      return null;\n    }\n    console.log(\"Bokeh: BokehJS not loaded, scheduling load and callback at\", now());\n    root._bokeh_is_loading = js_urls.length;\n    for (var i = 0; i < js_urls.length; i++) {\n      var url = js_urls[i];\n      var s = document.createElement('script');\n      s.src = url;\n      s.async = false;\n      s.onreadystatechange = s.onload = function() {\n        root._bokeh_is_loading--;\n        if (root._bokeh_is_loading === 0) {\n          console.log(\"Bokeh: all BokehJS libraries loaded\");\n          run_callbacks()\n        }\n      };\n      s.onerror = function() {\n        console.warn(\"failed to load library \" + url);\n      };\n      console.log(\"Bokeh: injecting script tag for BokehJS library: \", url);\n      document.getElementsByTagName(\"head\")[0].appendChild(s);\n    }\n  };var element = document.getElementById(\"81b75a86-cdee-477b-b37b-1092f1039633\");\n  if (element == null) {\n    console.log(\"Bokeh: ERROR: autoload.js configured with elementid '81b75a86-cdee-477b-b37b-1092f1039633' but no matching script tag was found. \")\n    return false;\n  }\n\n  var js_urls = [\"https://cdn.pydata.org/bokeh/release/bokeh-0.12.10.min.js\", \"https://cdn.pydata.org/bokeh/release/bokeh-widgets-0.12.10.min.js\", \"https://cdn.pydata.org/bokeh/release/bokeh-tables-0.12.10.min.js\", \"https://cdn.pydata.org/bokeh/release/bokeh-gl-0.12.10.min.js\"];\n\n  var inline_js = [\n    function(Bokeh) {\n      Bokeh.set_log_level(\"info\");\n    },\n    \n    function(Bokeh) {\n      \n    },\n    function(Bokeh) {\n      console.log(\"Bokeh: injecting CSS: https://cdn.pydata.org/bokeh/release/bokeh-0.12.10.min.css\");\n      Bokeh.embed.inject_css(\"https://cdn.pydata.org/bokeh/release/bokeh-0.12.10.min.css\");\n      console.log(\"Bokeh: injecting CSS: https://cdn.pydata.org/bokeh/release/bokeh-widgets-0.12.10.min.css\");\n      Bokeh.embed.inject_css(\"https://cdn.pydata.org/bokeh/release/bokeh-widgets-0.12.10.min.css\");\n      console.log(\"Bokeh: injecting CSS: https://cdn.pydata.org/bokeh/release/bokeh-tables-0.12.10.min.css\");\n      Bokeh.embed.inject_css(\"https://cdn.pydata.org/bokeh/release/bokeh-tables-0.12.10.min.css\");\n    }\n  ];\n\n  function run_inline_js() {\n    \n    if ((root.Bokeh !== undefined) || (force === true)) {\n      for (var i = 0; i < inline_js.length; i++) {\n        inline_js[i].call(root, root.Bokeh);\n      }if (force === true) {\n        display_loaded();\n      }} else if (Date.now() < root._bokeh_timeout) {\n      setTimeout(run_inline_js, 100);\n    } else if (!root._bokeh_failed_load) {\n      console.log(\"Bokeh: BokehJS failed to load within specified timeout.\");\n      root._bokeh_failed_load = true;\n    } else if (force !== true) {\n      var cell = $(document.getElementById(\"81b75a86-cdee-477b-b37b-1092f1039633\")).parents('.cell').data().cell;\n      cell.output_area.append_execute_result(NB_LOAD_WARNING)\n    }\n\n  }\n\n  if (root._bokeh_is_loading === 0) {\n    console.log(\"Bokeh: BokehJS loaded, going straight to plotting\");\n    run_inline_js();\n  } else {\n    load_libs(js_urls, function() {\n      console.log(\"Bokeh: BokehJS plotting callback run at\", now());\n      run_inline_js();\n    });\n  }\n}(window));"
     },
     "metadata": {},
     "output_type": "display_data"
    }
   ],
   "source": [
    "import bokeh.plotting as bp\n",
    "import matplotlib.pyplot as plt\n",
    "%matplotlib inline\n",
    "import pandas as pd\n",
    "from bokeh.models import HoverTool, BoxSelectTool\n",
    "from bokeh.plotting import figure, show, output_notebook\n",
    "\n",
    "output_notebook()\n",
    "plot_tfidf = bp.figure(plot_width=700, plot_height=600, title=\"A map of word vectors\",\n",
    "    tools=\"pan,wheel_zoom,box_zoom,reset,hover,previewsave\",\n",
    "    x_axis_type=None, y_axis_type=None, min_border=1)"
   ]
  },
  {
   "cell_type": "code",
   "execution_count": 4,
   "metadata": {},
   "outputs": [
    {
     "name": "stdout",
     "output_type": "stream",
     "text": [
      "[t-SNE] Computing pairwise distances...\n",
      "[t-SNE] Computing 91 nearest neighbors...\n",
      "[t-SNE] Computed conditional probabilities for sample 1000 / 2500\n",
      "[t-SNE] Computed conditional probabilities for sample 2000 / 2500\n",
      "[t-SNE] Computed conditional probabilities for sample 2500 / 2500\n",
      "[t-SNE] Mean sigma: 0.888116\n",
      "[t-SNE] KL divergence after 100 iterations with early exaggeration: 1.315982\n",
      "[t-SNE] Error after 300 iterations: 1.315982\n"
     ]
    }
   ],
   "source": [
    "from sklearn.manifold import TSNE\n",
    "word_vectors = [combined_model[w] for w in combined_model.wv.vocab.keys()]\n",
    "tsne_model = TSNE(n_components=2, init='pca', verbose=1, random_state=0)\n",
    "tsne_w2v = tsne_model.fit_transform(word_vectors)"
   ]
  },
  {
   "cell_type": "code",
   "execution_count": 5,
   "metadata": {},
   "outputs": [],
   "source": [
    "tsne_df = pd.DataFrame(tsne_w2v, columns=['x', 'y'])\n",
    "tsne_df['words'] = combined_model.wv.vocab.keys()"
   ]
  },
  {
   "cell_type": "code",
   "execution_count": 6,
   "metadata": {},
   "outputs": [
    {
     "data": {
      "text/html": [
       "\n",
       "<div class=\"bk-root\">\n",
       "    <div class=\"bk-plotdiv\" id=\"660c7ea3-b534-4897-b502-8b9037fe64cf\"></div>\n",
       "</div>"
      ]
     },
     "metadata": {},
     "output_type": "display_data"
    },
    {
     "data": {
      "application/javascript": [
       "(function(root) {\n",
       "  function embed_document(root) {\n",
       "    var docs_json = {\"eb00671a-c4c5-45c9-9ab6-19b56b7c20cf\":{\"roots\":{\"references\":[{\"attributes\":{\"plot\":null,\"text\":\"A map of word vectors\"},\"id\":\"0165e984-3eb6-4fa2-b638-d0f61f1977c1\",\"type\":\"Title\"},{\"attributes\":{},\"id\":\"d8b113c6-9b24-4c02-bfe4-cbe751ee7495\",\"type\":\"LinearScale\"},{\"attributes\":{\"callback\":null},\"id\":\"9bb0d26d-7588-4eca-8238-31a4ea730dd4\",\"type\":\"DataRange1d\"},{\"attributes\":{},\"id\":\"aa34710b-af6a-4ebb-987f-cf2c85cff7e9\",\"type\":\"LinearScale\"},{\"attributes\":{},\"id\":\"d425d46e-f566-4ecd-8deb-c0d26e057bf1\",\"type\":\"PanTool\"},{\"attributes\":{\"source\":{\"id\":\"9b2e7a8e-98c0-4f46-ad8f-0e0664d5f0d5\",\"type\":\"ColumnDataSource\"}},\"id\":\"8a3e0f2e-4947-4856-ad84-a2ed701a7d9b\",\"type\":\"CDSView\"},{\"attributes\":{\"bottom_units\":\"screen\",\"fill_alpha\":{\"value\":0.5},\"fill_color\":{\"value\":\"lightgrey\"},\"left_units\":\"screen\",\"level\":\"overlay\",\"line_alpha\":{\"value\":1.0},\"line_color\":{\"value\":\"black\"},\"line_dash\":[4,4],\"line_width\":{\"value\":2},\"plot\":null,\"render_mode\":\"css\",\"right_units\":\"screen\",\"top_units\":\"screen\"},\"id\":\"7c8a9c06-af02-432a-a6f9-d3516f5f625e\",\"type\":\"BoxAnnotation\"},{\"attributes\":{},\"id\":\"3b5f93dd-9728-40fe-9618-2fc9e83e4d43\",\"type\":\"WheelZoomTool\"},{\"attributes\":{\"overlay\":{\"id\":\"7c8a9c06-af02-432a-a6f9-d3516f5f625e\",\"type\":\"BoxAnnotation\"}},\"id\":\"dd7e44d5-b75b-4251-a391-48b2455973c8\",\"type\":\"BoxZoomTool\"},{\"attributes\":{\"callback\":null,\"column_names\":[\"x\",\"y\",\"words\",\"index\"],\"data\":{\"index\":[0,1,2,3,4,5,6,7,8,9,10,11,12,13,14,15,16,17,18,19,20,21,22,23,24,25,26,27,28,29,30,31,32,33,34,35,36,37,38,39,40,41,42,43,44,45,46,47,48,49,50,51,52,53,54,55,56,57,58,59,60,61,62,63,64,65,66,67,68,69,70,71,72,73,74,75,76,77,78,79,80,81,82,83,84,85,86,87,88,89,90,91,92,93,94,95,96,97,98,99,100,101,102,103,104,105,106,107,108,109,110,111,112,113,114,115,116,117,118,119,120,121,122,123,124,125,126,127,128,129,130,131,132,133,134,135,136,137,138,139,140,141,142,143,144,145,146,147,148,149,150,151,152,153,154,155,156,157,158,159,160,161,162,163,164,165,166,167,168,169,170,171,172,173,174,175,176,177,178,179,180,181,182,183,184,185,186,187,188,189,190,191,192,193,194,195,196,197,198,199,200,201,202,203,204,205,206,207,208,209,210,211,212,213,214,215,216,217,218,219,220,221,222,223,224,225,226,227,228,229,230,231,232,233,234,235,236,237,238,239,240,241,242,243,244,245,246,247,248,249,250,251,252,253,254,255,256,257,258,259,260,261,262,263,264,265,266,267,268,269,270,271,272,273,274,275,276,277,278,279,280,281,282,283,284,285,286,287,288,289,290,291,292,293,294,295,296,297,298,299,300,301,302,303,304,305,306,307,308,309,310,311,312,313,314,315,316,317,318,319,320,321,322,323,324,325,326,327,328,329,330,331,332,333,334,335,336,337,338,339,340,341,342,343,344,345,346,347,348,349,350,351,352,353,354,355,356,357,358,359,360,361,362,363,364,365,366,367,368,369,370,371,372,373,374,375,376,377,378,379,380,381,382,383,384,385,386,387,388,389,390,391,392,393,394,395,396,397,398,399,400,401,402,403,404,405,406,407,408,409,410,411,412,413,414,415,416,417,418,419,420,421,422,423,424,425,426,427,428,429,430,431,432,433,434,435,436,437,438,439,440,441,442,443,444,445,446,447,448,449,450,451,452,453,454,455,456,457,458,459,460,461,462,463,464,465,466,467,468,469,470,471,472,473,474,475,476,477,478,479,480,481,482,483,484,485,486,487,488,489,490,491,492,493,494,495,496,497,498,499,500,501,502,503,504,505,506,507,508,509,510,511,512,513,514,515,516,517,518,519,520,521,522,523,524,525,526,527,528,529,530,531,532,533,534,535,536,537,538,539,540,541,542,543,544,545,546,547,548,549,550,551,552,553,554,555,556,557,558,559,560,561,562,563,564,565,566,567,568,569,570,571,572,573,574,575,576,577,578,579,580,581,582,583,584,585,586,587,588,589,590,591,592,593,594,595,596,597,598,599,600,601,602,603,604,605,606,607,608,609,610,611,612,613,614,615,616,617,618,619,620,621,622,623,624,625,626,627,628,629,630,631,632,633,634,635,636,637,638,639,640,641,642,643,644,645,646,647,648,649,650,651,652,653,654,655,656,657,658,659,660,661,662,663,664,665,666,667,668,669,670,671,672,673,674,675,676,677,678,679,680,681,682,683,684,685,686,687,688,689,690,691,692,693,694,695,696,697,698,699,700,701,702,703,704,705,706,707,708,709,710,711,712,713,714,715,716,717,718,719,720,721,722,723,724,725,726,727,728,729,730,731,732,733,734,735,736,737,738,739,740,741,742,743,744,745,746,747,748,749,750,751,752,753,754,755,756,757,758,759,760,761,762,763,764,765,766,767,768,769,770,771,772,773,774,775,776,777,778,779,780,781,782,783,784,785,786,787,788,789,790,791,792,793,794,795,796,797,798,799,800,801,802,803,804,805,806,807,808,809,810,811,812,813,814,815,816,817,818,819,820,821,822,823,824,825,826,827,828,829,830,831,832,833,834,835,836,837,838,839,840,841,842,843,844,845,846,847,848,849,850,851,852,853,854,855,856,857,858,859,860,861,862,863,864,865,866,867,868,869,870,871,872,873,874,875,876,877,878,879,880,881,882,883,884,885,886,887,888,889,890,891,892,893,894,895,896,897,898,899,900,901,902,903,904,905,906,907,908,909,910,911,912,913,914,915,916,917,918,919,920,921,922,923,924,925,926,927,928,929,930,931,932,933,934,935,936,937,938,939,940,941,942,943,944,945,946,947,948,949,950,951,952,953,954,955,956,957,958,959,960,961,962,963,964,965,966,967,968,969,970,971,972,973,974,975,976,977,978,979,980,981,982,983,984,985,986,987,988,989,990,991,992,993,994,995,996,997,998,999,1000,1001,1002,1003,1004,1005,1006,1007,1008,1009,1010,1011,1012,1013,1014,1015,1016,1017,1018,1019,1020,1021,1022,1023,1024,1025,1026,1027,1028,1029,1030,1031,1032,1033,1034,1035,1036,1037,1038,1039,1040,1041,1042,1043,1044,1045,1046,1047,1048,1049,1050,1051,1052,1053,1054,1055,1056,1057,1058,1059,1060,1061,1062,1063,1064,1065,1066,1067,1068,1069,1070,1071,1072,1073,1074,1075,1076,1077,1078,1079,1080,1081,1082,1083,1084,1085,1086,1087,1088,1089,1090,1091,1092,1093,1094,1095,1096,1097,1098,1099,1100,1101,1102,1103,1104,1105,1106,1107,1108,1109,1110,1111,1112,1113,1114,1115,1116,1117,1118,1119,1120,1121,1122,1123,1124,1125,1126,1127,1128,1129,1130,1131,1132,1133,1134,1135,1136,1137,1138,1139,1140,1141,1142,1143,1144,1145,1146,1147,1148,1149,1150,1151,1152,1153,1154,1155,1156,1157,1158,1159,1160,1161,1162,1163,1164,1165,1166,1167,1168,1169,1170,1171,1172,1173,1174,1175,1176,1177,1178,1179,1180,1181,1182,1183,1184,1185,1186,1187,1188,1189,1190,1191,1192,1193,1194,1195,1196,1197,1198,1199,1200,1201,1202,1203,1204,1205,1206,1207,1208,1209,1210,1211,1212,1213,1214,1215,1216,1217,1218,1219,1220,1221,1222,1223,1224,1225,1226,1227,1228,1229,1230,1231,1232,1233,1234,1235,1236,1237,1238,1239,1240,1241,1242,1243,1244,1245,1246,1247,1248,1249,1250,1251,1252,1253,1254,1255,1256,1257,1258,1259,1260,1261,1262,1263,1264,1265,1266,1267,1268,1269,1270,1271,1272,1273,1274,1275,1276,1277,1278,1279,1280,1281,1282,1283,1284,1285,1286,1287,1288,1289,1290,1291,1292,1293,1294,1295,1296,1297,1298,1299,1300,1301,1302,1303,1304,1305,1306,1307,1308,1309,1310,1311,1312,1313,1314,1315,1316,1317,1318,1319,1320,1321,1322,1323,1324,1325,1326,1327,1328,1329,1330,1331,1332,1333,1334,1335,1336,1337,1338,1339,1340,1341,1342,1343,1344,1345,1346,1347,1348,1349,1350,1351,1352,1353,1354,1355,1356,1357,1358,1359,1360,1361,1362,1363,1364,1365,1366,1367,1368,1369,1370,1371,1372,1373,1374,1375,1376,1377,1378,1379,1380,1381,1382,1383,1384,1385,1386,1387,1388,1389,1390,1391,1392,1393,1394,1395,1396,1397,1398,1399,1400,1401,1402,1403,1404,1405,1406,1407,1408,1409,1410,1411,1412,1413,1414,1415,1416,1417,1418,1419,1420,1421,1422,1423,1424,1425,1426,1427,1428,1429,1430,1431,1432,1433,1434,1435,1436,1437,1438,1439,1440,1441,1442,1443,1444,1445,1446,1447,1448,1449,1450,1451,1452,1453,1454,1455,1456,1457,1458,1459,1460,1461,1462,1463,1464,1465,1466,1467,1468,1469,1470,1471,1472,1473,1474,1475,1476,1477,1478,1479,1480,1481,1482,1483,1484,1485,1486,1487,1488,1489,1490,1491,1492,1493,1494,1495,1496,1497,1498,1499,1500,1501,1502,1503,1504,1505,1506,1507,1508,1509,1510,1511,1512,1513,1514,1515,1516,1517,1518,1519,1520,1521,1522,1523,1524,1525,1526,1527,1528,1529,1530,1531,1532,1533,1534,1535,1536,1537,1538,1539,1540,1541,1542,1543,1544,1545,1546,1547,1548,1549,1550,1551,1552,1553,1554,1555,1556,1557,1558,1559,1560,1561,1562,1563,1564,1565,1566,1567,1568,1569,1570,1571,1572,1573,1574,1575,1576,1577,1578,1579,1580,1581,1582,1583,1584,1585,1586,1587,1588,1589,1590,1591,1592,1593,1594,1595,1596,1597,1598,1599,1600,1601,1602,1603,1604,1605,1606,1607,1608,1609,1610,1611,1612,1613,1614,1615,1616,1617,1618,1619,1620,1621,1622,1623,1624,1625,1626,1627,1628,1629,1630,1631,1632,1633,1634,1635,1636,1637,1638,1639,1640,1641,1642,1643,1644,1645,1646,1647,1648,1649,1650,1651,1652,1653,1654,1655,1656,1657,1658,1659,1660,1661,1662,1663,1664,1665,1666,1667,1668,1669,1670,1671,1672,1673,1674,1675,1676,1677,1678,1679,1680,1681,1682,1683,1684,1685,1686,1687,1688,1689,1690,1691,1692,1693,1694,1695,1696,1697,1698,1699,1700,1701,1702,1703,1704,1705,1706,1707,1708,1709,1710,1711,1712,1713,1714,1715,1716,1717,1718,1719,1720,1721,1722,1723,1724,1725,1726,1727,1728,1729,1730,1731,1732,1733,1734,1735,1736,1737,1738,1739,1740,1741,1742,1743,1744,1745,1746,1747,1748,1749,1750,1751,1752,1753,1754,1755,1756,1757,1758,1759,1760,1761,1762,1763,1764,1765,1766,1767,1768,1769,1770,1771,1772,1773,1774,1775,1776,1777,1778,1779,1780,1781,1782,1783,1784,1785,1786,1787,1788,1789,1790,1791,1792,1793,1794,1795,1796,1797,1798,1799,1800,1801,1802,1803,1804,1805,1806,1807,1808,1809,1810,1811,1812,1813,1814,1815,1816,1817,1818,1819,1820,1821,1822,1823,1824,1825,1826,1827,1828,1829,1830,1831,1832,1833,1834,1835,1836,1837,1838,1839,1840,1841,1842,1843,1844,1845,1846,1847,1848,1849,1850,1851,1852,1853,1854,1855,1856,1857,1858,1859,1860,1861,1862,1863,1864,1865,1866,1867,1868,1869,1870,1871,1872,1873,1874,1875,1876,1877,1878,1879,1880,1881,1882,1883,1884,1885,1886,1887,1888,1889,1890,1891,1892,1893,1894,1895,1896,1897,1898,1899,1900,1901,1902,1903,1904,1905,1906,1907,1908,1909,1910,1911,1912,1913,1914,1915,1916,1917,1918,1919,1920,1921,1922,1923,1924,1925,1926,1927,1928,1929,1930,1931,1932,1933,1934,1935,1936,1937,1938,1939,1940,1941,1942,1943,1944,1945,1946,1947,1948,1949,1950,1951,1952,1953,1954,1955,1956,1957,1958,1959,1960,1961,1962,1963,1964,1965,1966,1967,1968,1969,1970,1971,1972,1973,1974,1975,1976,1977,1978,1979,1980,1981,1982,1983,1984,1985,1986,1987,1988,1989,1990,1991,1992,1993,1994,1995,1996,1997,1998,1999,2000,2001,2002,2003,2004,2005,2006,2007,2008,2009,2010,2011,2012,2013,2014,2015,2016,2017,2018,2019,2020,2021,2022,2023,2024,2025,2026,2027,2028,2029,2030,2031,2032,2033,2034,2035,2036,2037,2038,2039,2040,2041,2042,2043,2044,2045,2046,2047,2048,2049,2050,2051,2052,2053,2054,2055,2056,2057,2058,2059,2060,2061,2062,2063,2064,2065,2066,2067,2068,2069,2070,2071,2072,2073,2074,2075,2076,2077,2078,2079,2080,2081,2082,2083,2084,2085,2086,2087,2088,2089,2090,2091,2092,2093,2094,2095,2096,2097,2098,2099,2100,2101,2102,2103,2104,2105,2106,2107,2108,2109,2110,2111,2112,2113,2114,2115,2116,2117,2118,2119,2120,2121,2122,2123,2124,2125,2126,2127,2128,2129,2130,2131,2132,2133,2134,2135,2136,2137,2138,2139,2140,2141,2142,2143,2144,2145,2146,2147,2148,2149,2150,2151,2152,2153,2154,2155,2156,2157,2158,2159,2160,2161,2162,2163,2164,2165,2166,2167,2168,2169,2170,2171,2172,2173,2174,2175,2176,2177,2178,2179,2180,2181,2182,2183,2184,2185,2186,2187,2188,2189,2190,2191,2192,2193,2194,2195,2196,2197,2198,2199,2200,2201,2202,2203,2204,2205,2206,2207,2208,2209,2210,2211,2212,2213,2214,2215,2216,2217,2218,2219,2220,2221,2222,2223,2224,2225,2226,2227,2228,2229,2230,2231,2232,2233,2234,2235,2236,2237,2238,2239,2240,2241,2242,2243,2244,2245,2246,2247,2248,2249,2250,2251,2252,2253,2254,2255,2256,2257,2258,2259,2260,2261,2262,2263,2264,2265,2266,2267,2268,2269,2270,2271,2272,2273,2274,2275,2276,2277,2278,2279,2280,2281,2282,2283,2284,2285,2286,2287,2288,2289,2290,2291,2292,2293,2294,2295,2296,2297,2298,2299,2300,2301,2302,2303,2304,2305,2306,2307,2308,2309,2310,2311,2312,2313,2314,2315,2316,2317,2318,2319,2320,2321,2322,2323,2324,2325,2326,2327,2328,2329,2330,2331,2332,2333,2334,2335,2336,2337,2338,2339,2340,2341,2342,2343,2344,2345,2346,2347,2348,2349,2350,2351,2352,2353,2354,2355,2356,2357,2358,2359,2360,2361,2362,2363,2364,2365,2366,2367,2368,2369,2370,2371,2372,2373,2374,2375,2376,2377,2378,2379,2380,2381,2382,2383,2384,2385,2386,2387,2388,2389,2390,2391,2392,2393,2394,2395,2396,2397,2398,2399,2400,2401,2402,2403,2404,2405,2406,2407,2408,2409,2410,2411,2412,2413,2414,2415,2416,2417,2418,2419,2420,2421,2422,2423,2424,2425,2426,2427,2428,2429,2430,2431,2432,2433,2434,2435,2436,2437,2438,2439,2440,2441,2442,2443,2444,2445,2446,2447,2448,2449,2450,2451,2452,2453,2454,2455,2456,2457,2458,2459,2460,2461,2462,2463,2464,2465,2466,2467,2468,2469,2470,2471,2472,2473,2474,2475,2476,2477,2478,2479,2480,2481,2482,2483,2484,2485,2486,2487,2488,2489,2490,2491,2492,2493,2494,2495,2496,2497,2498,2499],\"words\":[\"</s>\",\"the\",\",\",\".\",\"of\",\"and\",\"in\",\"to\",\")\",\"(\",\"a\",\"with\",\"was\",\"for\",\"The\",\"is\",\"that\",\"were\",\"by\",\"\\\"\",\"as\",\"on\",\"from\",\"at\",\"are\",\"%\",\"or\",\"be\",\"an\",\"In\",\"not\",\";\",\"patients\",\"this\",\":\",\"which\",\"'s\",\"cells\",\"have\",\"has\",\"also\",\"A\",\"between\",\"study\",\"been\",\"it\",\"but\",\"than\",\"after\",\"had\",\"their\",\"1\",\"these\",\"=\",\"two\",\"used\",\"This\",\"can\",\"using\",\"we\",\"may\",\"more\",\"cell\",\"other\",\"one\",\"all\",\"2\",\"his\",\"both\",\"during\",\"data\",\"'\",\"its\",\"treatment\",\"We\",\"[\",\"]\",\"results\",\"into\",\"first\",\"group\",\"expression\",\"time\",\"only\",\"It\",\"analysis\",\"protein\",\"he\",\"no\",\"found\",\"who\",\"activity\",\"different\",\"such\",\"3\",\"<\",\"when\",\"levels\",\"studies\",\"years\",\"most\",\"each\",\"et\",\"disease\",\"control\",\"significant\",\"increased\",\"number\",\"effect\",\"they\",\"high\",\"three\",\"gene\",\"compared\",\"use\",\"associated\",\"human\",\"These\",\"effects\",\"well\",\"significantly\",\"10\",\"5\",\"observed\",\"However\",\"He\",\"al.\",\"clinical\",\"showed\",\"4\",\"there\",\"could\",\"model\",\"new\",\"system\",\"age\",\"over\",\"those\",\"some\",\"cancer\",\"+/-\",\"response\",\"through\",\"P\",\"including\",\"within\",\"cases\",\"higher\",\"present\",\"our\",\"groups\",\"Figure\",\"genes\",\"shown\",\"role\",\"about\",\"performed\",\"mice\",\"rate\",\"did\",\"risk\",\"To\",\"under\",\"blood\",\"level\",\"DNA\",\"total\",\"patient\",\"reported\",\"increase\",\"same\",\"-\",\"function\",\"would\",\"then\",\"while\",\"changes\",\"proteins\",\"where\",\">\",\"out\",\"will\",\"development\",\"For\",\"respectively\",\"important\",\"factors\",\"based\",\"known\",\"following\",\"similar\",\"health\",\"population\",\"6\",\"among\",\"children\",\"p\",\"due\",\"normal\",\"I\",\"acid\",\"growth\",\"method\",\"low\",\"before\",\"mean\",\"type\",\"many\",\"less\",\"without\",\"up\",\"against\",\"species\",\"case\",\"early\",\"any\",\"days\",\"B\",\"test\",\"There\",\"several\",\"specific\",\"lower\",\"obtained\",\"her\",\"presence\",\"therapy\",\"addition\",\"women\",\"show\",\"binding\",\"being\",\"small\",\"As\",\"20\",\"potential\",\"identified\",\"made\",\"should\",\"four\",\"large\",\"tissue\",\"care\",\"described\",\"single\",\"per\",\"because\",\"area\",\"differences\",\"conditions\",\"C\",\"further\",\"part\",\"either\",\"samples\",\"factor\",\"After\",\"months\",\"values\",\"infection\",\"tumor\",\"family\",\"treated\",\"primary\",\"period\",\"if\",\"second\",\"information\",\"region\",\"reduced\",\"major\",\"related\",\"suggest\",\"measured\",\"On\",\"30\",\"very\",\"positive\",\"range\",\"work\",\"included\",\"receptor\",\"All\",\"them\",\"rats\",\"year\",\"activation\",\"12\",\"Fig.\",\"complex\",\"evidence\",\"concentration\",\"findings\",\"possible\",\"h\",\"7\",\"100\",\"subjects\",\"structure\",\"n\",\"determined\",\"day\",\"production\",\"concentrations\",\"T\",\"common\",\"sequence\",\"various\",\"serum\",\"developed\",\"size\",\"8\",\"research\",\"New\",\"Table\",\"involved\",\"process\",\"previously\",\"50\",\"whether\",\"form\",\"diagnosis\",\"left\",\"later\",\"II\",\"site\",\"studied\",\"induced\",\"brain\",\"15\",\"state\",\"surface\",\"demonstrated\",\"order\",\"result\",\"change\",\"--\",\"methods\",\"decreased\",\"body\",\"plasma\",\"revealed\",\"water\",\"considered\",\"given\",\"life\",\"however\",\"set\",\"At\",\"Although\",\"available\",\"detected\",\"report\",\"formation\",\"difference\",\"vitro\",\"liver\",\"membrane\",\"0.05\",\"expressed\",\"current\",\"drug\",\"24\",\"approach\",\"value\",\"rates\",\"support\",\"provide\",\"greater\",\"she\",\"sites\",\"so\",\"examined\",\"surgery\",\"survival\",\"people\",\"pressure\",\"determine\",\"death\",\"functional\",\"min\",\"multiple\",\"do\",\"required\",\"general\",\"even\",\"responses\",\"line\",\"average\",\"molecular\",\"United\",\"since\",\"series\",\"bone\",\"often\",\"standard\",\"acute\",\"followed\",\"local\",\"models\",\"University\",\"whereas\",\"chronic\",\"loss\",\"least\",\"contrast\",\"weeks\",\"Our\",\"weight\",\"received\",\"five\",\"active\",\"sample\",\"produced\",\"distribution\",\"95\",\"presented\",\"phase\",\"might\",\"experiments\",\"exposure\",\"times\",\"end\",\"An\",\"muscle\",\"containing\",\"likely\",\"ratio\",\"animals\",\"controls\",\"association\",\"rat\",\"does\",\"until\",\"reduction\",\"investigated\",\"dose\",\"virus\",\"additional\",\"include\",\"previous\",\"effective\",\"individual\",\"indicate\",\"When\",\"medical\",\"analyzed\",\"sequences\",\"became\",\"release\",\"American\",\"negative\",\"RNA\",\"isolated\",\"regions\",\"genetic\",\"review\",\"They\",\"still\",\"symptoms\",\"vivo\",\"indicated\",\"history\",\"seen\",\"relative\",\"heart\",\"him\",\"mechanism\",\"quality\",\"areas\",\"located\",\"target\",\"One\",\"18\",\"25\",\"mechanisms\",\"highly\",\"mRNA\",\"main\",\"right\",\"reaction\",\"pain\",\"status\",\"although\",\"resistance\",\"types\",\"according\",\"stress\",\"systems\",\"via\",\"frequency\",\"relationship\",\"evaluated\",\"performance\",\"caused\",\"x\",\"individuals\",\"&\",\"inhibition\",\"mouse\",\"experimental\",\"syndrome\",\"properties\",\"men\",\"parameters\",\"decrease\",\"interaction\",\"9\",\"tested\",\"stage\",\"flow\",\"novel\",\"how\",\"Thus\",\"assay\",\"culture\",\"lines\",\"much\",\"mass\",\"antibody\",\"management\",\"lung\",\"long\",\"14\",\"independent\",\"2008\",\"features\",\"see\",\"11\",\"events\",\"approximately\",\"now\",\"antibodies\",\"?\",\"along\",\"2010\",\"2009\",\"ability\",\"school\",\"shows\",\"severe\",\"analyses\",\"point\",\"thus\",\"detection\",\"example\",\"influence\",\"mM\",\"six\",\"above\",\"mortality\",\"neurons\",\"States\",\"2007\",\"characteristics\",\"enzyme\",\"correlation\",\"National\",\"diseases\",\"cause\",\"established\",\"field\",\"across\",\"2006\",\"pathway\",\"strains\",\"hours\",\"16\",\"initial\",\"better\",\"renal\",\"temperature\",\"play\",\"administration\",\"receptors\",\"assessed\",\"here\",\"team\",\"around\",\"recent\",\"breast\",\"provided\",\"male\",\"few\",\"length\",\"side\",\"born\",\"pattern\",\"another\",\"injury\",\"tumors\",\"season\",\"activities\",\"called\",\"sensitivity\",\"domain\",\"technique\",\"selected\",\"combination\",\"position\",\"final\",\"central\",\"light\",\"volume\",\"40\",\"During\",\"free\",\"need\",\"overall\",\"complete\",\"glucose\",\"lesions\",\"action\",\"good\",\"defined\",\"comparison\",\"cellular\",\"members\",\"suggested\",\"content\",\"released\",\"pH\",\"drugs\",\"lead\",\"CI\",\"synthesis\",\"female\",\"design\",\"D\",\"Results\",\"increasing\",\"physical\",\"mm\",\"direct\",\"therefore\",\"film\",\"outcome\",\"last\",\"like\",\"imaging\",\"tissues\",\"applied\",\"13\",\"name\",\"public\",\"follow-up\",\"signal\",\"together\",\"conducted\",\"density\",\"published\",\"interactions\",\"de\",\"amino\",\"program\",\"evaluation\",\"No\",\"adult\",\"incidence\",\"stimulation\",\"medium\",\"absence\",\"She\",\"having\",\"signaling\",\"surgical\",\"calculated\",\"best\",\"diabetes\",\"score\",\"social\",\"collected\",\"suggests\",\"solution\",\"0.001\",\"versus\",\"skin\",\"hospital\",\"healthy\",\"identify\",\"energy\",\"structures\",\"patterns\",\"transcription\",\"upon\",\"failure\",\"suggesting\",\"i.e.\",\"immune\",\"training\",\"regulation\",\"PCR\",\"Furthermore\",\"2005\",\"procedure\",\"confirmed\",\"mutant\",\"participants\",\"able\",\"resulted\",\"place\",\"cardiac\",\"World\",\"recorded\",\"limited\",\"mutations\",\"strain\",\"particular\",\"tests\",\"prevalence\",\"2011\",\"Two\",\"secondary\",\"occurred\",\"practice\",\"resulting\",\"combined\",\"impact\",\"insulin\",\"prior\",\"third\",\"especially\",\"increases\",\"literature\",\"community\",\"affected\",\"60\",\"late\",\"processes\",\"carried\",\"alone\",\"trials\",\"functions\",\"populations\",\"means\",\"0\",\"and/or\",\"median\",\"played\",\"taken\",\"consistent\",\"Therefore\",\"short\",\"assessment\",\"trial\",\"what\",\"way\",\"carcinoma\",\"led\",\"paper\",\"biological\",\"components\",\"album\",\"degree\",\"basis\",\"$\",\"proposed\",\"rather\",\"home\",\"improved\",\"17\",\"become\",\"2004\",\"kinase\",\"band\",\"By\",\"class\",\"e.g.\",\"damage\",\"evaluate\",\"must\",\"products\",\"city\",\"strong\",\"power\",\"derived\",\"nuclear\",\"course\",\"authors\",\"knowledge\",\"therapeutic\",\"behavior\",\"students\",\"directly\",\"0.01\",\"cycle\",\"index\",\"characterized\",\"provides\",\"2000\",\"make\",\"added\",\"measurements\",\"South\",\"oral\",\"network\",\"young\",\"proliferation\",\"mg\",\"amount\",\"pulmonary\",\"estimated\",\"differentiation\",\"measures\",\"assess\",\"inhibitor\",\"With\",\"correlated\",\"disorders\",\"artery\",\"problems\",\"techniques\",\"degrees\",\"molecules\",\"terms\",\"corresponding\",\"vascular\",\"vs.\",\"back\",\"points\",\"particularly\",\"every\",\"baseline\",\"21\",\"While\",\"agents\",\"School\",\"acids\",\"useful\",\"designed\",\"old\",\"compounds\",\"apoptosis\",\"demonstrate\",\"January\",\"relatively\",\"pathways\",\"expected\",\"Since\",\"variables\",\"education\",\"complications\",\"critical\",\"Both\",\"future\",\"outcomes\",\"leading\",\"own\",\"investigate\",\"recently\",\"condition\",\"duration\",\"key\",\"application\",\"induction\",\"M\",\"open\",\"original\",\"scores\",\"injection\",\"natural\",\"affect\",\"criteria\",\"experience\",\"forms\",\"appears\",\"formed\",\"food\",\"peptide\",\"near\",\"His\",\"efficacy\",\"larger\",\"highest\",\"mutation\",\"head\",\"markers\",\"remains\",\"member\",\"testing\",\"essential\",\"genome\",\"began\",\"May\",\"alpha\",\"Of\",\"died\",\"lack\",\"intervention\",\"selection\",\"usually\",\"world\",\"examination\",\"discussed\",\"coronary\",\"2003\",\"services\",\"generated\",\"file\",\"hand\",\"June\",\"metabolism\",\"From\",\"older\",\"remained\",\"host\",\"enhanced\",\"occur\",\"John\",\"screening\",\"appeared\",\"County\",\"infected\",\"inflammatory\",\"long-term\",\"images\",\"September\",\"indicating\",\"+\",\"variation\",\"took\",\"necessary\",\"visual\",\"numbers\",\"2012\",\"Data\",\"former\",\"peripheral\",\"little\",\"animal\",\"countries\",\"improve\",\"red\",\"maximum\",\"inhibited\",\"March\",\"daily\",\"infections\",\"reference\",\"structural\",\"measure\",\"capacity\",\"importance\",\"represent\",\"below\",\"help\",\"diagnostic\",\"July\",\"19\",\"fact\",\"22\",\"material\",\"source\",\"October\",\"others\",\"transport\",\"currently\",\"chain\",\"distinct\",\"service\",\"viral\",\"reduce\",\"whole\",\"December\",\"Moreover\",\"won\",\"residues\",\"throughout\",\"Here\",\"York\",\"regression\",\"USA\",\"2002\",\"needed\",\"named\",\"mainly\",\"adults\",\"females\",\"nerve\",\"understanding\",\"staining\",\"interest\",\"Some\",\"Patients\",\"rapid\",\"subsequent\",\"Group\",\"responsible\",\"minutes\",\"April\",\"held\",\"E\",\"metabolic\",\"majority\",\"North\",\"calcium\",\"component\",\"Health\",\"inhibitors\",\"game\",\"HIV\",\"bacterial\",\"predicted\",\"August\",\"promoter\",\"generally\",\"peak\",\"plant\",\"national\",\"Using\",\"achieved\",\"2001\",\"just\",\"poor\",\"version\",\"living\",\"III\",\"British\",\"government\",\"problem\",\"percentage\",\"City\",\"simple\",\"coli\",\"procedures\",\"week\",\"controlled\",\"almost\",\"next\",\"elevated\",\"males\",\"War\",\"If\",\"oxygen\",\"antigen\",\"career\",\"exposed\",\"al\",\"seven\",\"28\",\"transfer\",\"term\",\"statistically\",\"music\",\"beta\",\"longer\",\"produce\",\"...\",\"doses\",\"causes\",\"served\",\"Western\",\"sex\",\"reports\",\"aim\",\"activated\",\"white\",\"full\",\"contains\",\"hypothesis\",\"certain\",\"variety\",\"environment\",\"again\",\"noted\",\"stable\",\"pregnancy\",\"families\",\"November\",\"phosphorylation\",\"significance\",\"lipid\",\"alternative\",\"close\",\"cultures\",\"appropriate\",\"S.\",\"intensity\",\"dependent\",\"take\",\"intracellular\",\"State\",\"statistical\",\"century\",\"plants\",\"Most\",\"down\",\"scale\",\"extent\",\"improvement\",\"secretion\",\"base\",\"uptake\",\"product\",\"N\",\"23\",\"eight\",\"exercise\",\"underwent\",\"sensitive\",\"elements\",\"bacteria\",\"respiratory\",\"developing\",\"identification\",\"matrix\",\"US\",\"image\",\"fluid\",\"half\",\"states\",\"town\",\"appear\",\"built\",\"though\",\"specificity\",\"develop\",\"disorder\",\"frequently\",\"media\",\"clear\",\"units\",\"endothelial\",\"indicates\",\"internal\",\"memory\",\"successful\",\"strongly\",\"occurs\",\"company\",\"event\",\"0.5\",\"80\",\"rare\",\"wild-type\",\"measurement\",\"delivery\",\"onset\",\"processing\",\"CT\",\"progression\",\"unique\",\"child\",\"difficult\",\"space\",\"complexes\",\"90\",\"nature\",\"aged\",\"contribute\",\"fluorescence\",\"fraction\",\"interval\",\"location\",\"top\",\"epithelial\",\"environmental\",\"unit\",\"showing\",\"linear\",\"enzymes\",\"incubated\",\"chemical\",\"laboratory\",\"upper\",\"assays\",\"million\",\"proportion\",\"prepared\",\"experiment\",\"kidney\",\"diet\",\"hypertension\",\"depression\",\"whose\",\"recovery\",\"stages\",\"making\",\"administered\",\"stem\",\"ventricular\",\"Because\",\"working\",\"reactions\",\"village\",\"modified\",\"26\",\"software\",\"relevant\",\"channel\",\"article\",\"induce\",\"strategies\",\"motor\",\"off\",\"completed\",\"nm\",\"48\",\"Other\",\"chromosome\",\"mg/kg\",\"find\",\"percent\",\"describe\",\"cultured\",\"inflammation\",\"February\",\"probably\",\"European\",\"access\",\"view\",\"yet\",\"humans\",\"started\",\"International\",\"account\",\"microM\",\"station\",\"country\",\"placed\",\"wall\",\"created\",\"E.\",\"Methods\",\"mutants\",\"cost\",\"200\",\"regarding\",\"distance\",\"purpose\",\"C.\",\"song\",\"done\",\"step\",\"movement\",\"allow\",\"sodium\",\"substrate\",\"English\",\"accumulation\",\"marker\",\"birth\",\"cortex\",\"1999\",\"towards\",\"involvement\",\"survey\",\"includes\",\"transmission\",\"wide\",\"generation\",\"phenotype\",\"earlier\",\"College\",\"chemotherapy\",\"variable\",\"systemic\",\"force\",\"plays\",\"27\",\"allowed\",\"air\",\"cardiovascular\",\"diagnosed\",\"domains\",\"Among\",\"quantitative\",\"myocardial\",\"repair\",\"finding\",\"once\",\"continued\",\"High\",\"microscopy\",\"conventional\",\"commonly\",\"unknown\",\"isolates\",\"building\",\"radiation\",\"Germany\",\"said\",\"anterior\",\"purified\",\"approaches\",\"mitochondrial\",\"F\",\"strategy\",\"constant\",\"First\",\"cerebral\",\"collection\",\"contained\",\"St\",\"contact\",\"regulatory\",\"investigation\",\"70\",\"signals\",\"great\",\"electron\",\"smaller\",\"completely\",\"profile\",\"gastric\",\"past\",\"prevent\",\"manner\",\"far\",\"b\",\"section\",\"safety\",\"agent\",\"P.\",\"R\",\"According\",\"examine\",\"success\",\"buffer\",\"intake\",\"origin\",\"leads\",\"protocol\",\"relation\",\"lost\",\"programs\",\"postoperative\",\"aspects\",\"History\",\"subject\",\"French\",\"Three\",\"treatments\",\"observations\",\"g\",\"0.1\",\"Each\",\"West\",\"center\",\"composition\",\"exhibited\",\"record\",\"mediated\",\"remaining\",\"hormone\",\"1998\",\"man\",\"underlying\",\"G\",\"attention\",\"Ca2+\",\"monitoring\",\"advanced\",\"focus\",\"alcohol\",\"learning\",\"Further\",\"Finally\",\"vs\",\"task\",\"efficiency\",\"compare\",\"allows\",\"cholesterol\",\"removed\",\"35\",\"physiological\",\"introduced\",\"sections\",\"severity\",\"infants\",\"respect\",\"selective\",\"League\",\"issues\",\"divided\",\"accuracy\",\"River\",\"partial\",\"toxicity\",\"cohort\",\"except\",\"represents\",\"vector\",\"cognitive\",\"arterial\",\"cm\",\"S\",\"UK\",\"inhibitory\",\"stability\",\"Analysis\",\"transplantation\",\"prevention\",\"adverse\",\"smoking\",\"specifically\",\"district\",\"German\",\"despite\",\"spinal\",\"operation\",\"written\",\"detect\",\"global\",\"randomized\",\"marked\",\"mixed\",\"basal\",\"45\",\"degradation\",\"widely\",\"peptides\",\"latter\",\"Clinical\",\"specimens\",\"possibility\",\"reviewed\",\"29\",\"entire\",\"Despite\",\"gel\",\"mental\",\"hepatic\",\"moved\",\"requires\",\"thought\",\"context\",\"extracellular\",\"separate\",\"continuous\",\"recognition\",\"genomic\",\"strength\",\"31\",\"dysfunction\",\"reached\",\"OR\",\"seems\",\"fat\",\"receiving\",\"affinity\",\"failed\",\"1997\",\"malignant\",\"special\",\"nucleus\",\"theory\",\"targets\",\"sources\",\"involving\",\"live\",\"room\",\"London\",\"returned\",\"language\",\"England\",\"project\",\"already\",\"roles\",\"channels\",\"gave\",\"n't\",\"moderate\",\"came\",\"neuronal\",\"block\",\"agreement\",\"fetal\",\"core\",\"India\",\"tool\",\"lateral\",\"basic\",\"search\",\"run\",\"black\",\"SD\",\"observation\",\"primarily\",\"confidence\",\"conserved\",\"sets\",\"recombinant\",\"stroke\",\"maintained\",\"relationships\",\"date\",\"diabetic\",\"contain\",\"never\",\"traditional\",\"fully\",\"Chinese\",\"layer\",\"magnetic\",\"differential\",\"membranes\",\"District\",\"list\",\"lesion\",\"fixed\",\"Several\",\"itself\",\"international\",\"plus\",\"Association\",\"migration\",\"determination\",\"fusion\",\"organization\",\"represented\",\"database\",\"evolution\",\"potentially\",\"cDNA\",\"slightly\",\"fatty\",\"changed\",\"needs\",\"eye\",\"background\",\"Additional\",\"Australia\",\"urinary\",\"Many\",\"d\",\"consumption\",\"c\",\"altered\",\"linked\",\"posterior\",\"1996\",\"China\",\"clearly\",\"macrophages\",\"remain\",\"spatial\",\"diameter\",\"prostate\",\"s\",\"error\",\"feature\",\"resolution\",\"club\",\"removal\",\"supported\",\"Research\",\"neural\",\"Canada\",\"largest\",\"grade\",\"equal\",\"General\",\"professional\",\"require\",\"us\",\"rapidly\",\"conclusion\",\"apparent\",\"costs\",\"Japan\",\"replication\",\"localization\",\"France\",\"comparable\",\"objective\",\"classification\",\"appearance\",\"always\",\"joint\",\"endogenous\",\"external\",\"green\",\"tract\",\"tumour\",\"son\",\"profiles\",\"dynamics\",\"setting\",\"oxidative\",\"start\",\"toward\",\"bound\",\"employed\",\"book\",\"differ\",\"taking\",\"you\",\"frequent\",\"iron\",\"estimate\",\"sexual\",\"repeated\",\"medicine\",\"materials\",\"California\",\"particles\",\"r\",\"blue\",\"parts\",\"went\",\"sufficient\",\"protection\",\"X\",\"subsequently\",\"law\",\"random\",\"preparation\",\"America\",\"H\",\"threshold\",\"interventions\",\"give\",\"challenge\",\"identical\",\"sleep\",\"whom\",\"native\",\"2013\",\"month\",\"molecule\",\"technology\",\"applications\",\"lymphocytes\",\"optimal\",\"acquired\",\"pairs\",\"nine\",\"temporal\",\"land\",\"father\",\"stimuli\",\"Treatment\",\"double\",\"numerous\",\"A.\",\"Only\",\"intestinal\",\"referred\",\"65\",\"title\",\"immediately\",\"benefit\",\"maternal\",\"cluster\",\"recognized\",\"expressing\",\"1995\",\"yeast\",\"San\",\"parents\",\"Institute\",\"deficiency\",\"transition\",\"liquid\",\"efficient\",\"probe\",\"regional\",\"allele\",\"act\",\"typical\",\"stimulated\",\"variants\",\"M.\",\"middle\",\"successfully\",\"extended\",\"abnormalities\",\"clinically\",\"providing\",\"estimates\",\"extensive\",\"reverse\",\"probability\",\"32\",\"mechanical\",\"East\",\"directed\",\"signs\",\"m\",\"true\",\"MRI\",\"amounts\",\"laser\",\"Europe\",\"assigned\",\"goal\",\"algorithm\",\"V\",\"Center\",\"panel\",\"decision\",\"placebo\",\"abnormal\",\"Hospital\",\"minor\",\"regulated\",\"Study\",\"cortical\",\"gender\",\"outside\",\"compound\",\"[1]\",\"initially\",\"CA\",\"inhibit\",\"vaccine\",\"games\",\"cervical\",\"carbon\",\"Also\",\"issue\",\"prospective\",\"Effect\",\"75\",\"IV\",\"too\",\"Medical\",\"closely\",\"choice\",\"characteristic\",\"incubation\",\"adhesion\",\"curve\",\"largely\",\"reducing\",\"instead\",\"consecutive\",\"lymph\",\"house\",\"positions\",\"nor\",\"Following\",\"Based\",\"classified\",\"war\",\"defects\",\"ratios\",\"works\",\"36\",\"political\",\"House\",\"workers\",\"author\",\"football\",\"mild\",\"vitamin\",\"impaired\",\"variability\",\"transcriptional\",\"questionnaire\",\"follows\",\"direction\",\"sequencing\",\"records\",\"encoding\",\"Japanese\",\"elderly\",\"Early\",\"biopsy\",\"resonance\",\"question\",\"marrow\",\"beginning\",\"cord\",\"forces\",\"mostly\",\"married\",\"rest\",\"500\",\"constructed\",\"obtain\",\"pathogenesis\",\"infusion\",\"collagen\",\"questions\",\"asthma\",\"alterations\",\"resection\",\"grown\",\"ATP\",\"OF\",\"37\",\"ten\",\"popular\",\"dynamic\",\"approved\",\"Studies\",\"extracted\",\"abdominal\",\"gas\",\"metal\",\"rise\",\"explain\",\"north\",\"Park\",\"real\",\"African\",\"pancreatic\",\"genotype\",\"mother\",\"recommended\",\"resistant\",\"worked\",\"nearly\",\"Its\",\"presentation\",\"fish\",\"composed\",\"gain\",\"staff\",\"modern\",\"experienced\",\"nucleotide\",\"growing\",\"K\",\"regular\",\"concept\",\"hepatitis\",\"manuscript\",\"player\",\"injected\",\"urine\",\"effectiveness\",\"wild\",\"possibly\",\"1994\",\"guidelines\",\"conclude\",\"ml\",\"intact\",\"fragment\",\"cytokines\",\"twice\",\"recurrence\",\"military\",\"maintenance\",\"Africa\",\"personal\",\"shape\",\"networks\",\"extract\",\"thyroid\",\"node\",\"fragments\",\"intervals\",\"return\",\"mode\",\"motion\",\"implications\",\"Department\",\"analysed\",\"susceptibility\",\"explained\",\"biochemical\",\"replaced\",\"extraction\",\"south\",\"!\",\"post\",\"oil\",\"aortic\",\"obesity\",\"subunit\",\"associations\",\"eyes\",\"Human\",\"periods\",\"dogs\",\"partially\",\"displayed\",\"away\",\"dietary\",\"device\",\"consists\",\"embryos\",\"1.5\",\"root\",\"cancers\",\"*\",\"schools\",\"construction\",\"candidate\",\"potent\",\"separated\",\"ion\",\"promote\",\"#\",\"polymerase\",\"match\",\"More\",\"contribution\",\"accurate\",\"extracts\",\"video\",\"exchange\",\"concluded\",\"occurrence\",\"consisted\",\"vessels\",\"clusters\",\"Supplementary\",\"absorption\",\"nodes\",\"mixture\",\"persons\",\"policy\",\"p53\",\"stained\",\"morphology\",\"solid\",\"IgG\",\"typically\",\"33\",\"distal\",\"L.\",\"Click\",\"spectrum\",\"antigens\",\"characterization\",\"B.\",\"physicians\",\"yield\",\"column\",\"turn\",\"Another\",\"ovarian\",\"detailed\",\"organ\",\"intermediate\",\"monoclonal\",\"minimal\",\"limit\",\"nervous\",\"King\",\"representative\",\"Central\",\"prognosis\",\"character\",\"chromatography\",\"replacement\",\"sometimes\",\"refer\",\"illness\",\"sampling\",\"wrote\",\"output\",\"spontaneous\",\"plasmid\",\"Background\",\"prediction\",\"originally\",\"developmental\",\"predict\",\"shift\",\"television\",\"Discussion\",\"stimulus\",\"injuries\",\"morbidity\",\"influenced\",\"commercial\",\"tolerance\",\"ligand\",\"rabbit\",\"mammalian\",\"Council\",\"tree\",\"joined\",\"invasion\",\"uses\",\"Cell\",\"transferred\",\"serve\",\"comparing\",\"heat\",\"starting\",\"BMI\",\"WT\",\"William\",\"get\",\"Cells\",\"randomly\",\"perform\",\"induces\",\"diversity\",\"parallel\",\"resources\",\"race\",\"round\",\"economic\",\"undergoing\",\"substantial\",\"classes\",\"neck\",\"matter\",\"AD\",\"1993\",\"woman\",\"focused\",\"predictive\",\"Interestingly\",\"deletion\",\"frequencies\",\"solutions\",\"viruses\",\"exhibit\",\"benefits\",\"eventually\",\"1992\",\"understand\",\"impairment\",\"invasive\",\"bovine\",\"income\",\"steps\",\"newly\",\"superior\",\"existing\",\"computed\",\"asked\",\"adjusted\",\"necrosis\",\"Church\",\"Society\",\"initiation\",\"excluded\",\"private\",\"onto\",\"2.5\",\"Australian\",\"behavioral\",\"varied\",\"Indian\",\"oxide\",\"makes\",\"nursing\",\"equivalent\",\"distributed\",\"transcripts\",\"spread\",\"tuberculosis\",\"bp\",\"variations\",\"generate\",\"Cup\",\"categories\",\"bladder\",\"communication\",\"reflect\",\"minimum\",\"Such\",\"bind\",\"transient\",\"reasons\",\"blot\",\"primers\",\"founded\",\"face\",\"labeled\",\"prolonged\",\"infarction\",\"recurrent\",\"receive\",\"items\",\"opened\",\"person\",\"adjacent\",\"address\",\"business\",\"locus\",\"raised\",\"speed\",\"President\",\"element\",\"1990\",\"input\",\"occurring\",\"closed\",\"PBS\",\"confirm\",\"achieve\",\"protective\",\"Effects\",\"transfected\",\"episode\",\"soil\",\"Their\",\"proximal\",\"Army\",\"suitable\",\"route\",\"S1\",\"ethanol\",\"Four\",\"putative\",\"delayed\",\"donor\",\"72\",\"participated\",\"segment\",\"assembly\",\"George\",\"tools\",\"Second\",\"capable\",\"i\",\"heavy\",\"playing\",\"James\",\"intravenous\",\"chosen\",\"express\",\"localized\",\"exist\",\"division\",\"decreases\",\"fast\",\"operations\",\"establish\",\"Additionally\",\"situ\",\"organic\",\"independently\",\"height\",\"efforts\",\"count\",\"optical\",\"trauma\",\"behaviour\",\"enhance\",\"correct\",\"mature\",\"Recent\",\"[2]\",\"variance\",\"younger\",\"competition\",\"subjected\",\"metastasis\",\"serious\",\"L\",\"display\",\"fibers\",\"modification\",\"organisms\",\"western\",\"milk\",\"variant\",\"hospitals\",\"measuring\",\"thickness\",\"phosphate\",\"graft\",\"dental\",\"office\",\"nuclei\",\"magnitude\",\"cytokine\",\"ranging\",\"NO\",\"rural\",\"tomography\",\"suppression\",\"smooth\",\"actions\",\"annual\",\"1991\",\"bias\",\"venous\",\"murine\",\"pair\",\"clones\",\"himself\",\"Committee\",\"slow\",\"parameter\",\"colon\",\"themselves\",\"identity\",\"easily\",\"safe\",\"progressive\",\"Division\",\"Introduction\",\"films\",\"[4]\",\"feeding\",\"fields\",\"[3]\",\"gold\",\"reason\",\"computer\",\"targeted\",\"prognostic\",\"34\",\"childhood\",\"color\",\"nM\",\"U.S\",\"situation\",\"Street\",\"enough\",\"extension\",\"targeting\",\"expansion\",\"depending\",\"medication\",\"leukemia\",\"skeletal\",\"muM\",\"metastatic\",\"synthesized\",\"synthetic\",\"HIV-1\",\"loci\",\"church\",\"spectra\",\"Statistical\",\"recording\",\"retinal\",\"SNPs\",\"accompanied\",\"Fig\",\"Party\",\"[8]\",\"[6]\",\"leaves\",\"election\",\"attempt\",\"teams\",\"Expression\",\"[5]\",\"vein\",\"reach\",\"routine\",\"portion\",\"balance\",\"42\",\"industry\",\"cycles\",\"emergency\",\"0.0001\",\"decline\",\"platelet\",\"episodes\",\"maximal\",\"create\",\"muscles\",\"reliable\",\"segments\",\"avoid\",\"curves\",\"met\",\"entry\",\"transgenic\",\"saline\",\"[7]\",\"attack\",\"consisting\",\"soluble\",\"coefficient\",\"listed\",\"shock\",\"party\",\"fourth\",\"But\",\"Canadian\",\"Union\",\"maintain\",\"fed\",\"anxiety\",\"[10]\",\"[9]\",\"substrates\",\"[12]\",\"fractions\",\"250\",\"coding\",\"300\",\"ranged\",\"involves\",\"bleeding\",\"methylation\",\"blocked\",\"cleavage\",\"considerable\",\"sent\",\"dominant\",\"hydrogen\",\"wife\",\"trend\",\"surrounding\",\"transformation\",\"Royal\",\"fibroblasts\",\"scored\",\"[11]\",\"killed\",\"markedly\",\"deep\",\"allowing\",\"hybridization\",\"deaths\",\"restricted\",\"44\",\"0.2\",\"ground\",\"oxidation\",\"believed\",\"malaria\",\"diverse\",\"similarity\",\"consider\",\"organs\",\"38\",\"RT-PCR\",\"thereby\",\"cytoplasmic\",\"amplification\",\"charge\",\"words\",\"defect\",\"regulate\",\"antagonist\",\"users\",\"separation\",\"amplitude\",\"MS\",\"residents\",\"tube\",\"advantage\",\"washed\",\"genus\",\"reconstruction\",\"velocity\",\"[13]\",\"translation\",\"Escherichia\",\"polymorphism\",\"aimed\",\"TNF-alpha\",\"story\",\"load\",\"map\",\"pathological\",\"Overall\",\"go\",\"[14]\",\"errors\",\"storage\",\"contributions\",\"H.\",\"existence\",\"influenza\",\"150\",\"isolation\",\"documented\",\"actin\",\"scientific\",\"Mean\",\"3D\",\"describes\",\"fluorescent\",\"communities\",\"read\",\"announced\",\"planning\",\"White\",\"bilateral\",\"figure\",\"practices\",\"ring\",\"bands\",\"fibrosis\",\"axis\",\"alleles\",\"zone\",\"odds\",\"fracture\",\"sensory\",\"players\",\"west\",\"pathology\",\"beyond\",\"[15]\",\"noise\",\"stated\",\"kinetics\",\"bodies\",\"interests\",\"limitations\",\"interpretation\",\"depends\",\"consequences\",\"systematic\",\"discovered\",\"ELISA\",\"dependence\",\"department\",\"locations\",\"come\",\"elected\",\"derivatives\",\"property\",\"ions\",\"radical\",\"correlations\",\"inhibits\",\"put\",\"arthritis\",\"east\",\"integrated\",\"follow\",\"effectively\",\"ms\",\"untreated\",\"causing\",\"arm\",\"ischemic\",\"reveal\",\"regard\",\"ultrasound\",\"Air\",\"representing\",\"track\",\"terminal\",\"takes\",\"forward\",\"retrospective\",\"lowest\",\"hundred\",\"library\",\"metabolites\",\"[16]\",\"gland\",\"fall\",\"coverage\",\"road\",\"proved\",\"Comparison\",\"Island\",\"actual\",\"reactive\",\"U.S.\",\"attributed\",\"David\",\"prominent\",\"THE\",\"plate\",\"implementation\",\"metastases\",\"adolescents\",\"extremely\",\"ischemia\",\"gradient\",\"Company\",\"simultaneously\",\"delay\",\"unclear\",\"signed\",\"airway\",\"style\",\"wound\",\"northern\",\"brought\",\"conversion\",\"tyrosine\",\"counts\",\"[17]\",\"LPS\",\"daughter\",\"adequate\",\"becomes\",\"urban\",\"none\",\"synaptic\",\"embryonic\",\"contributed\",\"gamma\",\"angle\",\"epithelium\",\"1989\",\"detectable\",\"histological\",\"implicated\",\"Northern\",\"excellent\",\"operated\",\"kDa\",\"Similarly\",\"explore\",\"science\",\"crucial\",\"inside\",\"Under\",\"deviation\",\"offer\",\"plan\"],\"x\":{\"__ndarray__\":\"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\",\"dtype\":\"float64\",\"shape\":[2500]},\"y\":{\"__ndarray__\":\"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\",\"dtype\":\"float64\",\"shape\":[2500]}}},\"id\":\"9b2e7a8e-98c0-4f46-ad8f-0e0664d5f0d5\",\"type\":\"ColumnDataSource\"},{\"attributes\":{\"fill_alpha\":{\"value\":0.1},\"fill_color\":{\"value\":\"#1f77b4\"},\"line_alpha\":{\"value\":0.1},\"line_color\":{\"value\":\"#1f77b4\"},\"x\":{\"field\":\"x\"},\"y\":{\"field\":\"y\"}},\"id\":\"4f51ce76-0480-40b8-8e24-3d9bddfcfbf7\",\"type\":\"Circle\"},{\"attributes\":{},\"id\":\"c25ab37d-974e-49d1-a705-561e98e8bf0a\",\"type\":\"ResetTool\"},{\"attributes\":{\"data_source\":{\"id\":\"9b2e7a8e-98c0-4f46-ad8f-0e0664d5f0d5\",\"type\":\"ColumnDataSource\"},\"glyph\":{\"id\":\"d0349c76-d963-48b5-8fa1-f89dabfa97ae\",\"type\":\"Circle\"},\"hover_glyph\":null,\"muted_glyph\":null,\"nonselection_glyph\":{\"id\":\"4f51ce76-0480-40b8-8e24-3d9bddfcfbf7\",\"type\":\"Circle\"},\"selection_glyph\":null,\"view\":{\"id\":\"8a3e0f2e-4947-4856-ad84-a2ed701a7d9b\",\"type\":\"CDSView\"}},\"id\":\"20b53e8d-ce67-497b-a87b-7ba94f527181\",\"type\":\"GlyphRenderer\"},{\"attributes\":{\"callback\":null,\"tooltips\":[[\"word\",\"@words\"]]},\"id\":\"bf85d8d5-6fc2-4cc9-a95f-9cebfbd509da\",\"type\":\"HoverTool\"},{\"attributes\":{\"active_drag\":\"auto\",\"active_inspect\":\"auto\",\"active_scroll\":\"auto\",\"active_tap\":\"auto\",\"tools\":[{\"id\":\"d425d46e-f566-4ecd-8deb-c0d26e057bf1\",\"type\":\"PanTool\"},{\"id\":\"3b5f93dd-9728-40fe-9618-2fc9e83e4d43\",\"type\":\"WheelZoomTool\"},{\"id\":\"dd7e44d5-b75b-4251-a391-48b2455973c8\",\"type\":\"BoxZoomTool\"},{\"id\":\"c25ab37d-974e-49d1-a705-561e98e8bf0a\",\"type\":\"ResetTool\"},{\"id\":\"bf85d8d5-6fc2-4cc9-a95f-9cebfbd509da\",\"type\":\"HoverTool\"},{\"id\":\"7e664c06-da1c-4492-8b40-8dcd02eb4fe0\",\"type\":\"SaveTool\"}]},\"id\":\"47b1fa1e-f911-403a-ae03-a69f4722285c\",\"type\":\"Toolbar\"},{\"attributes\":{\"fill_color\":{\"value\":\"#1f77b4\"},\"line_color\":{\"value\":\"#1f77b4\"},\"x\":{\"field\":\"x\"},\"y\":{\"field\":\"y\"}},\"id\":\"d0349c76-d963-48b5-8fa1-f89dabfa97ae\",\"type\":\"Circle\"},{\"attributes\":{},\"id\":\"7e664c06-da1c-4492-8b40-8dcd02eb4fe0\",\"type\":\"SaveTool\"},{\"attributes\":{\"min_border\":1,\"plot_width\":700,\"renderers\":[{\"id\":\"7c8a9c06-af02-432a-a6f9-d3516f5f625e\",\"type\":\"BoxAnnotation\"},{\"id\":\"20b53e8d-ce67-497b-a87b-7ba94f527181\",\"type\":\"GlyphRenderer\"}],\"title\":{\"id\":\"0165e984-3eb6-4fa2-b638-d0f61f1977c1\",\"type\":\"Title\"},\"toolbar\":{\"id\":\"47b1fa1e-f911-403a-ae03-a69f4722285c\",\"type\":\"Toolbar\"},\"x_range\":{\"id\":\"7a4c25f5-e5a7-4a18-862f-be44e5cea81e\",\"type\":\"DataRange1d\"},\"x_scale\":{\"id\":\"d8b113c6-9b24-4c02-bfe4-cbe751ee7495\",\"type\":\"LinearScale\"},\"y_range\":{\"id\":\"9bb0d26d-7588-4eca-8238-31a4ea730dd4\",\"type\":\"DataRange1d\"},\"y_scale\":{\"id\":\"aa34710b-af6a-4ebb-987f-cf2c85cff7e9\",\"type\":\"LinearScale\"}},\"id\":\"d32b0221-4cd2-4262-883e-a1f373cd0320\",\"subtype\":\"Figure\",\"type\":\"Plot\"},{\"attributes\":{\"callback\":null},\"id\":\"7a4c25f5-e5a7-4a18-862f-be44e5cea81e\",\"type\":\"DataRange1d\"}],\"root_ids\":[\"d32b0221-4cd2-4262-883e-a1f373cd0320\"]},\"title\":\"Bokeh Application\",\"version\":\"0.12.10\"}};\n",
       "    var render_items = [{\"docid\":\"eb00671a-c4c5-45c9-9ab6-19b56b7c20cf\",\"elementid\":\"660c7ea3-b534-4897-b502-8b9037fe64cf\",\"modelid\":\"d32b0221-4cd2-4262-883e-a1f373cd0320\"}];\n",
       "\n",
       "    root.Bokeh.embed.embed_items(docs_json, render_items);\n",
       "  }\n",
       "\n",
       "  if (root.Bokeh !== undefined) {\n",
       "    embed_document(root);\n",
       "  } else {\n",
       "    var attempts = 0;\n",
       "    var timer = setInterval(function(root) {\n",
       "      if (root.Bokeh !== undefined) {\n",
       "        embed_document(root);\n",
       "        clearInterval(timer);\n",
       "      }\n",
       "      attempts++;\n",
       "      if (attempts > 100) {\n",
       "        console.log(\"Bokeh: ERROR: Unable to embed document because BokehJS library is missing\")\n",
       "        clearInterval(timer);\n",
       "      }\n",
       "    }, 10, root)\n",
       "  }\n",
       "})(window);"
      ],
      "application/vnd.bokehjs_exec.v0+json": ""
     },
     "metadata": {
      "application/vnd.bokehjs_exec.v0+json": {
       "id": "d32b0221-4cd2-4262-883e-a1f373cd0320"
      }
     },
     "output_type": "display_data"
    }
   ],
   "source": [
    "plot_tfidf.scatter(x='x', y='y', source=tsne_df)\n",
    "hover = plot_tfidf.select(dict(type=HoverTool))\n",
    "hover.tooltips={\"word\": \"@words\"}\n",
    "show(plot_tfidf)"
   ]
  },
  {
   "cell_type": "code",
   "execution_count": null,
   "metadata": {
    "collapsed": true
   },
   "outputs": [],
   "source": []
  }
 ],
 "metadata": {
  "kernelspec": {
   "display_name": "Python 3",
   "language": "python",
   "name": "python3"
  },
  "language_info": {
   "codemirror_mode": {
    "name": "ipython",
    "version": 3
   },
   "file_extension": ".py",
   "mimetype": "text/x-python",
   "name": "python",
   "nbconvert_exporter": "python",
   "pygments_lexer": "ipython3",
   "version": "3.6.3"
  }
 },
 "nbformat": 4,
 "nbformat_minor": 2
}
