{
 "cells": [
  {
   "cell_type": "markdown",
   "metadata": {},
   "source": [
    "# Topic 4. Neural Networks\n",
    "\n",
    "## In this lab we will learn about the Hopfield Network\n"
   ]
  },
  {
   "cell_type": "code",
   "execution_count": 1,
   "metadata": {},
   "outputs": [
    {
     "name": "stdout",
     "output_type": "stream",
     "text": [
      "Using matplotlib backend: GTK3Agg\n"
     ]
    }
   ],
   "source": [
    "# We start by importing the python libraries required to solve the problems\n",
    "import numpy as np\n",
    "from neupy import algorithms  # See (http://neupy.com/pages/home.html) for comprenhensive tutorial \n",
    "from neupy import plots\n",
    "from PIL import Image\n",
    "import matplotlib.pyplot as plt\n",
    "\n",
    "# Enables interactivity with the plots\n",
    "% matplotlib\n"
   ]
  },
  {
   "cell_type": "markdown",
   "metadata": {},
   "source": [
    "## Part I. First NN paradigm: Hopfield Network \n",
    "\n",
    "The first class of networks we investigate is the Hopfield network, this is one example of the autoassociative networks algorithms.\n",
    "The goal of a Hopfield network is to learn a memory or condensed representation of the input data. \n",
    "During the training phase it receives the a set of input data and it updates a weight-matrix representation of this information\n",
    "using Hebbian learning.\n",
    "During the prediction phase, the (possible corrupted or distorted input) is entered to the network and from this input it should be able\n",
    "to recover the closest original input. In this sense the network work as a \"memory\".\n",
    "\n",
    "\n",
    "In this first part we will show how to train the network and use for prediction. After seeing the examples students will have to solve different exercises."
   ]
  },
  {
   "cell_type": "code",
   "execution_count": 2,
   "metadata": {},
   "outputs": [],
   "source": [
    "# Function to display a letter from an array of 64 binary numbers\n",
    "def ShowPattern(z):  \n",
    "   rz = z.reshape(8,8)\n",
    "   plt.imshow(rz)\n",
    "   #plt.gray()\n",
    "   plt.show()"
   ]
  },
  {
   "cell_type": "code",
   "execution_count": 3,
   "metadata": {},
   "outputs": [],
   "source": [
    "    # We define the binary arrays corresponding to four letters that we will used in the experiments\n",
    "    # These letters are: C,T,I, and O\n",
    "    \n",
    "    C_letter = np.matrix([\n",
    "     1, 1, 1, 1, 1, 1, 1, 1,\n",
    "     1, 1, 1, 1, 1, 1, 1, 1,\n",
    "     1, 1, 0, 0, 0, 0, 0, 0,  \n",
    "     1, 1, 0, 0, 0, 0, 0, 0,  \n",
    "     1, 1, 0, 0, 0, 0, 0, 0,  \n",
    "     1, 1, 0, 0, 0, 0, 0, 0,     \n",
    "     1, 1, 1, 1, 1, 1, 1, 1,\n",
    "     1, 1, 1, 1, 1, 1, 1, 1     \n",
    "    ])     \n",
    "    \n",
    "    \n",
    "    T_letter = np.matrix([\n",
    "     1, 1, 1, 1, 1, 1, 1, 1,\n",
    "     1, 1, 1, 1, 1, 1, 1, 1,\n",
    "     0, 0, 0, 1, 1, 0, 0, 0,\n",
    "     0, 0, 0, 1, 1, 0, 0, 0,\n",
    "     0, 0, 0, 1, 1, 0, 0, 0,\n",
    "     0, 0, 0, 1, 1, 0, 0, 0,\n",
    "     0, 0, 0, 1, 1, 0, 0, 0,\n",
    "     0, 0, 0, 1, 1, 0, 0, 0          \n",
    "   ])    \n",
    "        \n",
    "     \n",
    "    I_letter = np.matrix([\n",
    "     1, 1, 1, 1, 1, 1, 1, 1,\n",
    "     1, 1, 1, 1, 1, 1, 1, 1,\n",
    "     0, 0, 0, 1, 1, 0, 0, 0,\n",
    "     0, 0, 0, 1, 1, 0, 0, 0,\n",
    "     0, 0, 0, 1, 1, 0, 0, 0,\n",
    "     0, 0, 0, 1, 1, 0, 0, 0,\n",
    "     1, 1, 1, 1, 1, 1, 1, 1,\n",
    "     1, 1, 1, 1, 1, 1, 1, 1\n",
    "    ])    \n",
    "    \n",
    "        \n",
    "    O_letter = np.matrix([\n",
    "     1, 1, 1, 1, 1, 1, 1, 1,\n",
    "     1, 1, 1, 1, 1, 1, 1, 1,\n",
    "     1, 1, 0, 0, 0, 0, 1, 1,  \n",
    "     1, 1, 0, 0, 0, 0, 1, 1,  \n",
    "     1, 1, 0, 0, 0, 0, 1, 1,  \n",
    "     1, 1, 0, 0, 0, 0, 1, 1,     \n",
    "     1, 1, 1, 1, 1, 1, 1, 1,\n",
    "     1, 1, 1, 1, 1, 1, 1, 1     \n",
    "    ])     \n",
    "    "
   ]
  },
  {
   "cell_type": "code",
   "execution_count": 4,
   "metadata": {},
   "outputs": [
    {
     "name": "stderr",
     "output_type": "stream",
     "text": [
      "/usr/local/lib/python3.4/dist-packages/cairocffi/surfaces.py:651: UserWarning: implicit cast from 'char *' to a different pointer type: will be forbidden in the future (check that the types are as you expect; use an explicit ffi.cast() if they are correct)\n",
      "  ffi.cast('char*', address), format, width, height, stride)\n"
     ]
    }
   ],
   "source": [
    "# As an example we display letter C\n",
    "ShowPattern(C_letter)\n",
    "\n",
    "\n"
   ]
  },
  {
   "cell_type": "code",
   "execution_count": 5,
   "metadata": {},
   "outputs": [],
   "source": [
    "# The dataset is created concatenating the representation of letters C, T, and I\n",
    "data = np.concatenate([C_letter,T_letter,I_letter], axis=0)\n",
    "\n",
    "# The discrete network is learned using the synchronous mode\n",
    "dhnet = algorithms.DiscreteHopfieldNetwork(mode='sync')\n",
    "\n",
    "# The network is trained using the data\n",
    "dhnet.train(data)\n",
    "\n"
   ]
  },
  {
   "cell_type": "code",
   "execution_count": 6,
   "metadata": {},
   "outputs": [
    {
     "name": "stdout",
     "output_type": "stream",
     "text": [
      "DiscreteHopfieldNetwork(check_limit=True, n_times=100, mode=sync, verbose=False)\n"
     ]
    }
   ],
   "source": [
    "# We print the details of the network to see its parameters\n",
    "print(dhnet)"
   ]
  },
  {
   "cell_type": "code",
   "execution_count": 7,
   "metadata": {},
   "outputs": [
    {
     "name": "stderr",
     "output_type": "stream",
     "text": [
      "/usr/local/lib/python3.4/dist-packages/cairocffi/surfaces.py:651: UserWarning: implicit cast from 'char *' to a different pointer type: will be forbidden in the future (check that the types are as you expect; use an explicit ffi.cast() if they are correct)\n",
      "  ffi.cast('char*', address), format, width, height, stride)\n"
     ]
    }
   ],
   "source": [
    "# The prediction of the network for letter O is computed\n",
    "result = dhnet.predict(O_letter)\n",
    "\n",
    "# We print the prediction\n",
    "ShowPattern(result)\n",
    "\n"
   ]
  },
  {
   "cell_type": "markdown",
   "metadata": {},
   "source": [
    "## Part I.  Exercise 1)\n",
    "\n",
    "Analyze the prediction given by the previous network. Does it predict letter O?  Why?\n"
   ]
  },
  {
   "cell_type": "code",
   "execution_count": 8,
   "metadata": {},
   "outputs": [
    {
     "name": "stderr",
     "output_type": "stream",
     "text": [
      "/usr/local/lib/python3.4/dist-packages/cairocffi/surfaces.py:651: UserWarning: implicit cast from 'char *' to a different pointer type: will be forbidden in the future (check that the types are as you expect; use an explicit ffi.cast() if they are correct)\n",
      "  ffi.cast('char*', address), format, width, height, stride)\n"
     ]
    }
   ],
   "source": [
    "# Now we create a distorted version of letter I and show this figure\n",
    "\n",
    "distorted_I_letter_1 = np.matrix([\n",
    "     1, 1, 1, 1, 1, 0, 1, 1,\n",
    "     1, 1, 1, 1, 1, 0, 1, 1,\n",
    "     0, 0, 0, 1, 1, 0, 0, 0,\n",
    "     0, 1, 0, 1, 1, 0, 0, 0,\n",
    "     0, 0, 0, 1, 1, 0, 0, 0,\n",
    "     0, 0, 0, 1, 1, 0, 1, 1,\n",
    "     1, 0, 1, 0, 1, 1, 1, 1,\n",
    "     1, 1, 0, 1, 1, 1, 1, 1\n",
    "    ])    \n",
    "    \n",
    "    \n",
    "ShowPattern(distorted_I_letter_1)\n",
    "\n"
   ]
  },
  {
   "cell_type": "code",
   "execution_count": 9,
   "metadata": {},
   "outputs": [
    {
     "name": "stderr",
     "output_type": "stream",
     "text": [
      "/usr/local/lib/python3.4/dist-packages/cairocffi/surfaces.py:651: UserWarning: implicit cast from 'char *' to a different pointer type: will be forbidden in the future (check that the types are as you expect; use an explicit ffi.cast() if they are correct)\n",
      "  ffi.cast('char*', address), format, width, height, stride)\n"
     ]
    }
   ],
   "source": [
    "# We compute the result of the network for this distorted version of letter I\n",
    "result_distorted_I_letter_1= dhnet.predict(distorted_I_letter_1)\n",
    "\n",
    "# The prediction is shown.\n",
    "ShowPattern(result_distorted_I_letter_1)\n",
    "    "
   ]
  },
  {
   "cell_type": "markdown",
   "metadata": {
    "collapsed": true
   },
   "source": [
    "## Part I.  Exercise 2)\n",
    "\n",
    "Analyze the prediction given by the previous network. Does it predict letter I?  Why?\n"
   ]
  },
  {
   "cell_type": "code",
   "execution_count": 10,
   "metadata": {},
   "outputs": [
    {
     "name": "stderr",
     "output_type": "stream",
     "text": [
      "/usr/local/lib/python3.4/dist-packages/cairocffi/surfaces.py:651: UserWarning: implicit cast from 'char *' to a different pointer type: will be forbidden in the future (check that the types are as you expect; use an explicit ffi.cast() if they are correct)\n",
      "  ffi.cast('char*', address), format, width, height, stride)\n"
     ]
    }
   ],
   "source": [
    "# We repeat the previous process, this time for letter C\n",
    "\n",
    "distorted_C_letter_1 = np.matrix([\n",
    "     1, 1, 1, 1, 1, 1, 1, 1,\n",
    "     1, 1, 1, 1, 1, 1, 1, 1,\n",
    "     0, 1, 0, 0, 0, 0, 0, 1,  \n",
    "     0, 1, 0, 0, 0, 0, 0, 1,  \n",
    "     0, 1, 0, 0, 0, 0, 0, 1,  \n",
    "     0, 1, 0, 0, 0, 0, 0, 1,     \n",
    "     1, 1, 1, 1, 1, 1, 1, 1,\n",
    "     1, 1, 1, 1, 1, 1, 1, 1     \n",
    "    ])     \n",
    "    \n",
    "ShowPattern(distorted_C_letter_1)\n",
    "    "
   ]
  },
  {
   "cell_type": "code",
   "execution_count": 11,
   "metadata": {},
   "outputs": [
    {
     "name": "stderr",
     "output_type": "stream",
     "text": [
      "/usr/local/lib/python3.4/dist-packages/cairocffi/surfaces.py:651: UserWarning: implicit cast from 'char *' to a different pointer type: will be forbidden in the future (check that the types are as you expect; use an explicit ffi.cast() if they are correct)\n",
      "  ffi.cast('char*', address), format, width, height, stride)\n"
     ]
    }
   ],
   "source": [
    "# We compute the result of the network for this distorted version of letter C\n",
    "result_distorted_C_letter_1= dhnet.predict(distorted_C_letter_1)\n",
    "\n",
    "# The prediction is shown.\n",
    "ShowPattern(result_distorted_C_letter_1)\n",
    "    "
   ]
  },
  {
   "cell_type": "markdown",
   "metadata": {},
   "source": [
    "## Part I.  Exercise 3)\n",
    "\n",
    "Analyze the prediction given by the previous network. Does it predict letter C?  Why?\n"
   ]
  },
  {
   "cell_type": "code",
   "execution_count": 12,
   "metadata": {},
   "outputs": [
    {
     "name": "stderr",
     "output_type": "stream",
     "text": [
      "/usr/local/lib/python3.4/dist-packages/cairocffi/surfaces.py:651: UserWarning: implicit cast from 'char *' to a different pointer type: will be forbidden in the future (check that the types are as you expect; use an explicit ffi.cast() if they are correct)\n",
      "  ffi.cast('char*', address), format, width, height, stride)\n"
     ]
    }
   ],
   "source": [
    "# Now, we create a random input pattern\n",
    "random_pattern = np.random.randint(0,2,[1,64])\n",
    "\n",
    "# The pattern is shown\n",
    "ShowPattern(random_pattern)"
   ]
  },
  {
   "cell_type": "code",
   "execution_count": 13,
   "metadata": {},
   "outputs": [
    {
     "name": "stderr",
     "output_type": "stream",
     "text": [
      "/usr/local/lib/python3.4/dist-packages/cairocffi/surfaces.py:651: UserWarning: implicit cast from 'char *' to a different pointer type: will be forbidden in the future (check that the types are as you expect; use an explicit ffi.cast() if they are correct)\n",
      "  ffi.cast('char*', address), format, width, height, stride)\n"
     ]
    }
   ],
   "source": [
    "# The prediction of the network is computed for the random pattern\n",
    "result_random_pattern = dhnet.predict(random_pattern)\n",
    "\n",
    "# The prediction is display\n",
    "ShowPattern(result_random_pattern)"
   ]
  },
  {
   "cell_type": "markdown",
   "metadata": {
    "collapsed": true
   },
   "source": [
    "## Part I.  Exercise 4)\n",
    "\n",
    "Analyze the prediction given by the previous network. Which letter does it predict?  Why?\n"
   ]
  },
  {
   "cell_type": "code",
   "execution_count": 16,
   "metadata": {},
   "outputs": [
    {
     "name": "stderr",
     "output_type": "stream",
     "text": [
      "/usr/local/lib/python3.4/dist-packages/cairocffi/surfaces.py:651: UserWarning: implicit cast from 'char *' to a different pointer type: will be forbidden in the future (check that the types are as you expect; use an explicit ffi.cast() if they are correct)\n",
      "  ffi.cast('char*', address), format, width, height, stride)\n"
     ]
    }
   ],
   "source": [
    "# The Hinton diagram that shows the sign and strength of the weights learned by the network is shown\n",
    "# An interpretation of the matrix is not always straightforward.\n",
    "# However some patterns could be extracted from this analysis\n",
    "plt.figure(figsize=(14, 12))\n",
    "plt.title(\"Hinton diagram\")\n",
    "plots.hinton(dhnet.weight)\n",
    "plt.show()"
   ]
  },
  {
   "cell_type": "markdown",
   "metadata": {},
   "source": [
    "## Part I.  Exercise 5)\n",
    "\n",
    " Create an algorithm EstimateFrequencies() that estimates the frequency of the trained network to predict any of the three input letters, given random patterns as inputs. The python function should not have more than 10 lines of code. \n",
    " Apply the algorithm to compute an estimation of the frequencies.\n",
    "\n",
    " \n",
    "\n",
    "\n"
   ]
  },
  {
   "cell_type": "code",
   "execution_count": 15,
   "metadata": {},
   "outputs": [
    {
     "ename": "SyntaxError",
     "evalue": "invalid syntax (<ipython-input-15-49ed1b204244>, line 5)",
     "output_type": "error",
     "traceback": [
      "\u001b[0;36m  File \u001b[0;32m\"<ipython-input-15-49ed1b204244>\"\u001b[0;36m, line \u001b[0;32m5\u001b[0m\n\u001b[0;31m    def EstimateFrequencies(hopfield_network,number_of_random_patterns)\u001b[0m\n\u001b[0m                                                                       ^\u001b[0m\n\u001b[0;31mSyntaxError\u001b[0m\u001b[0;31m:\u001b[0m invalid syntax\n"
     ]
    },
    {
     "name": "stderr",
     "output_type": "stream",
     "text": [
      "/usr/local/lib/python3.4/dist-packages/cairocffi/surfaces.py:651: UserWarning: implicit cast from 'char *' to a different pointer type: will be forbidden in the future (check that the types are as you expect; use an explicit ffi.cast() if they are correct)\n",
      "  ffi.cast('char*', address), format, width, height, stride)\n"
     ]
    }
   ],
   "source": [
    "# It follows a template of the function to implement\n",
    "# You may assume that numpy representations of all the available letters are global variables\n",
    "# accessible from the function\n",
    "\n",
    "def EstimateFrequencies(hopfield_network,number_of_random_patterns)\n",
    "   frequencies = []\n",
    "   # your code goes here\n",
    "    \n",
    "   return frequencies\n",
    "\n",
    "comp_freq = EstimateFrequencies(dhnet,60)\n",
    "print('The frequencies are : \", comp_freq)\n"
   ]
  },
  {
   "cell_type": "markdown",
   "metadata": {},
   "source": [
    "## Part I.  Exercise 6)\n",
    "\n",
    " Train a new network using the four letters, and compute a new set of frequencies for the four letters. \n",
    "    "
   ]
  },
  {
   "cell_type": "code",
   "execution_count": null,
   "metadata": {
    "collapsed": true
   },
   "outputs": [],
   "source": []
  }
 ],
 "metadata": {
  "kernelspec": {
   "display_name": "Python 3",
   "language": "python",
   "name": "python3"
  },
  "language_info": {
   "codemirror_mode": {
    "name": "ipython",
    "version": 3
   },
   "file_extension": ".py",
   "mimetype": "text/x-python",
   "name": "python",
   "nbconvert_exporter": "python",
   "pygments_lexer": "ipython3",
   "version": "3.6.2"
  }
 },
 "nbformat": 4,
 "nbformat_minor": 2
}
