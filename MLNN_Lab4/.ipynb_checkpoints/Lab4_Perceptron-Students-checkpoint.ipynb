{
 "cells": [
  {
   "cell_type": "markdown",
   "metadata": {},
   "source": [
    "## Topic 4. Neural Networks\n",
    "## Perceptron "
   ]
  },
  {
   "cell_type": "code",
   "execution_count": 1,
   "metadata": {
    "collapsed": true
   },
   "outputs": [],
   "source": [
    "# We start by importing the python libraries required to solve the problems\n",
    "\n",
    "import numpy as np\n",
    "import matplotlib\n",
    "from matplotlib import pylab as plt\n",
    "import matplotlib.patches as mpatches\n",
    "from scipy.special import expit\n"
   ]
  },
  {
   "cell_type": "markdown",
   "metadata": {},
   "source": [
    "We generate  a dataset of points that belong to two classes and are separated by a line. \n",
    "\n",
    "Each instance of the dataset has two variables. Classes are: 0 and 1. "
   ]
  },
  {
   "cell_type": "code",
   "execution_count": 2,
   "metadata": {
    "collapsed": true
   },
   "outputs": [],
   "source": [
    "# Points in Class A\n",
    "xA = 20*np.random.rand(50)\n",
    "shiftA = 20*np.random.rand(50)\n",
    "yA = (4+xA)/2.0 - shiftA - 0.1\n",
    "\n",
    "# Points in Class B\n",
    "xB = 20*np.random.rand(50)\n",
    "shiftB = 20*np.random.rand(50)\n",
    "yB = (4+xB)/2.0 + shiftB + 0.1\n",
    "\n",
    "# We define our set of observations (the union of points from the two classes)\n",
    "# We concatenate the vectors\n",
    "x = np.hstack((xA,xB)).reshape(-1,1)\n",
    "y = np.hstack((yA,yB)).reshape(-1,1)\n",
    "x_data = np.hstack((x,y))\n",
    "\n",
    "# In the vector of target values, the first 50 instances belong to one class and the next 50 instances belong \n",
    "# to the other class\n",
    "target_class = np.vstack((np.zeros((50,1)),np.ones((50,1))))"
   ]
  },
  {
   "cell_type": "markdown",
   "metadata": {},
   "source": [
    "Function PrintDecisionFunction will be used to visualize the decision functions learned by different ML algorithms."
   ]
  },
  {
   "cell_type": "code",
   "execution_count": 3,
   "metadata": {
    "collapsed": true
   },
   "outputs": [],
   "source": [
    "def PrintDecisionFunction(coefs,intersect,xA,yA,xB,yB,x):\n",
    "\n",
    "     fsize = 14\n",
    "     \n",
    "    # The decision function is computed using the coefficients and intersect learned\n",
    "     # by the algorithm\n",
    "     decision_function =  (-intersect -coefs[0]*x)/coefs[1]\n",
    "        \n",
    "     fig = plt.figure()\n",
    "    \n",
    "     # The decision function is plotted\n",
    "     plt.plot(x,decision_function,'y*', lw=4)\n",
    "        \n",
    "     # The points from the two classes are plotted\n",
    "     plt.plot(xA, yA, 'ro', lw=4)\n",
    "     plt.plot(xB, yB, 'bs', lw=4)\n",
    "\n",
    "\n",
    "     blue_patch = mpatches.Patch(color='blue', label='Class I')\n",
    "     red_patch = mpatches.Patch(color='red', label='Class II')\n",
    "     plt.legend(handles=[blue_patch,red_patch])\n",
    "     plt.xlabel(r'$x$', fontsize=fsize)\n",
    "     plt.ylabel(r'$y$', fontsize=fsize)\n",
    "\n",
    "     plt.show()\n",
    "        \n",
    "     return fig\n"
   ]
  },
  {
   "cell_type": "markdown",
   "metadata": {},
   "source": [
    "## Exercise 1\n",
    "\n",
    "The  functions included in the following cell implement a perceptron.\n",
    "\n",
    "1) Complete functions \"Make_Predictions\" and \"Update_Weights\".\n",
    "\n",
    "\n",
    "2) Execute the subsequent cell to visualize how \"LearnPerceptron\" works.\n",
    "\n",
    "\n",
    "3) Modify the perceptron algorithm in such a way that it starts from a vector of random weights.\n"
   ]
  },
  {
   "cell_type": "code",
   "execution_count": 4,
   "metadata": {},
   "outputs": [],
   "source": [
    "def Init_Weights(nweights):\n",
    "   weights = np.zeros((1,nweights))  \n",
    "   return weights\n",
    "\n",
    "\n",
    "def Make_Predictions(weights,train_data):\n",
    "\n",
    "   return predictions\n",
    "\n",
    "\n",
    "\n",
    "def  Update_Weights(w,data,differences,lrate): \n",
    "\n",
    "    \n",
    "   return new_weights\n",
    " \n",
    "    \n",
    "\n",
    "def LearnPerceptron(train_data, train_class, learning_rate, number_epochs):\n",
    "\n",
    "   # Number of instances in the dataset\n",
    "   N = train_data.shape[0]  \n",
    "  \n",
    "   # We enlarge the dataset adding a column of ones\n",
    "   enlarged_train_data = np.hstack((train_data,np.ones((N,1))))\n",
    "   \n",
    "   # Number of variables plus the bias \n",
    "   n = enlarged_train_data.shape[1]  \n",
    "\n",
    "   print(\"Number of instances: \"+str(N)+\". Number of variables: \"+str(n-1)+\". Plus one variable that represents the bias.\")\n",
    "   # Weights are initialized \n",
    "   weights = Init_Weights(n)\n",
    "   error = 0\n",
    "   epoch = 0\n",
    "\n",
    "   while epoch==0 or (error>0 and epoch<number_epochs):\n",
    "        \n",
    "      # The perceptron is used to make predictions  \n",
    "      predicted = Make_Predictions(weights,enlarged_train_data)\n",
    "             \n",
    "      # For each instance, we compute the difference between the prediction and the class   \n",
    "      all_differences = train_class-predicted      \n",
    "      \n",
    "      # Using the differences the weights are updated        \n",
    "      weights = Update_Weights(weights,enlarged_train_data,all_differences,learning_rate)       \n",
    "      \n",
    "      epoch = epoch + 1        \n",
    "      \n",
    "      # We compute the error\n",
    "      error = sum(all_differences**2)/N\n",
    "      print(\"Epoch :\"+str(epoch)+\" Error: \"+str(error)+\" Weights: \",weights)      \n",
    "      fig = PrintDecisionFunction(weights[0,0:2],weights[0,2],xA,yA,xB,yB,x)\n",
    "      #fname = \"perceptron_\"+str(epoch)+\".png\"\n",
    "      #fig.savefig(fname)\n",
    "    \n",
    "   return error,predicted,weights\n",
    "      \n",
    "\n"
   ]
  },
  {
   "cell_type": "markdown",
   "metadata": {},
   "source": [
    "Executing the following cell you can check how your implementation works"
   ]
  },
  {
   "cell_type": "code",
   "execution_count": 8,
   "metadata": {},
   "outputs": [
    {
     "name": "stdout",
     "output_type": "stream",
     "text": [
      "Number of instances: 100. Number of variables: 2. Plus one variable that represents the bias.\n"
     ]
    },
    {
     "ename": "NameError",
     "evalue": "name 'predictions' is not defined",
     "output_type": "error",
     "traceback": [
      "\u001b[0;31m---------------------------------------------------------------------------\u001b[0m",
      "\u001b[0;31mNameError\u001b[0m                                 Traceback (most recent call last)",
      "\u001b[0;32m<ipython-input-8-5865b10d64b3>\u001b[0m in \u001b[0;36m<module>\u001b[0;34m()\u001b[0m\n\u001b[1;32m      3\u001b[0m \u001b[0;34m\u001b[0m\u001b[0m\n\u001b[1;32m      4\u001b[0m \u001b[0;34m\u001b[0m\u001b[0m\n\u001b[0;32m----> 5\u001b[0;31m \u001b[0mmy_perceptron_error\u001b[0m\u001b[0;34m,\u001b[0m \u001b[0mmy_perceptron_predictions\u001b[0m\u001b[0;34m,\u001b[0m \u001b[0mmy_perceptron_weights\u001b[0m \u001b[0;34m=\u001b[0m \u001b[0mLearnPerceptron\u001b[0m\u001b[0;34m(\u001b[0m\u001b[0mx_data\u001b[0m\u001b[0;34m,\u001b[0m \u001b[0mtarget_class\u001b[0m\u001b[0;34m,\u001b[0m \u001b[0mlearning_rate\u001b[0m\u001b[0;34m,\u001b[0m \u001b[0mnumber_epochs\u001b[0m\u001b[0;34m)\u001b[0m\u001b[0;34m\u001b[0m\u001b[0m\n\u001b[0m",
      "\u001b[0;32m<ipython-input-4-314758ec52b3>\u001b[0m in \u001b[0;36mLearnPerceptron\u001b[0;34m(train_data, train_class, learning_rate, number_epochs)\u001b[0m\n\u001b[1;32m     37\u001b[0m \u001b[0;34m\u001b[0m\u001b[0m\n\u001b[1;32m     38\u001b[0m       \u001b[0;31m# The perceptron is used to make predictions\u001b[0m\u001b[0;34m\u001b[0m\u001b[0;34m\u001b[0m\u001b[0m\n\u001b[0;32m---> 39\u001b[0;31m       \u001b[0mpredicted\u001b[0m \u001b[0;34m=\u001b[0m \u001b[0mMake_Predictions\u001b[0m\u001b[0;34m(\u001b[0m\u001b[0mweights\u001b[0m\u001b[0;34m,\u001b[0m\u001b[0menlarged_train_data\u001b[0m\u001b[0;34m)\u001b[0m\u001b[0;34m\u001b[0m\u001b[0m\n\u001b[0m\u001b[1;32m     40\u001b[0m \u001b[0;34m\u001b[0m\u001b[0m\n\u001b[1;32m     41\u001b[0m       \u001b[0;31m# For each instance, we compute the difference between the prediction and the class\u001b[0m\u001b[0;34m\u001b[0m\u001b[0;34m\u001b[0m\u001b[0m\n",
      "\u001b[0;32m<ipython-input-4-314758ec52b3>\u001b[0m in \u001b[0;36mMake_Predictions\u001b[0;34m(weights, train_data)\u001b[0m\n\u001b[1;32m      6\u001b[0m \u001b[0;32mdef\u001b[0m \u001b[0mMake_Predictions\u001b[0m\u001b[0;34m(\u001b[0m\u001b[0mweights\u001b[0m\u001b[0;34m,\u001b[0m\u001b[0mtrain_data\u001b[0m\u001b[0;34m)\u001b[0m\u001b[0;34m:\u001b[0m\u001b[0;34m\u001b[0m\u001b[0m\n\u001b[1;32m      7\u001b[0m \u001b[0;34m\u001b[0m\u001b[0m\n\u001b[0;32m----> 8\u001b[0;31m    \u001b[0;32mreturn\u001b[0m \u001b[0mpredictions\u001b[0m\u001b[0;34m\u001b[0m\u001b[0m\n\u001b[0m\u001b[1;32m      9\u001b[0m \u001b[0;34m\u001b[0m\u001b[0m\n\u001b[1;32m     10\u001b[0m \u001b[0;34m\u001b[0m\u001b[0m\n",
      "\u001b[0;31mNameError\u001b[0m: name 'predictions' is not defined"
     ]
    }
   ],
   "source": [
    "learning_rate = 0.1\n",
    "number_epochs = 15\n",
    "\n",
    "\n",
    "my_perceptron_error, my_perceptron_predictions, my_perceptron_weights = LearnPerceptron(x_data, target_class, learning_rate, number_epochs)"
   ]
  },
  {
   "cell_type": "markdown",
   "metadata": {},
   "source": [
    "Print the prediction given by the Perceptron Model"
   ]
  },
  {
   "cell_type": "code",
   "execution_count": 299,
   "metadata": {},
   "outputs": [
    {
     "name": "stdout",
     "output_type": "stream",
     "text": [
      "[[0 0 0 0 0 0 0 0 0 0 0 0 0 0 0 0 0 0 0 0 0 0 0 0 0 0 0 0 0 0 0 0 0 0 0 0 0\n",
      "  1 0 0 0 0 0 0 0 0 0 0 0 0 1 1 1 1 1 1 1 1 1 1 1 1 1 1 1 1 1 1 1 1 1 1 1 1\n",
      "  1 1 1 1 1 0 1 1 1 1 1 1 1 1 1 1 1 1 1 1 1 1 1 1 1 1]]\n"
     ]
    }
   ],
   "source": [
    "print(my_perceptron_predictions.transpose())"
   ]
  },
  {
   "cell_type": "markdown",
   "metadata": {},
   "source": [
    "In the following cell we use define the scikit-learn implementation of the perceptron and learn the model using our dataset."
   ]
  },
  {
   "cell_type": "code",
   "execution_count": 305,
   "metadata": {},
   "outputs": [
    {
     "name": "stderr",
     "output_type": "stream",
     "text": [
      "/usr/local/lib/python3.4/dist-packages/sklearn/utils/validation.py:526: DataConversionWarning: A column-vector y was passed when a 1d array was expected. Please change the shape of y to (n_samples, ), for example using ravel().\n",
      "  y = column_or_1d(y, warn=True)\n"
     ]
    },
    {
     "data": {
      "text/plain": [
       "Perceptron(alpha=0.0001, class_weight=None, eta0=1.0, fit_intercept=True,\n",
       "      n_iter=5, n_jobs=1, penalty=None, random_state=0, shuffle=True,\n",
       "      verbose=0, warm_start=False)"
      ]
     },
     "execution_count": 305,
     "metadata": {},
     "output_type": "execute_result"
    }
   ],
   "source": [
    "from sklearn.linear_model import  Perceptron\n",
    "clf = Perceptron()\n",
    "clf.fit(x_data, target_class)\n"
   ]
  },
  {
   "cell_type": "markdown",
   "metadata": {},
   "source": [
    "## Exercise 2\n",
    "\n",
    "Use function \"PrintDecisionFunction\" to visualize the hyperplane learned by the Perceptron model.\n",
    "\n",
    "\n",
    "Suggestion: Look at the scikit-learn help for the internal parameters of class Perceptron and pass the relevant parameters\n",
    "to function \"PrintDecisionFunction\".\n"
   ]
  },
  {
   "cell_type": "code",
   "execution_count": 307,
   "metadata": {},
   "outputs": [
    {
     "name": "stdout",
     "output_type": "stream",
     "text": [
      "[[-11.75845217  57.95393002]] [-9.]\n"
     ]
    },
    {
     "data": {
      "image/png": "[encoded data removed]",
      "text/plain": [
       "<matplotlib.figure.Figure at 0x7f1438eb73c8>"
      ]
     },
     "metadata": {},
     "output_type": "display_data"
    }
   ],
   "source": [
    "perceptron_fig = PrintDecisionFunction()\n"
   ]
  },
  {
   "cell_type": "markdown",
   "metadata": {},
   "source": [
    "## Exercise 3\n",
    "\n",
    "In this exercise we will use the \"Planning Relax Data Set\" available from http://archive.ics.uci.edu/ml/datasets/Planning+Relax#\n",
    "    \n",
    "    This dataset contains 12 features extracted from the analysis of EEG signals  collected for 5 times on various days from a healthy right-handed subject of 25 years of age.  \n",
    "    \n",
    "    The main aim of the data is to classify each instance between normal relaxed state and movement imagery.\n",
    "    \n",
    "    This can be seen as a binary classification problem. \n",
    "    \n",
    "    \n",
    "    1) Create a pipeline that:\n",
    "    \n",
    "    1.1) Imputes the data\n",
    "    \n",
    "    1.2) Standarize  the data\n",
    "    \n",
    "    1.3) Reduces the set of 12 features to only two features by dimensionality reduction.\n",
    "    \n",
    "    1.4) Applies a perceptron to classify between the two classes.\n",
    "    \n",
    "    2) Evaluate the accuracy of the pipeline using the appropriate function of scikit-learn.\n",
    "    \n",
    "    \n",
    "    3) Print the confusion matrix produced by your pipeline.\n",
    "    \n",
    "    \n",
    "   "
   ]
  },
  {
   "cell_type": "code",
   "execution_count": 311,
   "metadata": {},
   "outputs": [
    {
     "data": {
      "text/plain": [
       "(182, 13)"
      ]
     },
     "execution_count": 311,
     "metadata": {},
     "output_type": "execute_result"
    }
   ],
   "source": [
    "# The first 12 columns of the file 'plrx.txt' contains the features and the last column is the class. \n",
    "\n",
    "dataset = np.loadtxt('plrx.txt')\n",
    "dataset.shape"
   ]
  },
  {
   "cell_type": "code",
   "execution_count": null,
   "metadata": {},
   "outputs": [],
   "source": []
  },
  {
   "cell_type": "code",
   "execution_count": null,
   "metadata": {
    "collapsed": true
   },
   "outputs": [],
   "source": []
  }
 ],
 "metadata": {
  "kernelspec": {
   "display_name": "Python 3",
   "language": "python",
   "name": "python3"
  },
  "language_info": {
   "codemirror_mode": {
    "name": "ipython",
    "version": 3
   },
   "file_extension": ".py",
   "mimetype": "text/x-python",
   "name": "python",
   "nbconvert_exporter": "python",
   "pygments_lexer": "ipython3",
   "version": "3.6.2"
  }
 },
 "nbformat": 4,
 "nbformat_minor": 2
}
