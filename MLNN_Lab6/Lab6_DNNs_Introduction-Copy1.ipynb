{
 "cells": [
  {
   "cell_type": "markdown",
   "metadata": {},
   "source": [
    "## Lab 6. Topic 3. Deep Neural Networks\n",
    "## Review of Concepts on Probability Distributions. Components of Deep Neural Networks. Log-functions and Activation-Functions\n"
   ]
  },
  {
   "cell_type": "code",
   "execution_count": 1,
   "metadata": {},
   "outputs": [],
   "source": [
    "# We start by importing the python libraries required to solve the problems\n",
    "\n",
    "import numpy as np\n",
    "import itertools \n",
    "import matplotlib.pyplot as plt\n",
    "\n",
    "from IPython.display import display\n",
    "from IPython.display import Image"
   ]
  },
  {
   "cell_type": "markdown",
   "metadata": {},
   "source": [
    "## Probability mass function"
   ]
  },
  {
   "cell_type": "markdown",
   "metadata": {},
   "source": [
    "In simple terms a probability distribution is a function that assign probability values to the possible states of a random variable. \n",
    "There is a difference between probability distributions for discrete random variables and continuous random variables. We focus on\n",
    "discrete random variables x. In this case a probability mass function $p(x)$ is used to define the probability values. \n",
    "\n"
   ]
  },
  {
   "cell_type": "markdown",
   "metadata": {},
   "source": [
    "\n",
    "\n",
    "Let us consider the case of random vector of binary variables, $(x_1,x_2,x_3)$. For this example, the probability mass function $p(x)$ specifies a value for each possible outcome of the variables (variables configuration):\n",
    "\n",
    "\\begin{array}{l| r} \\hline\n",
    "  x  & p(x)  \\\\ \\hline\n",
    "(x_1=0,x_2=0,x_3=0)  & a_1 \\\\ \\hline\n",
    "(x_1=0,x_2=0,x_3=1)  & a_2 \\\\ \\hline\n",
    "(x_1=0,x_2=1,x_3=0)  & a_3 \\\\ \\hline\n",
    "(x_1=0,x_2=1,x_3=1)  & a_4 \\\\ \\hline\n",
    "(x_1=1,x_2=0,x_3=0)  & a_5 \\\\ \\hline\n",
    "(x_1=1,x_2=0,x_3=1)  & a_6 \\\\ \\hline\n",
    "(x_1=1,x_2=1,x_3=0)  & a_7 \\\\ \\hline\n",
    "(x_1=1,x_2=1,x_3=1)  & a_8 \\\\ \\hline\n",
    "\\end{array}\n",
    "    \n",
    "where $ 0 \\geq a_i \\leq 1 \\; \\forall i$,  and $\\sum_{i=1}^{8} a_i = 1$. \n",
    "\n"
   ]
  },
  {
   "cell_type": "markdown",
   "metadata": {},
   "source": [
    "\n",
    "In this space of probabilities, we can define the probability of an event as the sum of the probability of the configurations that satisfy this event.\n",
    "For example, to compute the probability of the event A=($x_1 + x_3 < 1$) we first determine for which configurations this  event is satisfied.\n",
    "\n"
   ]
  },
  {
   "cell_type": "markdown",
   "metadata": {},
   "source": [
    "It is only satisfied for $(x_1=0,x_2=0,x_3=0)$ and $(x_1=0,x_2=1,x_3=0)$.\n",
    "\n",
    "\n",
    "Therefore the probability of event A is  $p(A) = p(x_1=0,x_2=0,x_3=0)+p(x_1=0,x_2=1,x_3=0)=a_1+a_3$"
   ]
  },
  {
   "cell_type": "markdown",
   "metadata": {},
   "source": [
    "## Exercise 1\n",
    "\n",
    "For the probability function p(x) described above compute:\n",
    "    \n",
    "- The probability of the event B: None of the variables has value 1\n",
    "- The probability of the event C: At least two variables have value 1 \n",
    "- The of the event D: At most one variable has value 1 \n",
    "    "
   ]
  },
  {
   "cell_type": "markdown",
   "metadata": {},
   "source": [
    "$p(B) = p(x_1=0,x_2=0,x_3=0)=a_1$\n",
    "$p(C) = p(x_1=0,x_2=1,x_3=1)+p(x_1=1,x_2=0,x_3=1)+p(x_1=1,x_2=1,x_3=0)+p(x_1=1,x_2=1,x_3=1)=a_4+a_6+a_7+a_8$\n",
    "$p(D) = p(x_1=0,x_2=0,x_3=0)+p(x_1=0,x_2=0,x_3=1)+p(x_1=0,x_2=1,x_3=0)+p(x_1=1,x_2=0,x_3=0)=a_1+a_2+a_3+a_5$"
   ]
  },
  {
   "cell_type": "markdown",
   "metadata": {},
   "source": [
    "## Marginal and conditional distributions"
   ]
  },
  {
   "cell_type": "markdown",
   "metadata": {},
   "source": [
    "Given a probability mass function, the <font color='red'>marginal probability distribution</font> of a subset of random variables is the probability distribution of the variables contained in the subset. The marginal distribution is also a function that outputs the probability values for EACH Configuration of the variables in the subset. "
   ]
  },
  {
   "cell_type": "markdown",
   "metadata": {},
   "source": [
    "## Example \n",
    "\n",
    "For the distribution presented above, the marginal distribution of variable $x_1$ is:\n",
    "\n",
    "%%latex\n",
    "    \\begin{align}\n",
    "      p(x_1=0) &= a_1+a_2+a_3+a_4 \\\\    \n",
    "      p(x_1=1) &= a_5+a_6+a_7+a_8\n",
    "   \\end{align}   \n",
    "    "
   ]
  },
  {
   "cell_type": "markdown",
   "metadata": {},
   "source": [
    "## Exercise 2\n",
    "\n",
    "For the probability function $p(x)$ described above compute:\n",
    "\n",
    "- The marginal distribution of $x_2$\n",
    "    \n",
    "- The marginal distribution of $x_3$\n",
    "    \n",
    "- The marginal distribution of $(x_1,x_2)$\n",
    "    \n"
   ]
  },
  {
   "cell_type": "markdown",
   "metadata": {
    "collapsed": true
   },
   "source": [
    "\\begin{align}\n",
    "      p(x_2=0) &= a_1+a_2+a_5+a_6 \\\\    \n",
    "      p(x_2=1) &= a_3+a_4+a_7+a_8\n",
    "\\end{align}   \n",
    "\\begin{align}\n",
    "      p(x_3=0) &= a_1+a_3+a_5+a_7 \\\\    \n",
    "      p(x_3=1) &= a_2+a_4+a_6+a_8\n",
    "\\end{align}   \n",
    "\\begin{align}\n",
    "      p(x_1=0 ; x_2=0) &= a_1+a_2 \\\\  \n",
    "      p(x_1=0 ; x_2=1) &= a_3+a_4 \\\\  \n",
    "      p(x_1=1 ; x_2=0) &= a_5+a_6 \\\\  \n",
    "      p(x_1=1 ; x_2=1) &= a_7+a_8\n",
    "\\end{align}   \n",
    "\n"
   ]
  },
  {
   "cell_type": "markdown",
   "metadata": {},
   "source": [
    "The <font color='red'>conditional probability distribution</font>  of a variable $X_i$  given a variable $X_j$ is the probability distribution of of $X_i$ given that $X_j$ is known to be a particular value. The conditional probability function is represented as $p(X_i|X_j)$ and for particular values of $X_i$ and $X_j$ as $p(x_i|x_j)$."
   ]
  },
  {
   "cell_type": "markdown",
   "metadata": {},
   "source": [
    "## Example\n",
    "\n",
    "To compute the conditional distribution of $X_1$ given $X_2$, first we split  all the configurations for the different values of $X_2$\n",
    "\n",
    "When $x_2=0$\n",
    "\\begin{array}{l| r} \\hline\n",
    "  x  & p(x)  \\\\ \\hline\n",
    "(x_1=0,x_2=0,x_3=0)  & a_1 \\\\ \\hline\n",
    "(x_1=0,x_2=0,x_3=1)  & a_2 \\\\ \\hline\n",
    "(x_1=1,x_2=0,x_3=0)  & a_5 \\\\ \\hline\n",
    "(x_1=1,x_2=0,x_3=1)  & a_6 \\\\ \\hline\n",
    "\\end{array}\n",
    "    \n",
    "When $x_2=1$\n",
    "\\begin{array}{l| r} \\hline\n",
    "  x  & p(x)  \\\\ \\hline\n",
    "(x_1=0,x_2=1,x_3=0)  & a_3 \\\\ \\hline\n",
    "(x_1=0,x_2=1,x_3=1)  & a_4 \\\\ \\hline\n",
    "(x_1=1,x_2=1,x_3=0)  & a_7 \\\\ \\hline\n",
    "(x_1=1,x_2=1,x_3=1)  & a_8 \\\\ \\hline\n",
    "\\end{array}\n",
    "\n",
    "  \n"
   ]
  },
  {
   "cell_type": "code",
   "execution_count": 113,
   "metadata": {},
   "outputs": [
    {
     "data": {
      "text/latex": [
       "\n",
       "Now, por each value of $x_2$ we compute the probability distribution function of $x_1$\n",
       "\n",
       "\\begin{align}\n",
       "      p(x_1=0|x_2=0) &= \\frac{a_1+a_2}{a_1+a_2+a_5+a_6} \\\\    \n",
       "      p(x_1=1|x_2=0) &= \\frac{a_5+a_6}{a_1+a_2+a_5+a_6} \\\\  \n",
       "\n",
       "      p(x_1=0|x_2=1) &= \\frac{a_3+a_4}{a_3+a_4+a_7+a_8} \\\\    \n",
       "      p(x_1=1|x_2=1) &= \\frac{a_7+a_8}{a_3+a_4+a_7+a_8} \\\\  \n",
       "\\end{align}   "
      ],
      "text/plain": [
       "<IPython.core.display.Latex object>"
      ]
     },
     "metadata": {},
     "output_type": "display_data"
    }
   ],
   "source": [
    "%%latex\n",
    "\n",
    "Now, por each value of $x_2$ we compute the probability distribution function of $x_1$\n",
    "\n",
    "\\begin{align}\n",
    "      p(x_1=0|x_2=0) &= \\frac{a_1+a_2}{a_1+a_2+a_5+a_6} \\\\    \n",
    "      p(x_1=1|x_2=0) &= \\frac{a_5+a_6}{a_1+a_2+a_5+a_6} \\\\  \n",
    "\n",
    "      p(x_1=0|x_2=1) &= \\frac{a_3+a_4}{a_3+a_4+a_7+a_8} \\\\    \n",
    "      p(x_1=1|x_2=1) &= \\frac{a_7+a_8}{a_3+a_4+a_7+a_8} \\\\  \n",
    "\\end{align}   "
   ]
  },
  {
   "cell_type": "markdown",
   "metadata": {},
   "source": [
    "Notice, that since for each value of $x_2$ we have a different probability distribution then $p(x_1=0|x_2=0)+p(x_1=1|x_2=0)=1$, and $p(x_1=0|x_2=1)+p(x_1=1|x_2=1)=1$."
   ]
  },
  {
   "cell_type": "markdown",
   "metadata": {},
   "source": [
    "In the general case, the conditional probability $p(x_i|x_j)$ can be computed as $p(x_i|x_j)=\\frac{p(x_i,x_j)}{p(x_j)}$, where $p(x_i,x_j)$ and $p(x_j)$ are marginal distributions. "
   ]
  },
  {
   "cell_type": "markdown",
   "metadata": {},
   "source": [
    "## Exercise 3\n",
    "\n",
    "Use the previous formula of the conditional distribution to compute:\n",
    "    \n",
    "- The conditional distribution $p(x_3|x_1)$\n",
    "- The conditional distribution $p(x_2|x_1,x_3)$"
   ]
  },
  {
   "cell_type": "markdown",
   "metadata": {
    "collapsed": true
   },
   "source": [
    "\\begin{align}\n",
    "      p(x_3=0|x_1=0) &= \\frac{a_1+a_3}{a_1+a_2+a_3+a_4} \\\\    \n",
    "      p(x_3=0|x_1=1) &= \\frac{a_5+a_7}{a_5+a_6+a_7+a_8} \\\\  \n",
    "      p(x_3=1|x_1=0) &= \\frac{a_2+a_4}{a_3+a_4+a_7+a_8} \\\\    \n",
    "      p(x_3=1|x_1=1) &= \\frac{a_6+a_8}{a_5+a_6+a_7+a_8} \\\\  \n",
    "\\end{align} \n",
    "\n",
    "\\begin{align}\n",
    "      p(x_2=0|x_1=0, x_3=0) &= \\frac{a_1+a_3}{a_1+a_2+a_3+a_4} \\\\    \n",
    "      p(x_2=0|x_1=1, x_3=0) &= \\frac{a_5+a_7}{a_5+a_6+a_7+a_8} \\\\  \n",
    "      p(x_2=1|x_1=0, x_3=1) &= \\frac{a_2+a_4}{a_3+a_4+a_7+a_8} \\\\    \n",
    "      p(x_2=1|x_1=1, x_3=1) &= \\frac{a_6+a_8}{a_5+a_6+a_7+a_8} \\\\  \n",
    "\\end{align} "
   ]
  },
  {
   "cell_type": "markdown",
   "metadata": {},
   "source": [
    "## Empirical probability"
   ]
  },
  {
   "cell_type": "markdown",
   "metadata": {},
   "source": [
    "The  <font color='red'>relative frequency</font>  or  <font color='red'>empirical  probability </font> of an event is the ratio of the number of outcomes of this  event occurs  in a number of observations or trials.\n",
    "It is a common way to estimate the probabilities from observations."
   ]
  },
  {
   "cell_type": "markdown",
   "metadata": {},
   "source": [
    "## Example\n",
    "\n",
    "Let us compute the empirical probabilities of all configurations in the following sample:\n",
    " "
   ]
  },
  {
   "cell_type": "code",
   "execution_count": 117,
   "metadata": {},
   "outputs": [
    {
     "name": "stdout",
     "output_type": "stream",
     "text": [
      "[[1 0 1]\n",
      " [1 0 1]\n",
      " [1 1 1]\n",
      " [0 0 1]\n",
      " [1 0 0]\n",
      " [1 0 1]\n",
      " [1 1 1]\n",
      " [0 0 0]\n",
      " [1 0 1]\n",
      " [1 0 1]]\n"
     ]
    }
   ],
   "source": [
    "sample1 = np.array([[1,0,1],[1,0,1],[1,1,1],[0,0,1],[1,0,0],[1,0,1],[1,1,1],[0,0,0],[1,0,1],[1,0,1]])\n",
    "print(sample1)"
   ]
  },
  {
   "cell_type": "markdown",
   "metadata": {},
   "source": [
    "First, we compute the number of ocurrences for all configurations. Then, we compute the ratio dividing by the total number of observations (ten in this case) \n",
    "\n",
    "\\begin{array}{l| r|r} \\hline\n",
    "  x  & c(x) & p(x)  \\\\ \\hline\n",
    "(x_1=0,x_2=0,x_3=0)  & 1 & 1/10\\\\ \\hline\n",
    "(x_1=0,x_2=0,x_3=1)  & 1 & 1/10\\\\ \\hline\n",
    "(x_1=0,x_2=1,x_3=0)  & 0 & 0   \\\\ \\hline\n",
    "(x_1=0,x_2=1,x_3=1)  & 0 & 0 \\\\   \\hline\n",
    "(x_1=1,x_2=0,x_3=0)  & 1 & 1/10 \\\\ \\hline\n",
    "(x_1=1,x_2=0,x_3=1)  & 5 & 5/10  \\\\ \\hline\n",
    "(x_1=1,x_2=1,x_3=0)  & 0 & 0 \\\\ \\hline\n",
    "(x_1=1,x_2=1,x_3=1)  & 2 & 2/10 \\\\ \\hline\n",
    "\\end{array}\n",
    "    "
   ]
  },
  {
   "cell_type": "markdown",
   "metadata": {},
   "source": [
    "## Exercise 4 \n",
    "\n",
    "- Using the following sample, compute the empirical probabilities for all configurations (fill the table in the following cell)\n"
   ]
  },
  {
   "cell_type": "code",
   "execution_count": 119,
   "metadata": {},
   "outputs": [
    {
     "name": "stdout",
     "output_type": "stream",
     "text": [
      "[[0 0 1]\n",
      " [1 0 1]\n",
      " [1 0 0]\n",
      " [1 0 1]\n",
      " [1 0 0]\n",
      " [0 0 0]\n",
      " [0 1 0]\n",
      " [0 1 1]\n",
      " [1 0 0]\n",
      " [0 0 1]\n",
      " [1 0 0]\n",
      " [0 0 1]]\n"
     ]
    }
   ],
   "source": [
    "sample2 = np.array([[0,0,1],[1,0,1],[1,0,0],[1,0,1],[1,0,0],[0,0,0],[0,1,0],[0,1,1],[1,0,0],[0,0,1],[1,0,0],[0,0,1]])\n",
    "print(sample2)"
   ]
  },
  {
   "cell_type": "markdown",
   "metadata": {},
   "source": [
    "Fill the following table with the empirical probabilities\n",
    "\n",
    "\\begin{array}{l| r|r} \\hline\n",
    "  x  & c(x) & p(x)  \\\\ \\hline\n",
    "(x_1=0,x_2=0,x_3=0)  & 0 & 0\\\\ \\hline\n",
    "(x_1=0,x_2=0,x_3=1)  & 0 & 0\\\\ \\hline\n",
    "(x_1=0,x_2=1,x_3=0)  & 0 & 0   \\\\ \\hline\n",
    "(x_1=0,x_2=1,x_3=1)  & 0 & 0 \\\\   \\hline\n",
    "(x_1=1,x_2=0,x_3=0)  & 0 & 0 \\\\ \\hline\n",
    "(x_1=1,x_2=0,x_3=1)  & 0 & 0  \\\\ \\hline\n",
    "(x_1=1,x_2=1,x_3=0)  & 0 & 0 \\\\ \\hline\n",
    "(x_1=1,x_2=1,x_3=1)  & 0 & 0 \\\\ \\hline\n",
    "\\end{array}\n",
    "    "
   ]
  },
  {
   "cell_type": "markdown",
   "metadata": {},
   "source": [
    "## Exercise 5\n",
    "\n",
    "- Compute the marginal probability of $x_1$ from the empirical probabilities obtained from sample1\n",
    "- Compute the marginal probability of $x_3$ from the empirical probabilities obtained from sample2\n",
    "- Determine which is the most probable configuration according to empirical probabilies of sample1\n",
    "- Determine which is the most probable configuration according to empirical probabilies of sample2"
   ]
  },
  {
   "cell_type": "code",
   "execution_count": null,
   "metadata": {
    "collapsed": true
   },
   "outputs": [],
   "source": []
  },
  {
   "cell_type": "markdown",
   "metadata": {},
   "source": [
    "## Boltzmann Machines"
   ]
  },
  {
   "cell_type": "markdown",
   "metadata": {},
   "source": [
    "We use the Boltzmann Machine model since it uses an Energy function to define a probability distribution. In this model, a given configuration x has associated an energy computed using the weights and bias of the network. Based on this energy, the configuration x has an associated probability p(x). "
   ]
  },
  {
   "cell_type": "markdown",
   "metadata": {},
   "source": [
    "Below a graph representing a Boltzmann Machine with 6 units is shown. In this graph there are 2 hidden units and four visible units. Notice that in a Boltzmann Machine each node is connected to all other notes. "
   ]
  },
  {
   "cell_type": "code",
   "execution_count": 3,
   "metadata": {},
   "outputs": [
    {
     "data": {
      "image/png": "[encoded data removed]",
      "text/plain": [
       "<IPython.core.display.Image object>"
      ]
     },
     "execution_count": 3,
     "metadata": {},
     "output_type": "execute_result"
    }
   ],
   "source": [
    "i = Image(filename='images_lab6/BM_Example.png')\n",
    "i"
   ]
  },
  {
   "cell_type": "code",
   "execution_count": 5,
   "metadata": {},
   "outputs": [
    {
     "data": {
      "text/latex": [
       "\n",
       "\n",
       "Given a weight matrix $W$ and a bias vector $b=(b_v,b_h)$, the energy model of all units x=(v,h) is defined as:\n",
       "    \n",
       "    \n",
       "     \\begin{align}\n",
       "           E(v,h) &=& -\\sum_i v_ib_i  -\\sum_k h_k b_k    -\\sum_{i,j} v_iv_jw_{i,j} \\\\  \n",
       "                  &=& -\\sum_{i,k} v_ih_k w_{i,k}   -\\sum_{k,l} h_kh_lw_{k,l}\n",
       "     \\end{align}"
      ],
      "text/plain": [
       "<IPython.core.display.Latex object>"
      ]
     },
     "metadata": {},
     "output_type": "display_data"
    }
   ],
   "source": [
    "%%latex\n",
    "\n",
    "\n",
    "Given a weight matrix $W$ and a bias vector $b=(b_v,b_h)$, the energy model of all units x=(v,h) is defined as:\n",
    "    \n",
    "    \n",
    "     \\begin{align}\n",
    "           E(v,h) &=& -\\sum_i v_ib_i  -\\sum_k h_k b_k    -\\sum_{i,j} v_iv_jw_{i,j} \\\\  \n",
    "                  &=& -\\sum_{i,k} v_ih_k w_{i,k}   -\\sum_{k,l} h_kh_lw_{k,l}\n",
    "     \\end{align}"
   ]
  },
  {
   "cell_type": "markdown",
   "metadata": {},
   "source": [
    "In the expression above the first two terms correspond to the contribution of the bias, multiplying the value of each unit (visible or hidden) by its corresponding bias. \n",
    "\n",
    "\n",
    "The other three term respectively correspond to: the interactions between all visible units, the interactions between visible and hidden units, and the interactions between all hidden units. "
   ]
  },
  {
   "cell_type": "code",
   "execution_count": 122,
   "metadata": {},
   "outputs": [
    {
     "data": {
      "text/latex": [
       "\n",
       "In the Boltzmann Machine (and other models), the probability associated to each solution is computed using the Boltzmann distribution as: \n",
       "    \n",
       "    \\begin{equation}\n",
       "      p(x) =  \\frac{e^{-E(x)}}{Z}\n",
       "    \\end{equation} \n",
       "                    \n",
       "where the PARTITION FUNCTION Z is the sum of the $e^{-E(\\prime{x})}$ expression for ALL possible configurations in the space of solutions:\n",
       "    \n",
       "    \\begin{equation}\n",
       "      Z  =  \\sum_{ \\prime{x} \\in \\mathcal{X}} e^{-E(\\prime{x})}\n",
       "    \\end{equation} \n",
       "    "
      ],
      "text/plain": [
       "<IPython.core.display.Latex object>"
      ]
     },
     "metadata": {},
     "output_type": "display_data"
    }
   ],
   "source": [
    "%%latex\n",
    "\n",
    "In the Boltzmann Machine (and other models), the probability associated to each solution is computed using the Boltzmann distribution as: \n",
    "    \n",
    "    \\begin{equation}\n",
    "      p(x) =  \\frac{e^{-E(x)}}{Z}\n",
    "    \\end{equation} \n",
    "                    \n",
    "where the PARTITION FUNCTION Z is the sum of the $e^{-E(\\prime{x})}$ expression for ALL possible configurations in the space of solutions:\n",
    "    \n",
    "    \\begin{equation}\n",
    "      Z  =  \\sum_{ \\prime{x} \\in \\mathcal{X}} e^{-E(\\prime{x})}\n",
    "    \\end{equation} \n",
    "    "
   ]
  },
  {
   "cell_type": "markdown",
   "metadata": {},
   "source": [
    "Notice, that this equation means that the configurations with lowest energy have the higher probability. "
   ]
  },
  {
   "cell_type": "code",
   "execution_count": 125,
   "metadata": {},
   "outputs": [
    {
     "data": {
      "text/latex": [
       "In this lab, we will use a simplified Boltzmann machine of only THREE units and we will disregard the difference between visible and hidden units. \n",
       "For this case the Energy can be simplified as follows:\n",
       "    \n",
       "    \\begin{equation}\n",
       "      E(x_1,x_2,x_3) = - (x_1 b_1 + x_2 b_2 + x_3 b_3) - (x_1 x_2 w_{1,2}  + x_1 x_3 w_{1,3} + x_2 x_3 w_{2,3})\n",
       "    \\end{equation} \n",
       "\n",
       "but the Boltzmann distribution is computed identically.\n",
       "    \n",
       "    "
      ],
      "text/plain": [
       "<IPython.core.display.Latex object>"
      ]
     },
     "metadata": {},
     "output_type": "display_data"
    }
   ],
   "source": [
    "%%latex\n",
    "In this lab, we will use a simplified Boltzmann machine of only THREE units and we will disregard the difference between visible and hidden units. \n",
    "For this case the Energy can be simplified as follows:\n",
    "    \n",
    "    \\begin{equation}\n",
    "      E(x_1,x_2,x_3) = - (x_1 b_1 + x_2 b_2 + x_3 b_3) - (x_1 x_2 w_{1,2}  + x_1 x_3 w_{1,3} + x_2 x_3 w_{2,3})\n",
    "    \\end{equation} \n",
    "\n",
    "but the Boltzmann distribution is computed identically.\n",
    "    \n",
    "    "
   ]
  },
  {
   "cell_type": "markdown",
   "metadata": {},
   "source": [
    "## Definition of the Boltzmann model"
   ]
  },
  {
   "cell_type": "markdown",
   "metadata": {},
   "source": [
    "We  implement two functions that given a number of parameters create the weight matrix W and the vector of bias b. "
   ]
  },
  {
   "cell_type": "code",
   "execution_count": 126,
   "metadata": {
    "collapsed": true
   },
   "outputs": [],
   "source": [
    "# Function Create_Weight_Matrix receives three parameters that are used to create\n",
    "# a symmetric matrix which is the output of the function\n",
    "\n",
    "def Create_Weight_Matrix(param_1, param_2, param_3):\n",
    "    w12 = w21  = param_1\n",
    "    w13 = w31  = param_2\n",
    "    w23 = w32  = param_3\n",
    "    W = np.array([[0,w12,w13],[w21,0,w23],[w31,w32,0]])\n",
    "    return W \n",
    "\n",
    "# Function Create_Bias_Vector receives three parameters that are used to create\n",
    "# a the bias vector, which is the output of the function\n",
    "\n",
    "def Create_Bias_Vector(param_1, param_2, param_3):    \n",
    "    b1 = param_1\n",
    "    b2 = param_2\n",
    "    b3 = param_3\n",
    "    return np.array([b1,b2,b3])\n",
    "\n",
    "\n"
   ]
  },
  {
   "cell_type": "markdown",
   "metadata": {},
   "source": [
    "We will use the example used in the lecture. You can check in the slides of the lecture this example where the weight matrix and bias vector all have parameter log(2)."
   ]
  },
  {
   "cell_type": "code",
   "execution_count": 127,
   "metadata": {},
   "outputs": [
    {
     "name": "stdout",
     "output_type": "stream",
     "text": [
      "Weight matrix \n",
      " [[ 0.          0.69314718  0.69314718]\n",
      " [ 0.69314718  0.          0.69314718]\n",
      " [ 0.69314718  0.69314718  0.        ]]\n",
      "\n",
      " Bias vector \n",
      " [ 0.69314718  0.69314718  0.69314718]\n"
     ]
    }
   ],
   "source": [
    "# We use the same parameter log(2) to create the weight matrix and the bias vector of the Boltzmann Machine\n",
    "# This is only for convenience, the parameters can take arbitrary values. \n",
    "\n",
    "param_1 = param_2 = param_3 = np.log(2)\n",
    "\n",
    "# We create the Weight Matrix\n",
    "Weight_Matrix = Create_Weight_Matrix(param_1, param_2, param_3)\n",
    "print('Weight matrix \\n',Weight_Matrix)\n",
    "\n",
    "# We create the Bias Vector\n",
    "Bias_Vector = Create_Bias_Vector(param_1, param_2, param_3)\n",
    "print('\\n Bias vector \\n', Bias_Vector )"
   ]
  },
  {
   "cell_type": "markdown",
   "metadata": {},
   "source": [
    "We create two functions that, given a configuration x, a weight matrix, and a bias vector, computes the energy of the configuration $E(x)$.\n",
    "\n",
    "The two implementation compute the same function, but the second uses a more compact form and is valid for problems of any dimension $n$.  \n",
    "\n",
    "Take some time to understand these functions. \n"
   ]
  },
  {
   "cell_type": "code",
   "execution_count": 19,
   "metadata": {
    "collapsed": true
   },
   "outputs": [],
   "source": [
    "\n",
    "# For a configuration (x_1,x_2,x_3), a weight matrix W, and a bias vector, computes\n",
    "# the energy equation shown above.\n",
    "\n",
    "def  Evaluate_Energy_Simple(x,W,b):    \n",
    "    \n",
    "    #(x_1 b_1 + x_2 b_2 + x_3 b_3) \n",
    "    bias_constribution =  x[0]*b[0] + x[1]*b[1] + x[2]*b[2]\n",
    "        \n",
    "    # (x_1 x_2 w_{1,2}  + x_1 x_3 w_{1,3} + x_2 x_3 w_{2,3})\n",
    "    weight_contribution = (x[0]*x[1]*W[0,1]) + (x[0]*x[2]*W[0,2]) + (x[1]*x[2]*W[1,2])\n",
    "   \n",
    "    E = - weight_contribution - bias_constribution\n",
    "    return E \n",
    "\n",
    "\n",
    "\n",
    "def  Evaluate_Energy_General(x,W,b):\n",
    "\n",
    "    #(x_1 b_1 + x_2 b_2 + x_3 b_3)   \n",
    "    bias_constribution =  np.sum(x.transpose()*b)\n",
    "   \n",
    "    # (xWx)/2    The division by two is because the matrix is symmetric\n",
    "    #          and in the multiplication every contribution is counted twice.\n",
    "    weight_contribution = np.dot(np.dot(x,W),x)/2\n",
    "\n",
    "    E = - weight_contribution - bias_constribution\n",
    "    return E  \n",
    "    \n",
    "    "
   ]
  },
  {
   "cell_type": "markdown",
   "metadata": {},
   "source": [
    "Use the implementations above to check the energies of different configurations as those shown in the slides of the lecture. "
   ]
  },
  {
   "cell_type": "code",
   "execution_count": 21,
   "metadata": {},
   "outputs": [
    {
     "name": "stdout",
     "output_type": "stream",
     "text": [
      "Energies using simple function \n",
      " -2.07944154168\n",
      "Energies using general function \n",
      " -2.07944154168\n"
     ]
    }
   ],
   "source": [
    "\n",
    "\n",
    "x = np.array([0,1,1])\n",
    "x_E = Evaluate_Energy_Simple(x,Weight_Matrix,Bias_Vector)\n",
    "print('Energies using simple function \\n',x_E)\n",
    "\n",
    "x_E = Evaluate_Energy_General(x,Weight_Matrix,Bias_Vector)\n",
    "print('Energies using general function \\n',x_E)\n",
    "\n"
   ]
  },
  {
   "cell_type": "markdown",
   "metadata": {},
   "source": [
    "In the cell below, we use the implementations of the energy, to compute the energies for all configurations, as done in the lecture."
   ]
  },
  {
   "cell_type": "code",
   "execution_count": 22,
   "metadata": {},
   "outputs": [
    {
     "name": "stdout",
     "output_type": "stream",
     "text": [
      "Energies using simple function \n",
      " [[-0.        ]\n",
      " [-0.69314718]\n",
      " [-0.69314718]\n",
      " [-2.07944154]\n",
      " [-0.69314718]\n",
      " [-2.07944154]\n",
      " [-2.07944154]\n",
      " [-4.15888308]]\n",
      "Energies using general function \n",
      " [[-0.        ]\n",
      " [-0.69314718]\n",
      " [-0.69314718]\n",
      " [-2.07944154]\n",
      " [-0.69314718]\n",
      " [-2.07944154]\n",
      " [-2.07944154]\n",
      " [-4.15888308]]\n"
     ]
    }
   ],
   "source": [
    "all_xs = np.array([[0,0,0],[0,0,1],[0,1,0],[0,1,1],[1,0,0],[1,0,1],[1,1,0],[1,1,1]])\n",
    "all_xs_E = np.zeros((8,1))\n",
    "all_xs_E_Simple = np.zeros((8,1))\n",
    "\n",
    "for i in range(8):\n",
    "    all_xs_E[i] = Evaluate_Energy_General(all_xs[i,:],Weight_Matrix,Bias_Vector)\n",
    "    all_xs_E_Simple[i] = Evaluate_Energy_Simple(all_xs[i,:],Weight_Matrix,Bias_Vector)\n",
    "\n",
    "print('Energies using simple function \\n',all_xs_E_Simple)\n",
    "\n",
    "print('Energies using general function \\n',all_xs_E)\n"
   ]
  },
  {
   "cell_type": "markdown",
   "metadata": {},
   "source": [
    "## Exercise 6 \n",
    "\n",
    " Complete the following function that implements the computation of the partition function (Z).\n",
    " \n",
    " \n",
    " You can test the partition function by executing the following cell and comparing the result with the one shown in the Table of the lecture slides. To get the expression of the partition function, check the equations of the Boltmann distribution. \n",
    " "
   ]
  },
  {
   "cell_type": "code",
   "execution_count": 24,
   "metadata": {
    "collapsed": true
   },
   "outputs": [],
   "source": [
    "#  Using the energies of ALL configurations the Partition Function Z\n",
    "#  is computed\n",
    "\n",
    "def Compute_Partition_Function(Energies):\n",
    "\n",
    "    return Z \n",
    "    \n",
    "    "
   ]
  },
  {
   "cell_type": "code",
   "execution_count": 26,
   "metadata": {},
   "outputs": [
    {
     "name": "stdout",
     "output_type": "stream",
     "text": [
      "The value of the Partition Function is  [ 95.]\n"
     ]
    }
   ],
   "source": [
    "Z = Compute_Partition_Function(all_xs_E)\n",
    "print('The value of the Partition Function is ',Z)"
   ]
  },
  {
   "cell_type": "markdown",
   "metadata": {},
   "source": [
    "## Exercise 7 \n",
    "\n",
    " Complete the following function that implements the Boltzmann distribution.\n",
    " \n",
    " You can test implementation by executing the following cell and comparing the result with the one shown in the Table of the lecture slides. \n",
    " "
   ]
  },
  {
   "cell_type": "code",
   "execution_count": 27,
   "metadata": {
    "collapsed": true
   },
   "outputs": [],
   "source": [
    "# This function computes the Boltzmann distribution for a given energy\n",
    "\n",
    "def Compute_Boltzmann_Distribution(Energies,Z):\n",
    "    # The size of the probability vector is equal \n",
    "    # to the size of the energies\n",
    "    Probabilities = np.zeros((Energies.shape))\n",
    "    \n",
    "    # For each configuration, the corresponding probability values is computed\n",
    "    for i in range(Energies.shape[0]):\n",
    "     \n",
    "    \n",
    "    return Probabilities\n"
   ]
  },
  {
   "cell_type": "code",
   "execution_count": 67,
   "metadata": {},
   "outputs": [
    {
     "name": "stdout",
     "output_type": "stream",
     "text": [
      "The Boltzmann probability distribution is \n",
      " [[ 0.01052632]\n",
      " [ 0.02105263]\n",
      " [ 0.02105263]\n",
      " [ 0.08421053]\n",
      " [ 0.02105263]\n",
      " [ 0.08421053]\n",
      " [ 0.08421053]\n",
      " [ 0.67368421]]\n",
      "As expected, the sum of the Boltmann probability distribution is  1.0\n"
     ]
    }
   ],
   "source": [
    "# Using the energy configurations and the Partition Function\n",
    "# computes the Boltzmann distribution\n",
    "\n",
    "B_Prob = Compute_Boltzmann_Distribution(all_xs_E,Z)\n",
    "print('The Boltzmann probability distribution is \\n',B_Prob)\n",
    "print('As expected, the sum of the Boltmann probability distribution is ',np.sum(B_Prob))"
   ]
  },
  {
   "cell_type": "markdown",
   "metadata": {},
   "source": [
    "## Exercise 8\n",
    "\n",
    "Using the Boltzmann distribution B_Prob, compute:\n",
    "- The conditional distribution $p(x_1|x_2)$"
   ]
  },
  {
   "cell_type": "markdown",
   "metadata": {},
   "source": [
    "The following programs creates random Weight matrices and Bias vectors. Using these functions it is possible to define  Boltzmann Machines with different probability distributions. \n"
   ]
  },
  {
   "cell_type": "code",
   "execution_count": 86,
   "metadata": {},
   "outputs": [],
   "source": [
    "# This function creates a symmetric matrix of \n",
    "# random values and with diagonal equal zero\n",
    "def Random_Symmetric_Weight_Matrix(n):\n",
    "    # Creates a random matrix of size n\n",
    "    aux_W = np.random.randn(n,n) \n",
    "    # Guarantees the matrix is symmetric\n",
    "    W = (aux_W + aux_W.T)/2\n",
    "    # The diagonal is set to 0\n",
    "    np.fill_diagonal(W,0)\n",
    "    return(W)\n",
    "\n",
    "\n",
    "# Creates a random bias vector \n",
    "def Random_Bias_Vector(n):\n",
    "    bias = np.random.randn(1,n) \n",
    "    return bias\n",
    "\n",
    "# Creates a list with all binary vectors of size n\n",
    "def Create_Binary_Space(n):\n",
    "    all_vectors = np.array(list(map(list, itertools.product([0, 1], repeat=n))))\n",
    "\n",
    "    return all_vectors\n",
    "\n"
   ]
  },
  {
   "cell_type": "markdown",
   "metadata": {},
   "source": [
    "We generate 20 different Boltzmann distributions using random parameters for a Boltzmann Machine of $n=5$ variables."
   ]
  },
  {
   "cell_type": "code",
   "execution_count": 91,
   "metadata": {},
   "outputs": [
    {
     "data": {
      "image/png": "[encoded data removed]",
      "text/plain": [
       "<matplotlib.figure.Figure at 0x7f4592ff5ac8>"
      ]
     },
     "metadata": {},
     "output_type": "display_data"
    },
    {
     "name": "stdout",
     "output_type": "stream",
     "text": [
      "[ 1.  1.  1.  1.  1.  1.  1.  1.  1.  1.  1.  1.  1.  1.  1.  1.  1.  1.\n",
      "  1.  1.]\n"
     ]
    }
   ],
   "source": [
    "n = 5\n",
    "# vectors contains all binary vectors of n variables\n",
    "vectors = Create_Binary_Space(n)\n",
    "# n_vector is the number of such vectors 2^n\n",
    "n_vectors = vectors.shape[0]\n",
    "# In rand_xs_E we save all the energy values of a Boltzmann Machine for all vectors\n",
    "rand_xs_E = np.zeros((n_vectors))\n",
    "# Number of random distributions we are going to generate\n",
    "number_distributions = 20\n",
    "# We store all distributions in the matrix all_distributions.\n",
    "all_distributions = np.zeros((number_distributions,n_vectors))\n",
    "\n",
    "\n",
    "for j in range(number_distributions):\n",
    "    # First the random parameters are generated\n",
    "    rW = Random_Symmetric_Weight_Matrix(n)    \n",
    "    rb = Random_Bias_Vector(n)\n",
    "    # Energies of all binary configurations are evaluated with the BM\n",
    "    for i in range(n_vectors):\n",
    "        rand_xs_E[i] = Evaluate_Energy_General(vectors[i,:],rW,rb)\n",
    "    # The partition function of the BM is computed\n",
    "    Zn5 = Compute_Partition_Function(rand_xs_E)\n",
    "    # The Boltzmann distribution is computed using all energies and the BM\n",
    "    pBn5 = Compute_Boltzmann_Distribution(rand_xs_E,Zn5)\n",
    "    # We save the Boltzmann probability distribution for BM j\n",
    "    all_distributions[j,:] = pBn5\n",
    "\n",
    "# For each BM we print the probabilities of the 2^n configurations\n",
    "\n",
    "plt.imshow(all_distributions, cmap='hot', interpolation='nearest')\n",
    "plt.colorbar()  \n",
    "plt.show()\n",
    "\n",
    "#print(np.sum(all_distributions,1))\n",
    "    \n",
    "#print('Energies using general function \\n',rand_xs_E)\n",
    "#print('Boltzmann distribution for random weights and n=5 \\n',pBn5)\n",
    "#print(sum(pBn5))\n"
   ]
  },
  {
   "cell_type": "markdown",
   "metadata": {},
   "source": [
    "## Deep learning and Loss Functions\n",
    "\n",
    "The goal of some unsupervised deep neural networks (and other unsupervised ML models) is, given some data, learn a model that fits the data, i.e., it generates with a high probability that data. \n",
    "\n",
    "In the case of the Boltzmann Machine, we would like to learn the parameters of the network that maximizes the probability of the data.  \n",
    "\n",
    "One of the components of a neural network is the  <font color='red'>loss function</font> which measures the quality of a network to fit the data. "
   ]
  },
  {
   "cell_type": "markdown",
   "metadata": {},
   "source": [
    "One example of loss functions is the  <font color='red'>cross-entropy</font>. Given the probability distribution of the data $p(x)$ and an approximation $q(x)$ given by the model. The cross-entropy is defined as:\n",
    "\n",
    "%%latex\n",
    "\\begin{equation}\n",
    "   H(p,q) = -\\sum_{x} p(x)log(q(x))\n",
    "\\end{equation} \n",
    " "
   ]
  },
  {
   "cell_type": "markdown",
   "metadata": {},
   "source": [
    "## Example\n",
    "\n",
    "\\begin{array}{l| r|r|r} \\hline\n",
    "  x  & p(x) & q(x) & p(x)log(q(x)) \\\\ \\hline\n",
    "(x_1=0,x_2=0,x_3=0)  & 1/4 & 1/ 8&  1/4 log(1/8)\\\\ \\hline\n",
    "(x_1=0,x_2=0,x_3=1)  & 1/4 & 1/8 &  1/4 log(1/8) \\\\ \\hline\n",
    "(x_1=0,x_2=1,x_3=0)  & 0   & 0   &                \\\\ \\hline\n",
    "(x_1=0,x_2=1,x_3=1)  & 0   & 0   &                \\\\  \\hline\n",
    "(x_1=1,x_2=0,x_3=0)  & 1/4 & 3/8 &  1/4 log(3/8)  \\\\ \\hline\n",
    "(x_1=1,x_2=0,x_3=1)  & 1/4 &  0  &                \\\\ \\hline\n",
    "(x_1=1,x_2=1,x_3=0)  & 0   &   3/8&                \\\\ \\hline\n",
    "(x_1=1,x_2=1,x_3=1)  & 0   & 0     &                \\\\ \\hline\n",
    " \\sum                & 1   & 1     &   -(1/2 log(1/8) + 1/4 log(3/8))\\\\ \\hline\n",
    "\\end{array}\n",
    "    \n"
   ]
  },
  {
   "cell_type": "markdown",
   "metadata": {},
   "source": [
    "## Exercise 9\n",
    "\n",
    "- Generate 50 random Boltzmann Machines (n=3)\n",
    "- Among the these 50 models, finds the Boltzmann Machine that maximixes the cross-entropy with respect to the empirical distribution of sample2 computed in Exercise 4.\n",
    "\n"
   ]
  },
  {
   "cell_type": "markdown",
   "metadata": {},
   "source": [
    "## Implementation of the Univariate Marginal Distributions"
   ]
  },
  {
   "cell_type": "markdown",
   "metadata": {},
   "source": [
    "Univariate marginal distributions are marginal distributions or only one variable."
   ]
  },
  {
   "cell_type": "markdown",
   "metadata": {},
   "source": [
    " The following function implements the univariate distribution for a given variable \"var_index\", all configurations \"all_xs\", and the joint probability distribution \"probabilities\". "
   ]
  },
  {
   "cell_type": "code",
   "execution_count": 141,
   "metadata": {
    "collapsed": true
   },
   "outputs": [],
   "source": [
    "def Compute_Univariate_Marginal_Distribution(var_index,all_xs,probabilities):\n",
    "    # For a binary variable, there are two  probabilities p(xi=0) and p(xi=1)\n",
    "    u_Prob = np.array([0.0,0.0])\n",
    "    \n",
    "    # We find the configurations where xi=0 and xi=1\n",
    "    Configurations_varindex_is_0 = np.where(all_xs[:,var_index]==0)[0]\n",
    "    Configurations_varindex_is_1 = np.where(all_xs[:,var_index]==1)[0]\n",
    "     \n",
    "    # We add the probabilities corresponding to each configuration\n",
    "    u_Prob[0] = np.sum(probabilities[Configurations_varindex_is_0])    \n",
    "    u_Prob[1] = np.sum(probabilities[Configurations_varindex_is_1])\n",
    "    \n",
    "    return u_Prob\n",
    "    \n",
    "    "
   ]
  },
  {
   "cell_type": "markdown",
   "metadata": {},
   "source": [
    "We compute univariate distributions of variable $x_1$."
   ]
  },
  {
   "cell_type": "code",
   "execution_count": 143,
   "metadata": {},
   "outputs": [
    {
     "name": "stdout",
     "output_type": "stream",
     "text": [
      "The univariate probabilities p(x1) are  [ 0.13684211  0.86315789]\n"
     ]
    }
   ],
   "source": [
    "p_x1 = Compute_Univariate_Marginal_Distribution(0,all_xs,B_Prob)\n",
    "print('The univariate probabilities p(x1) are ', p_x1)"
   ]
  },
  {
   "cell_type": "markdown",
   "metadata": {},
   "source": [
    "## Exercise 10\n",
    "\n",
    " Complete the following function that implements the computation of the bivariate probability from a joint probability distribution. \n",
    " "
   ]
  },
  {
   "cell_type": "code",
   "execution_count": 1,
   "metadata": {
    "collapsed": true
   },
   "outputs": [],
   "source": [
    "def Compute_Bivariate_Marginal_Distribution(var_indices,all_xs,probabilities):\n",
    "    \n",
    "    # For a binary variable, there are four bivariate  probabilities p(xi=0,xj=0),p(xi=0,xj=1),p(xi=1,xj=0) \n",
    "    # and p(xi=1,xj=1)\n",
    "    \n",
    "    b_Prob = np.array([0.0,0.0,0.0,0.0])\n",
    "    \n",
    "    Configurations_varindices_is_00 = np.where(np.sum(all_xs[:,var_indices]==[0,0],1)==2)[0]\n",
    "    Configurations_varindices_is_11 = np.where(np.sum(all_xs[:,var_indices]==[1,1],1)==2)[0]\n",
    "    \n",
    "    b_Prob[1] = np.sum(probabilities[Configurations_varindices_is_01])\n",
    "    b_Prob[2] = np.sum(probabilities[Configurations_varindices_is_10])    \n",
    "\n",
    "    \n",
    "    return b_Prob"
   ]
  },
  {
   "cell_type": "code",
   "execution_count": 2,
   "metadata": {},
   "outputs": [
    {
     "ename": "NameError",
     "evalue": "name 'all_xs' is not defined",
     "output_type": "error",
     "traceback": [
      "\u001b[0;31m---------------------------------------------------------------------------\u001b[0m",
      "\u001b[0;31mNameError\u001b[0m                                 Traceback (most recent call last)",
      "\u001b[0;32m<ipython-input-2-2ec8c1f23a5f>\u001b[0m in \u001b[0;36m<module>\u001b[0;34m()\u001b[0m\n\u001b[1;32m      1\u001b[0m \u001b[0;31m# Computes the bivariate distribution for variables x_1 and x2\u001b[0m\u001b[0;34m\u001b[0m\u001b[0;34m\u001b[0m\u001b[0m\n\u001b[0;32m----> 2\u001b[0;31m \u001b[0mp_x1_x2\u001b[0m \u001b[0;34m=\u001b[0m \u001b[0mCompute_Bivariate_Marginal_Distribution\u001b[0m\u001b[0;34m(\u001b[0m\u001b[0;34m[\u001b[0m\u001b[0;36m0\u001b[0m\u001b[0;34m,\u001b[0m\u001b[0;36m1\u001b[0m\u001b[0;34m]\u001b[0m\u001b[0;34m,\u001b[0m\u001b[0mall_xs\u001b[0m\u001b[0;34m,\u001b[0m\u001b[0mB_Prob\u001b[0m\u001b[0;34m)\u001b[0m\u001b[0;34m\u001b[0m\u001b[0m\n\u001b[0m\u001b[1;32m      3\u001b[0m \u001b[0mprint\u001b[0m\u001b[0;34m(\u001b[0m\u001b[0mp_x1_x2\u001b[0m\u001b[0;34m)\u001b[0m\u001b[0;34m\u001b[0m\u001b[0m\n\u001b[1;32m      4\u001b[0m \u001b[0msum\u001b[0m\u001b[0;34m(\u001b[0m\u001b[0mp_x1_x2\u001b[0m\u001b[0;34m)\u001b[0m\u001b[0;34m\u001b[0m\u001b[0m\n",
      "\u001b[0;31mNameError\u001b[0m: name 'all_xs' is not defined"
     ]
    }
   ],
   "source": [
    "# Computes the bivariate distribution for variables x_1 and x2\n",
    "p_x1_x2 = Compute_Bivariate_Marginal_Distribution([0,1],all_xs,B_Prob)\n",
    "print(p_x1_x2)\n",
    "sum(p_x1_x2)"
   ]
  },
  {
   "cell_type": "code",
   "execution_count": null,
   "metadata": {
    "collapsed": true
   },
   "outputs": [],
   "source": []
  },
  {
   "cell_type": "code",
   "execution_count": null,
   "metadata": {},
   "outputs": [],
   "source": []
  },
  {
   "cell_type": "code",
   "execution_count": null,
   "metadata": {},
   "outputs": [],
   "source": []
  },
  {
   "cell_type": "code",
   "execution_count": null,
   "metadata": {
    "collapsed": true
   },
   "outputs": [],
   "source": []
  }
 ],
 "metadata": {
  "kernelspec": {
   "display_name": "Python 3",
   "language": "python",
   "name": "python3"
  },
  "language_info": {
   "codemirror_mode": {
    "name": "ipython",
    "version": 3
   },
   "file_extension": ".py",
   "mimetype": "text/x-python",
   "name": "python",
   "nbconvert_exporter": "python",
   "pygments_lexer": "ipython3",
   "version": "3.6.2"
  }
 },
 "nbformat": 4,
 "nbformat_minor": 1
}
